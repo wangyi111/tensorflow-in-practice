{
  "nbformat": 4,
  "nbformat_minor": 0,
  "metadata": {
    "accelerator": "TPU",
    "colab": {
      "name": "NLP Course - Week 3 Exercise Answer.ipynb",
      "provenance": [],
      "toc_visible": true
    },
    "kernelspec": {
      "display_name": "Python 3",
      "language": "python",
      "name": "python3"
    },
    "language_info": {
      "codemirror_mode": {
        "name": "ipython",
        "version": 3
      },
      "file_extension": ".py",
      "mimetype": "text/x-python",
      "name": "python",
      "nbconvert_exporter": "python",
      "pygments_lexer": "ipython3",
      "version": "3.7.6"
    }
  },
  "cells": [
    {
      "cell_type": "code",
      "metadata": {
        "colab_type": "code",
        "id": "zX4Kg8DUTKWO",
        "colab": {}
      },
      "source": [
        "#@title Licensed under the Apache License, Version 2.0 (the \"License\");\n",
        "# you may not use this file except in compliance with the License.\n",
        "# You may obtain a copy of the License at\n",
        "#\n",
        "# https://www.apache.org/licenses/LICENSE-2.0\n",
        "#\n",
        "# Unless required by applicable law or agreed to in writing, software\n",
        "# distributed under the License is distributed on an \"AS IS\" BASIS,\n",
        "# WITHOUT WARRANTIES OR CONDITIONS OF ANY KIND, either express or implied.\n",
        "# See the License for the specific language governing permissions and\n",
        "# limitations under the License."
      ],
      "execution_count": null,
      "outputs": []
    },
    {
      "cell_type": "markdown",
      "metadata": {
        "id": "KgcgKKQ3C5BU",
        "colab_type": "text"
      },
      "source": [
        "<a href=\"https://colab.research.google.com/github/lmoroney/dlaicourse/blob/master/TensorFlow%20In%20Practice/Course%203%20-%20NLP/NLP%20Course%20-%20Week%203%20Exercise%20Answer.ipynb\" target=\"_parent\"><img src=\"https://colab.research.google.com/assets/colab-badge.svg\" alt=\"Open In Colab\"/></a>"
      ]
    },
    {
      "cell_type": "code",
      "metadata": {
        "colab_type": "code",
        "id": "hmA6EzkQJ5jt",
        "colab": {}
      },
      "source": [
        "import json\n",
        "import tensorflow as tf\n",
        "import csv\n",
        "import random\n",
        "import numpy as np\n",
        "\n",
        "from tensorflow.keras.preprocessing.text import Tokenizer\n",
        "from tensorflow.keras.preprocessing.sequence import pad_sequences\n",
        "from tensorflow.keras.utils import to_categorical\n",
        "from tensorflow.keras import regularizers\n",
        "\n",
        "\n",
        "embedding_dim = 100\n",
        "max_length = 16\n",
        "trunc_type='post'\n",
        "padding_type='post'\n",
        "oov_tok = \"<OOV>\"\n",
        "training_size=160000\n",
        "test_portion=.1\n",
        "\n",
        "corpus = []\n"
      ],
      "execution_count": 1,
      "outputs": []
    },
    {
      "cell_type": "code",
      "metadata": {
        "colab_type": "code",
        "id": "bM0l_dORKqE0",
        "colab": {
          "base_uri": "https://localhost:8080/",
          "height": 228
        },
        "outputId": "300b276c-4eff-45a3-a53f-ab15f2e9f35b"
      },
      "source": [
        "# Note that I cleaned the Stanford dataset to remove LATIN1 encoding to make it easier for Python CSV reader\n",
        "# You can do that yourself with:\n",
        "# iconv -f LATIN1 -t UTF8 training.1600000.processed.noemoticon.csv -o training_cleaned.csv\n",
        "# I then hosted it on my site to make it easier to use in this notebook\n",
        "\n",
        "!wget --no-check-certificate \\\n",
        "    https://storage.googleapis.com/laurencemoroney-blog.appspot.com/training_cleaned.csv \\\n",
        "    -O /tmp/training_cleaned.csv\n",
        "\n",
        "num_sentences = 0\n",
        "\n",
        "with open(\"/tmp/training_cleaned.csv\") as csvfile:\n",
        "    reader = csv.reader(csvfile, delimiter=',')\n",
        "    for row in reader:\n",
        "        list_item=[]\n",
        "        list_item.append(row[5])\n",
        "        this_label=row[0]\n",
        "        if this_label=='0':\n",
        "            list_item.append(0)\n",
        "        else:\n",
        "            list_item.append(1)\n",
        "        num_sentences = num_sentences + 1\n",
        "        corpus.append(list_item)\n"
      ],
      "execution_count": 2,
      "outputs": [
        {
          "output_type": "stream",
          "text": [
            "--2020-08-12 14:59:26--  https://storage.googleapis.com/laurencemoroney-blog.appspot.com/training_cleaned.csv\n",
            "Resolving storage.googleapis.com (storage.googleapis.com)... 74.125.202.128, 172.217.219.128, 74.125.129.128, ...\n",
            "Connecting to storage.googleapis.com (storage.googleapis.com)|74.125.202.128|:443... connected.\n",
            "HTTP request sent, awaiting response... 200 OK\n",
            "Length: 238942690 (228M) [application/octet-stream]\n",
            "Saving to: ‘/tmp/training_cleaned.csv’\n",
            "\n",
            "/tmp/training_clean 100%[===================>] 227.87M  57.0MB/s    in 4.0s    \n",
            "\n",
            "2020-08-12 14:59:30 (57.0 MB/s) - ‘/tmp/training_cleaned.csv’ saved [238942690/238942690]\n",
            "\n"
          ],
          "name": "stdout"
        }
      ]
    },
    {
      "cell_type": "code",
      "metadata": {
        "colab_type": "code",
        "id": "3kxblBUjEUX-",
        "colab": {
          "base_uri": "https://localhost:8080/",
          "height": 89
        },
        "outputId": "ebe1d94d-bc13-4bc4-dea3-74cec884643f"
      },
      "source": [
        "print(num_sentences)\n",
        "print(len(corpus))\n",
        "print(corpus[1])\n",
        "\n",
        "# Expected Output:\n",
        "# 1600000\n",
        "# 1600000\n",
        "# [\"is upset that he can't update his Facebook by texting it... and might cry as a result  School today also. Blah!\", 0]"
      ],
      "execution_count": 3,
      "outputs": [
        {
          "output_type": "stream",
          "text": [
            "1600000\n",
            "1600000\n",
            "[\"is upset that he can't update his Facebook by texting it... and might cry as a result  School today also. Blah!\", 0]\n"
          ],
          "name": "stdout"
        }
      ]
    },
    {
      "cell_type": "code",
      "metadata": {
        "colab_type": "code",
        "id": "ohOGz24lsNAD",
        "colab": {}
      },
      "source": [
        "sentences=[]\n",
        "labels=[]\n",
        "random.shuffle(corpus)\n",
        "for x in range(training_size):\n",
        "    sentences.append(corpus[x][0])\n",
        "    labels.append(corpus[x][1])\n",
        "\n",
        "\n",
        "tokenizer = Tokenizer()\n",
        "tokenizer.fit_on_texts(sentences)\n",
        "\n",
        "word_index = tokenizer.word_index\n",
        "vocab_size=len(word_index)\n",
        "\n",
        "sequences = tokenizer.texts_to_sequences(sentences)\n",
        "padded = pad_sequences(sequences, maxlen=max_length, padding=padding_type, truncating=trunc_type)\n",
        "\n",
        "split = int(test_portion * training_size)\n",
        "\n",
        "test_sequences = padded[0:split]\n",
        "training_sequences = padded[split:training_size]\n",
        "test_labels = labels[0:split]\n",
        "training_labels = labels[split:training_size]"
      ],
      "execution_count": 4,
      "outputs": []
    },
    {
      "cell_type": "code",
      "metadata": {
        "colab_type": "code",
        "id": "gIrtRem1En3N",
        "colab": {
          "base_uri": "https://localhost:8080/",
          "height": 52
        },
        "outputId": "ef258aab-55c2-4d90-d1ca-eca95ef6a4f6"
      },
      "source": [
        "print(vocab_size)\n",
        "print(word_index['i'])\n",
        "# Expected Output\n",
        "# 138858\n",
        "# 1"
      ],
      "execution_count": 5,
      "outputs": [
        {
          "output_type": "stream",
          "text": [
            "138634\n",
            "1\n"
          ],
          "name": "stdout"
        }
      ]
    },
    {
      "cell_type": "code",
      "metadata": {
        "colab_type": "code",
        "id": "C1zdgJkusRh0",
        "colab": {
          "base_uri": "https://localhost:8080/",
          "height": 228
        },
        "outputId": "8547c676-300b-4aad-a916-5914ec0d9d29"
      },
      "source": [
        "# Note this is the 100 dimension version of GloVe from Stanford\n",
        "# I unzipped and hosted it on my site to make this notebook easier\n",
        "!wget --no-check-certificate \\\n",
        "    https://storage.googleapis.com/laurencemoroney-blog.appspot.com/glove.6B.100d.txt \\\n",
        "    -O /tmp/glove.6B.100d.txt\n",
        "embeddings_index = {};\n",
        "with open('/tmp/glove.6B.100d.txt') as f:\n",
        "    for line in f:\n",
        "        values = line.split();\n",
        "        word = values[0];\n",
        "        coefs = np.asarray(values[1:], dtype='float32');\n",
        "        embeddings_index[word] = coefs;\n",
        "\n",
        "embeddings_matrix = np.zeros((vocab_size+1, embedding_dim));\n",
        "for word, i in word_index.items():\n",
        "    embedding_vector = embeddings_index.get(word);\n",
        "    if embedding_vector is not None:\n",
        "        embeddings_matrix[i] = embedding_vector;"
      ],
      "execution_count": 6,
      "outputs": [
        {
          "output_type": "stream",
          "text": [
            "--2020-08-12 15:00:05--  https://storage.googleapis.com/laurencemoroney-blog.appspot.com/glove.6B.100d.txt\n",
            "Resolving storage.googleapis.com (storage.googleapis.com)... 108.177.111.128, 74.125.126.128, 74.125.202.128, ...\n",
            "Connecting to storage.googleapis.com (storage.googleapis.com)|108.177.111.128|:443... connected.\n",
            "HTTP request sent, awaiting response... 200 OK\n",
            "Length: 347116733 (331M) [text/plain]\n",
            "Saving to: ‘/tmp/glove.6B.100d.txt’\n",
            "\n",
            "/tmp/glove.6B.100d. 100%[===================>] 331.04M  75.2MB/s    in 5.4s    \n",
            "\n",
            "2020-08-12 15:00:11 (60.9 MB/s) - ‘/tmp/glove.6B.100d.txt’ saved [347116733/347116733]\n",
            "\n"
          ],
          "name": "stdout"
        }
      ]
    },
    {
      "cell_type": "code",
      "metadata": {
        "colab_type": "code",
        "id": "71NLk_lpFLNt",
        "colab": {
          "base_uri": "https://localhost:8080/",
          "height": 35
        },
        "outputId": "e5a68597-6d02-46de-a94c-f42d6ee83861"
      },
      "source": [
        "print(len(embeddings_matrix))\n",
        "# Expected Output\n",
        "# 138859"
      ],
      "execution_count": 7,
      "outputs": [
        {
          "output_type": "stream",
          "text": [
            "138635\n"
          ],
          "name": "stdout"
        }
      ]
    },
    {
      "cell_type": "code",
      "metadata": {
        "colab_type": "code",
        "id": "iKKvbuEBOGFz",
        "colab": {
          "base_uri": "https://localhost:8080/",
          "height": 1000
        },
        "outputId": "caf978aa-df4a-4468-9099-280642ea2153"
      },
      "source": [
        "model = tf.keras.Sequential([\n",
        "    tf.keras.layers.Embedding(vocab_size+1, embedding_dim, input_length=max_length, weights=[embeddings_matrix], trainable=False),\n",
        "    tf.keras.layers.Dropout(0.2),\n",
        "    tf.keras.layers.Conv1D(64, 5, activation='relu'),\n",
        "    tf.keras.layers.MaxPooling1D(pool_size=4),\n",
        "    tf.keras.layers.LSTM(64),\n",
        "    tf.keras.layers.Dense(1, activation='sigmoid')\n",
        "])\n",
        "model.compile(loss='binary_crossentropy',optimizer='adam',metrics=['accuracy'])\n",
        "model.summary()\n",
        "\n",
        "num_epochs = 50\n",
        "\n",
        "training_padded = np.array(training_sequences)\n",
        "training_labels = np.array(training_labels)\n",
        "testing_padded = np.array(test_sequences)\n",
        "testing_labels = np.array(test_labels)\n",
        "\n",
        "history = model.fit(training_padded, training_labels, epochs=num_epochs, validation_data=(testing_padded, testing_labels), verbose=2)\n",
        "\n",
        "print(\"Training Complete\")"
      ],
      "execution_count": 8,
      "outputs": [
        {
          "output_type": "stream",
          "text": [
            "Model: \"sequential\"\n",
            "_________________________________________________________________\n",
            "Layer (type)                 Output Shape              Param #   \n",
            "=================================================================\n",
            "embedding (Embedding)        (None, 16, 100)           13863500  \n",
            "_________________________________________________________________\n",
            "dropout (Dropout)            (None, 16, 100)           0         \n",
            "_________________________________________________________________\n",
            "conv1d (Conv1D)              (None, 12, 64)            32064     \n",
            "_________________________________________________________________\n",
            "max_pooling1d (MaxPooling1D) (None, 3, 64)             0         \n",
            "_________________________________________________________________\n",
            "lstm (LSTM)                  (None, 64)                33024     \n",
            "_________________________________________________________________\n",
            "dense (Dense)                (None, 1)                 65        \n",
            "=================================================================\n",
            "Total params: 13,928,653\n",
            "Trainable params: 65,153\n",
            "Non-trainable params: 13,863,500\n",
            "_________________________________________________________________\n",
            "Epoch 1/50\n",
            "4500/4500 - 32s - loss: 0.5685 - accuracy: 0.6977 - val_loss: 0.5221 - val_accuracy: 0.7384\n",
            "Epoch 2/50\n",
            "4500/4500 - 30s - loss: 0.5265 - accuracy: 0.7316 - val_loss: 0.5178 - val_accuracy: 0.7387\n",
            "Epoch 3/50\n",
            "4500/4500 - 30s - loss: 0.5092 - accuracy: 0.7441 - val_loss: 0.5051 - val_accuracy: 0.7507\n",
            "Epoch 4/50\n",
            "4500/4500 - 29s - loss: 0.4978 - accuracy: 0.7522 - val_loss: 0.4997 - val_accuracy: 0.7552\n",
            "Epoch 5/50\n",
            "4500/4500 - 28s - loss: 0.4908 - accuracy: 0.7560 - val_loss: 0.5040 - val_accuracy: 0.7548\n",
            "Epoch 6/50\n",
            "4500/4500 - 28s - loss: 0.4832 - accuracy: 0.7624 - val_loss: 0.5073 - val_accuracy: 0.7459\n",
            "Epoch 7/50\n",
            "4500/4500 - 29s - loss: 0.4785 - accuracy: 0.7636 - val_loss: 0.5001 - val_accuracy: 0.7556\n",
            "Epoch 8/50\n",
            "4500/4500 - 29s - loss: 0.4715 - accuracy: 0.7700 - val_loss: 0.5018 - val_accuracy: 0.7564\n",
            "Epoch 9/50\n",
            "4500/4500 - 29s - loss: 0.4684 - accuracy: 0.7712 - val_loss: 0.5042 - val_accuracy: 0.7578\n",
            "Epoch 10/50\n",
            "4500/4500 - 29s - loss: 0.4636 - accuracy: 0.7724 - val_loss: 0.5064 - val_accuracy: 0.7546\n",
            "Epoch 11/50\n",
            "4500/4500 - 29s - loss: 0.4597 - accuracy: 0.7765 - val_loss: 0.5021 - val_accuracy: 0.7553\n",
            "Epoch 12/50\n",
            "4500/4500 - 28s - loss: 0.4575 - accuracy: 0.7769 - val_loss: 0.5074 - val_accuracy: 0.7531\n",
            "Epoch 13/50\n",
            "4500/4500 - 29s - loss: 0.4553 - accuracy: 0.7783 - val_loss: 0.5058 - val_accuracy: 0.7513\n",
            "Epoch 14/50\n",
            "4500/4500 - 28s - loss: 0.4528 - accuracy: 0.7798 - val_loss: 0.5132 - val_accuracy: 0.7522\n",
            "Epoch 15/50\n",
            "4500/4500 - 28s - loss: 0.4501 - accuracy: 0.7818 - val_loss: 0.5160 - val_accuracy: 0.7519\n",
            "Epoch 16/50\n",
            "4500/4500 - 28s - loss: 0.4480 - accuracy: 0.7840 - val_loss: 0.5123 - val_accuracy: 0.7527\n",
            "Epoch 17/50\n",
            "4500/4500 - 28s - loss: 0.4473 - accuracy: 0.7846 - val_loss: 0.5074 - val_accuracy: 0.7542\n",
            "Epoch 18/50\n",
            "4500/4500 - 28s - loss: 0.4438 - accuracy: 0.7853 - val_loss: 0.5144 - val_accuracy: 0.7515\n",
            "Epoch 19/50\n",
            "4500/4500 - 27s - loss: 0.4435 - accuracy: 0.7854 - val_loss: 0.5120 - val_accuracy: 0.7527\n",
            "Epoch 20/50\n",
            "4500/4500 - 28s - loss: 0.4432 - accuracy: 0.7865 - val_loss: 0.5114 - val_accuracy: 0.7509\n",
            "Epoch 21/50\n",
            "4500/4500 - 27s - loss: 0.4412 - accuracy: 0.7873 - val_loss: 0.5131 - val_accuracy: 0.7516\n",
            "Epoch 22/50\n",
            "4500/4500 - 28s - loss: 0.4394 - accuracy: 0.7878 - val_loss: 0.5154 - val_accuracy: 0.7521\n",
            "Epoch 23/50\n",
            "4500/4500 - 28s - loss: 0.4386 - accuracy: 0.7885 - val_loss: 0.5120 - val_accuracy: 0.7489\n",
            "Epoch 24/50\n",
            "4500/4500 - 27s - loss: 0.4377 - accuracy: 0.7882 - val_loss: 0.5148 - val_accuracy: 0.7511\n",
            "Epoch 25/50\n",
            "4500/4500 - 28s - loss: 0.4366 - accuracy: 0.7906 - val_loss: 0.5172 - val_accuracy: 0.7549\n",
            "Epoch 26/50\n",
            "4500/4500 - 27s - loss: 0.4357 - accuracy: 0.7908 - val_loss: 0.5180 - val_accuracy: 0.7465\n",
            "Epoch 27/50\n",
            "4500/4500 - 28s - loss: 0.4351 - accuracy: 0.7915 - val_loss: 0.5160 - val_accuracy: 0.7513\n",
            "Epoch 28/50\n",
            "4500/4500 - 28s - loss: 0.4359 - accuracy: 0.7910 - val_loss: 0.5223 - val_accuracy: 0.7526\n",
            "Epoch 29/50\n",
            "4500/4500 - 27s - loss: 0.4345 - accuracy: 0.7906 - val_loss: 0.5183 - val_accuracy: 0.7525\n",
            "Epoch 30/50\n",
            "4500/4500 - 28s - loss: 0.4360 - accuracy: 0.7897 - val_loss: 0.5172 - val_accuracy: 0.7529\n",
            "Epoch 31/50\n",
            "4500/4500 - 28s - loss: 0.4335 - accuracy: 0.7915 - val_loss: 0.5201 - val_accuracy: 0.7462\n",
            "Epoch 32/50\n",
            "4500/4500 - 28s - loss: 0.4346 - accuracy: 0.7915 - val_loss: 0.5231 - val_accuracy: 0.7476\n",
            "Epoch 33/50\n",
            "4500/4500 - 28s - loss: 0.4311 - accuracy: 0.7938 - val_loss: 0.5233 - val_accuracy: 0.7478\n",
            "Epoch 34/50\n",
            "4500/4500 - 28s - loss: 0.4319 - accuracy: 0.7933 - val_loss: 0.5224 - val_accuracy: 0.7496\n",
            "Epoch 35/50\n",
            "4500/4500 - 28s - loss: 0.4309 - accuracy: 0.7922 - val_loss: 0.5278 - val_accuracy: 0.7481\n",
            "Epoch 36/50\n",
            "4500/4500 - 29s - loss: 0.4297 - accuracy: 0.7946 - val_loss: 0.5318 - val_accuracy: 0.7504\n",
            "Epoch 37/50\n",
            "4500/4500 - 28s - loss: 0.4310 - accuracy: 0.7925 - val_loss: 0.5210 - val_accuracy: 0.7498\n",
            "Epoch 38/50\n",
            "4500/4500 - 28s - loss: 0.4298 - accuracy: 0.7941 - val_loss: 0.5260 - val_accuracy: 0.7514\n",
            "Epoch 39/50\n",
            "4500/4500 - 28s - loss: 0.4295 - accuracy: 0.7950 - val_loss: 0.5257 - val_accuracy: 0.7513\n",
            "Epoch 40/50\n",
            "4500/4500 - 28s - loss: 0.4296 - accuracy: 0.7944 - val_loss: 0.5238 - val_accuracy: 0.7518\n",
            "Epoch 41/50\n",
            "4500/4500 - 28s - loss: 0.4287 - accuracy: 0.7942 - val_loss: 0.5221 - val_accuracy: 0.7497\n",
            "Epoch 42/50\n",
            "4500/4500 - 28s - loss: 0.4294 - accuracy: 0.7941 - val_loss: 0.5240 - val_accuracy: 0.7491\n",
            "Epoch 43/50\n",
            "4500/4500 - 28s - loss: 0.4291 - accuracy: 0.7938 - val_loss: 0.5262 - val_accuracy: 0.7489\n",
            "Epoch 44/50\n",
            "4500/4500 - 28s - loss: 0.4268 - accuracy: 0.7965 - val_loss: 0.5262 - val_accuracy: 0.7483\n",
            "Epoch 45/50\n",
            "4500/4500 - 28s - loss: 0.4278 - accuracy: 0.7952 - val_loss: 0.5292 - val_accuracy: 0.7503\n",
            "Epoch 46/50\n",
            "4500/4500 - 27s - loss: 0.4278 - accuracy: 0.7953 - val_loss: 0.5225 - val_accuracy: 0.7499\n",
            "Epoch 47/50\n",
            "4500/4500 - 29s - loss: 0.4278 - accuracy: 0.7952 - val_loss: 0.5248 - val_accuracy: 0.7488\n",
            "Epoch 48/50\n",
            "4500/4500 - 28s - loss: 0.4267 - accuracy: 0.7966 - val_loss: 0.5307 - val_accuracy: 0.7441\n",
            "Epoch 49/50\n",
            "4500/4500 - 28s - loss: 0.4277 - accuracy: 0.7956 - val_loss: 0.5252 - val_accuracy: 0.7477\n",
            "Epoch 50/50\n",
            "4500/4500 - 29s - loss: 0.4254 - accuracy: 0.7969 - val_loss: 0.5242 - val_accuracy: 0.7506\n",
            "Training Complete\n"
          ],
          "name": "stdout"
        }
      ]
    },
    {
      "cell_type": "code",
      "metadata": {
        "colab_type": "code",
        "id": "qxju4ItJKO8F",
        "colab": {
          "base_uri": "https://localhost:8080/",
          "height": 608
        },
        "outputId": "e487f7b7-f55a-4545-ae41-786343746022"
      },
      "source": [
        "import matplotlib.image  as mpimg\n",
        "import matplotlib.pyplot as plt\n",
        "\n",
        "#-----------------------------------------------------------\n",
        "# Retrieve a list of list results on training and test data\n",
        "# sets for each training epoch\n",
        "#-----------------------------------------------------------\n",
        "acc=history.history['accuracy']\n",
        "val_acc=history.history['val_accuracy']\n",
        "loss=history.history['loss']\n",
        "val_loss=history.history['val_loss']\n",
        "\n",
        "epochs=range(len(acc)) # Get number of epochs\n",
        "\n",
        "#------------------------------------------------\n",
        "# Plot training and validation accuracy per epoch\n",
        "#------------------------------------------------\n",
        "plt.plot(epochs, acc, 'r')\n",
        "plt.plot(epochs, val_acc, 'b')\n",
        "plt.title('Training and validation accuracy')\n",
        "plt.xlabel(\"Epochs\")\n",
        "plt.ylabel(\"Accuracy\")\n",
        "plt.legend([\"Accuracy\", \"Validation Accuracy\"])\n",
        "\n",
        "plt.figure()\n",
        "\n",
        "#------------------------------------------------\n",
        "# Plot training and validation loss per epoch\n",
        "#------------------------------------------------\n",
        "plt.plot(epochs, loss, 'r')\n",
        "plt.plot(epochs, val_loss, 'b')\n",
        "plt.title('Training and validation loss')\n",
        "plt.xlabel(\"Epochs\")\n",
        "plt.ylabel(\"Loss\")\n",
        "plt.legend([\"Loss\", \"Validation Loss\"])\n",
        "\n",
        "plt.figure()\n",
        "\n",
        "\n",
        "# Expected Output\n",
        "# A chart where the validation loss does not increase sharply!"
      ],
      "execution_count": 9,
      "outputs": [
        {
          "output_type": "execute_result",
          "data": {
            "text/plain": [
              "<Figure size 432x288 with 0 Axes>"
            ]
          },
          "metadata": {
            "tags": []
          },
          "execution_count": 9
        },
        {
          "output_type": "display_data",
          "data": {
            "image/png": "[encoded data removed]",
            "text/plain": [
              "<Figure size 432x288 with 1 Axes>"
            ]
          },
          "metadata": {
            "tags": [],
            "needs_background": "light"
          }
        },
        {
          "output_type": "display_data",
          "data": {
            "image/png": "[encoded data removed]",
            "text/plain": [
              "<Figure size 432x288 with 1 Axes>"
            ]
          },
          "metadata": {
            "tags": [],
            "needs_background": "light"
          }
        },
        {
          "output_type": "display_data",
          "data": {
            "text/plain": [
              "<Figure size 432x288 with 0 Axes>"
            ]
          },
          "metadata": {
            "tags": []
          }
        }
      ]
    }
  ]
}