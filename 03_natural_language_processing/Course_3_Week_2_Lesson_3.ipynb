{
  "nbformat": 4,
  "nbformat_minor": 0,
  "metadata": {
    "accelerator": "GPU",
    "colab": {
      "name": "Course 3 - Week 2 - Lesson 3.ipynb",
      "provenance": [],
      "collapsed_sections": [],
      "toc_visible": true
    },
    "kernelspec": {
      "display_name": "Python 3",
      "language": "python",
      "name": "python3"
    },
    "language_info": {
      "codemirror_mode": {
        "name": "ipython",
        "version": 3
      },
      "file_extension": ".py",
      "mimetype": "text/x-python",
      "name": "python",
      "nbconvert_exporter": "python",
      "pygments_lexer": "ipython3",
      "version": "3.7.6"
    },
    "widgets": {
      "application/vnd.jupyter.widget-state+json": {
        "1394c9b497ef495ab571eab69c66fddc": {
          "model_module": "@jupyter-widgets/controls",
          "model_name": "HBoxModel",
          "state": {
            "_view_name": "HBoxView",
            "_dom_classes": [],
            "_model_name": "HBoxModel",
            "_view_module": "@jupyter-widgets/controls",
            "_model_module_version": "1.5.0",
            "_view_count": null,
            "_view_module_version": "1.5.0",
            "box_style": "",
            "layout": "IPY_MODEL_cac55fcfe7b247b2a64f51ef64b31592",
            "_model_module": "@jupyter-widgets/controls",
            "children": [
              "IPY_MODEL_d8dd1c90e0104c15b6e08bcbc65b63a2",
              "IPY_MODEL_58344ce33e3f4eabbfd457e0c1a35151"
            ]
          }
        },
        "cac55fcfe7b247b2a64f51ef64b31592": {
          "model_module": "@jupyter-widgets/base",
          "model_name": "LayoutModel",
          "state": {
            "_view_name": "LayoutView",
            "grid_template_rows": null,
            "right": null,
            "justify_content": null,
            "_view_module": "@jupyter-widgets/base",
            "overflow": null,
            "_model_module_version": "1.2.0",
            "_view_count": null,
            "flex_flow": null,
            "width": null,
            "min_width": null,
            "border": null,
            "align_items": null,
            "bottom": null,
            "_model_module": "@jupyter-widgets/base",
            "top": null,
            "grid_column": null,
            "overflow_y": null,
            "overflow_x": null,
            "grid_auto_flow": null,
            "grid_area": null,
            "grid_template_columns": null,
            "flex": null,
            "_model_name": "LayoutModel",
            "justify_items": null,
            "grid_row": null,
            "max_height": null,
            "align_content": null,
            "visibility": null,
            "align_self": null,
            "height": null,
            "min_height": null,
            "padding": null,
            "grid_auto_rows": null,
            "grid_gap": null,
            "max_width": null,
            "order": null,
            "_view_module_version": "1.2.0",
            "grid_template_areas": null,
            "object_position": null,
            "object_fit": null,
            "grid_auto_columns": null,
            "margin": null,
            "display": null,
            "left": null
          }
        },
        "d8dd1c90e0104c15b6e08bcbc65b63a2": {
          "model_module": "@jupyter-widgets/controls",
          "model_name": "FloatProgressModel",
          "state": {
            "_view_name": "ProgressView",
            "style": "IPY_MODEL_6082a0a9219d4d63a58bacaaba2b1aba",
            "_dom_classes": [],
            "description": "Dl Completed...: 100%",
            "_model_name": "FloatProgressModel",
            "bar_style": "success",
            "max": 1,
            "_view_module": "@jupyter-widgets/controls",
            "_model_module_version": "1.5.0",
            "value": 1,
            "_view_count": null,
            "_view_module_version": "1.5.0",
            "orientation": "horizontal",
            "min": 0,
            "description_tooltip": null,
            "_model_module": "@jupyter-widgets/controls",
            "layout": "IPY_MODEL_fa98d15d75b145f386a3ca67a903e469"
          }
        },
        "58344ce33e3f4eabbfd457e0c1a35151": {
          "model_module": "@jupyter-widgets/controls",
          "model_name": "HTMLModel",
          "state": {
            "_view_name": "HTMLView",
            "style": "IPY_MODEL_86cf64dd4b6540fd90de853c8cbb5f3d",
            "_dom_classes": [],
            "description": "",
            "_model_name": "HTMLModel",
            "placeholder": "​",
            "_view_module": "@jupyter-widgets/controls",
            "_model_module_version": "1.5.0",
            "value": " 1/1 [00:02&lt;00:00,  2.92s/ url]",
            "_view_count": null,
            "_view_module_version": "1.5.0",
            "description_tooltip": null,
            "_model_module": "@jupyter-widgets/controls",
            "layout": "IPY_MODEL_dc3e98e45ec04202b4e3c4b7808dd31e"
          }
        },
        "6082a0a9219d4d63a58bacaaba2b1aba": {
          "model_module": "@jupyter-widgets/controls",
          "model_name": "ProgressStyleModel",
          "state": {
            "_view_name": "StyleView",
            "_model_name": "ProgressStyleModel",
            "description_width": "initial",
            "_view_module": "@jupyter-widgets/base",
            "_model_module_version": "1.5.0",
            "_view_count": null,
            "_view_module_version": "1.2.0",
            "bar_color": null,
            "_model_module": "@jupyter-widgets/controls"
          }
        },
        "fa98d15d75b145f386a3ca67a903e469": {
          "model_module": "@jupyter-widgets/base",
          "model_name": "LayoutModel",
          "state": {
            "_view_name": "LayoutView",
            "grid_template_rows": null,
            "right": null,
            "justify_content": null,
            "_view_module": "@jupyter-widgets/base",
            "overflow": null,
            "_model_module_version": "1.2.0",
            "_view_count": null,
            "flex_flow": null,
            "width": null,
            "min_width": null,
            "border": null,
            "align_items": null,
            "bottom": null,
            "_model_module": "@jupyter-widgets/base",
            "top": null,
            "grid_column": null,
            "overflow_y": null,
            "overflow_x": null,
            "grid_auto_flow": null,
            "grid_area": null,
            "grid_template_columns": null,
            "flex": null,
            "_model_name": "LayoutModel",
            "justify_items": null,
            "grid_row": null,
            "max_height": null,
            "align_content": null,
            "visibility": null,
            "align_self": null,
            "height": null,
            "min_height": null,
            "padding": null,
            "grid_auto_rows": null,
            "grid_gap": null,
            "max_width": null,
            "order": null,
            "_view_module_version": "1.2.0",
            "grid_template_areas": null,
            "object_position": null,
            "object_fit": null,
            "grid_auto_columns": null,
            "margin": null,
            "display": null,
            "left": null
          }
        },
        "86cf64dd4b6540fd90de853c8cbb5f3d": {
          "model_module": "@jupyter-widgets/controls",
          "model_name": "DescriptionStyleModel",
          "state": {
            "_view_name": "StyleView",
            "_model_name": "DescriptionStyleModel",
            "description_width": "",
            "_view_module": "@jupyter-widgets/base",
            "_model_module_version": "1.5.0",
            "_view_count": null,
            "_view_module_version": "1.2.0",
            "_model_module": "@jupyter-widgets/controls"
          }
        },
        "dc3e98e45ec04202b4e3c4b7808dd31e": {
          "model_module": "@jupyter-widgets/base",
          "model_name": "LayoutModel",
          "state": {
            "_view_name": "LayoutView",
            "grid_template_rows": null,
            "right": null,
            "justify_content": null,
            "_view_module": "@jupyter-widgets/base",
            "overflow": null,
            "_model_module_version": "1.2.0",
            "_view_count": null,
            "flex_flow": null,
            "width": null,
            "min_width": null,
            "border": null,
            "align_items": null,
            "bottom": null,
            "_model_module": "@jupyter-widgets/base",
            "top": null,
            "grid_column": null,
            "overflow_y": null,
            "overflow_x": null,
            "grid_auto_flow": null,
            "grid_area": null,
            "grid_template_columns": null,
            "flex": null,
            "_model_name": "LayoutModel",
            "justify_items": null,
            "grid_row": null,
            "max_height": null,
            "align_content": null,
            "visibility": null,
            "align_self": null,
            "height": null,
            "min_height": null,
            "padding": null,
            "grid_auto_rows": null,
            "grid_gap": null,
            "max_width": null,
            "order": null,
            "_view_module_version": "1.2.0",
            "grid_template_areas": null,
            "object_position": null,
            "object_fit": null,
            "grid_auto_columns": null,
            "margin": null,
            "display": null,
            "left": null
          }
        },
        "016b034db41c41e493db6833a0da333f": {
          "model_module": "@jupyter-widgets/controls",
          "model_name": "HBoxModel",
          "state": {
            "_view_name": "HBoxView",
            "_dom_classes": [],
            "_model_name": "HBoxModel",
            "_view_module": "@jupyter-widgets/controls",
            "_model_module_version": "1.5.0",
            "_view_count": null,
            "_view_module_version": "1.5.0",
            "box_style": "",
            "layout": "IPY_MODEL_853c9d068f654d6b9e9104e9e470a90e",
            "_model_module": "@jupyter-widgets/controls",
            "children": [
              "IPY_MODEL_166db062d29049efb3f9b8df8fc43785",
              "IPY_MODEL_addd3bb5c28641e9ac8c257753a9e5e8"
            ]
          }
        },
        "853c9d068f654d6b9e9104e9e470a90e": {
          "model_module": "@jupyter-widgets/base",
          "model_name": "LayoutModel",
          "state": {
            "_view_name": "LayoutView",
            "grid_template_rows": null,
            "right": null,
            "justify_content": null,
            "_view_module": "@jupyter-widgets/base",
            "overflow": null,
            "_model_module_version": "1.2.0",
            "_view_count": null,
            "flex_flow": null,
            "width": null,
            "min_width": null,
            "border": null,
            "align_items": null,
            "bottom": null,
            "_model_module": "@jupyter-widgets/base",
            "top": null,
            "grid_column": null,
            "overflow_y": null,
            "overflow_x": null,
            "grid_auto_flow": null,
            "grid_area": null,
            "grid_template_columns": null,
            "flex": null,
            "_model_name": "LayoutModel",
            "justify_items": null,
            "grid_row": null,
            "max_height": null,
            "align_content": null,
            "visibility": null,
            "align_self": null,
            "height": null,
            "min_height": null,
            "padding": null,
            "grid_auto_rows": null,
            "grid_gap": null,
            "max_width": null,
            "order": null,
            "_view_module_version": "1.2.0",
            "grid_template_areas": null,
            "object_position": null,
            "object_fit": null,
            "grid_auto_columns": null,
            "margin": null,
            "display": null,
            "left": null
          }
        },
        "166db062d29049efb3f9b8df8fc43785": {
          "model_module": "@jupyter-widgets/controls",
          "model_name": "FloatProgressModel",
          "state": {
            "_view_name": "ProgressView",
            "style": "IPY_MODEL_ec08548b884a46ceacfafc0f4c413c9b",
            "_dom_classes": [],
            "description": "Dl Size...: 100%",
            "_model_name": "FloatProgressModel",
            "bar_style": "success",
            "max": 1,
            "_view_module": "@jupyter-widgets/controls",
            "_model_module_version": "1.5.0",
            "value": 1,
            "_view_count": null,
            "_view_module_version": "1.5.0",
            "orientation": "horizontal",
            "min": 0,
            "description_tooltip": null,
            "_model_module": "@jupyter-widgets/controls",
            "layout": "IPY_MODEL_dd78b114a0ea429ca1d69924811f7b26"
          }
        },
        "addd3bb5c28641e9ac8c257753a9e5e8": {
          "model_module": "@jupyter-widgets/controls",
          "model_name": "HTMLModel",
          "state": {
            "_view_name": "HTMLView",
            "style": "IPY_MODEL_97a4ba9ef5504e1fbee7d2b15fdc872f",
            "_dom_classes": [],
            "description": "",
            "_model_name": "HTMLModel",
            "placeholder": "​",
            "_view_module": "@jupyter-widgets/controls",
            "_model_module_version": "1.5.0",
            "value": " 80/80 [00:02&lt;00:00, 27.68 MiB/s]",
            "_view_count": null,
            "_view_module_version": "1.5.0",
            "description_tooltip": null,
            "_model_module": "@jupyter-widgets/controls",
            "layout": "IPY_MODEL_edd9e5cfce1c4ec2b80275136e9aaab9"
          }
        },
        "ec08548b884a46ceacfafc0f4c413c9b": {
          "model_module": "@jupyter-widgets/controls",
          "model_name": "ProgressStyleModel",
          "state": {
            "_view_name": "StyleView",
            "_model_name": "ProgressStyleModel",
            "description_width": "initial",
            "_view_module": "@jupyter-widgets/base",
            "_model_module_version": "1.5.0",
            "_view_count": null,
            "_view_module_version": "1.2.0",
            "bar_color": null,
            "_model_module": "@jupyter-widgets/controls"
          }
        },
        "dd78b114a0ea429ca1d69924811f7b26": {
          "model_module": "@jupyter-widgets/base",
          "model_name": "LayoutModel",
          "state": {
            "_view_name": "LayoutView",
            "grid_template_rows": null,
            "right": null,
            "justify_content": null,
            "_view_module": "@jupyter-widgets/base",
            "overflow": null,
            "_model_module_version": "1.2.0",
            "_view_count": null,
            "flex_flow": null,
            "width": null,
            "min_width": null,
            "border": null,
            "align_items": null,
            "bottom": null,
            "_model_module": "@jupyter-widgets/base",
            "top": null,
            "grid_column": null,
            "overflow_y": null,
            "overflow_x": null,
            "grid_auto_flow": null,
            "grid_area": null,
            "grid_template_columns": null,
            "flex": null,
            "_model_name": "LayoutModel",
            "justify_items": null,
            "grid_row": null,
            "max_height": null,
            "align_content": null,
            "visibility": null,
            "align_self": null,
            "height": null,
            "min_height": null,
            "padding": null,
            "grid_auto_rows": null,
            "grid_gap": null,
            "max_width": null,
            "order": null,
            "_view_module_version": "1.2.0",
            "grid_template_areas": null,
            "object_position": null,
            "object_fit": null,
            "grid_auto_columns": null,
            "margin": null,
            "display": null,
            "left": null
          }
        },
        "97a4ba9ef5504e1fbee7d2b15fdc872f": {
          "model_module": "@jupyter-widgets/controls",
          "model_name": "DescriptionStyleModel",
          "state": {
            "_view_name": "StyleView",
            "_model_name": "DescriptionStyleModel",
            "description_width": "",
            "_view_module": "@jupyter-widgets/base",
            "_model_module_version": "1.5.0",
            "_view_count": null,
            "_view_module_version": "1.2.0",
            "_model_module": "@jupyter-widgets/controls"
          }
        },
        "edd9e5cfce1c4ec2b80275136e9aaab9": {
          "model_module": "@jupyter-widgets/base",
          "model_name": "LayoutModel",
          "state": {
            "_view_name": "LayoutView",
            "grid_template_rows": null,
            "right": null,
            "justify_content": null,
            "_view_module": "@jupyter-widgets/base",
            "overflow": null,
            "_model_module_version": "1.2.0",
            "_view_count": null,
            "flex_flow": null,
            "width": null,
            "min_width": null,
            "border": null,
            "align_items": null,
            "bottom": null,
            "_model_module": "@jupyter-widgets/base",
            "top": null,
            "grid_column": null,
            "overflow_y": null,
            "overflow_x": null,
            "grid_auto_flow": null,
            "grid_area": null,
            "grid_template_columns": null,
            "flex": null,
            "_model_name": "LayoutModel",
            "justify_items": null,
            "grid_row": null,
            "max_height": null,
            "align_content": null,
            "visibility": null,
            "align_self": null,
            "height": null,
            "min_height": null,
            "padding": null,
            "grid_auto_rows": null,
            "grid_gap": null,
            "max_width": null,
            "order": null,
            "_view_module_version": "1.2.0",
            "grid_template_areas": null,
            "object_position": null,
            "object_fit": null,
            "grid_auto_columns": null,
            "margin": null,
            "display": null,
            "left": null
          }
        },
        "214b5a8c7fd445a782c59f0904ca31ba": {
          "model_module": "@jupyter-widgets/controls",
          "model_name": "HBoxModel",
          "state": {
            "_view_name": "HBoxView",
            "_dom_classes": [],
            "_model_name": "HBoxModel",
            "_view_module": "@jupyter-widgets/controls",
            "_model_module_version": "1.5.0",
            "_view_count": null,
            "_view_module_version": "1.5.0",
            "box_style": "",
            "layout": "IPY_MODEL_2011f907a1ac43e69091e828a8153477",
            "_model_module": "@jupyter-widgets/controls",
            "children": [
              "IPY_MODEL_1c8214eeffbb4aef80346285261aea1b",
              "IPY_MODEL_d3b92fcce79e42479d1db59e7d86a648"
            ]
          }
        },
        "2011f907a1ac43e69091e828a8153477": {
          "model_module": "@jupyter-widgets/base",
          "model_name": "LayoutModel",
          "state": {
            "_view_name": "LayoutView",
            "grid_template_rows": null,
            "right": null,
            "justify_content": null,
            "_view_module": "@jupyter-widgets/base",
            "overflow": null,
            "_model_module_version": "1.2.0",
            "_view_count": null,
            "flex_flow": null,
            "width": null,
            "min_width": null,
            "border": null,
            "align_items": null,
            "bottom": null,
            "_model_module": "@jupyter-widgets/base",
            "top": null,
            "grid_column": null,
            "overflow_y": null,
            "overflow_x": null,
            "grid_auto_flow": null,
            "grid_area": null,
            "grid_template_columns": null,
            "flex": null,
            "_model_name": "LayoutModel",
            "justify_items": null,
            "grid_row": null,
            "max_height": null,
            "align_content": null,
            "visibility": null,
            "align_self": null,
            "height": null,
            "min_height": null,
            "padding": null,
            "grid_auto_rows": null,
            "grid_gap": null,
            "max_width": null,
            "order": null,
            "_view_module_version": "1.2.0",
            "grid_template_areas": null,
            "object_position": null,
            "object_fit": null,
            "grid_auto_columns": null,
            "margin": null,
            "display": null,
            "left": null
          }
        },
        "1c8214eeffbb4aef80346285261aea1b": {
          "model_module": "@jupyter-widgets/controls",
          "model_name": "FloatProgressModel",
          "state": {
            "_view_name": "ProgressView",
            "style": "IPY_MODEL_f37e8f3c1bc64504b62a0e9597ae5692",
            "_dom_classes": [],
            "description": "",
            "_model_name": "FloatProgressModel",
            "bar_style": "info",
            "max": 1,
            "_view_module": "@jupyter-widgets/controls",
            "_model_module_version": "1.5.0",
            "value": 1,
            "_view_count": null,
            "_view_module_version": "1.5.0",
            "orientation": "horizontal",
            "min": 0,
            "description_tooltip": null,
            "_model_module": "@jupyter-widgets/controls",
            "layout": "IPY_MODEL_8ec547d10adb468a9315eead81a7e8cf"
          }
        },
        "d3b92fcce79e42479d1db59e7d86a648": {
          "model_module": "@jupyter-widgets/controls",
          "model_name": "HTMLModel",
          "state": {
            "_view_name": "HTMLView",
            "style": "IPY_MODEL_452c7719fdd44a0d8f33465fccf5baec",
            "_dom_classes": [],
            "description": "",
            "_model_name": "HTMLModel",
            "placeholder": "​",
            "_view_module": "@jupyter-widgets/controls",
            "_model_module_version": "1.5.0",
            "value": " 25000/0 [00:39&lt;00:00, 770.77 examples/s]",
            "_view_count": null,
            "_view_module_version": "1.5.0",
            "description_tooltip": null,
            "_model_module": "@jupyter-widgets/controls",
            "layout": "IPY_MODEL_794b3d1e997746baafe13c721df58461"
          }
        },
        "f37e8f3c1bc64504b62a0e9597ae5692": {
          "model_module": "@jupyter-widgets/controls",
          "model_name": "ProgressStyleModel",
          "state": {
            "_view_name": "StyleView",
            "_model_name": "ProgressStyleModel",
            "description_width": "initial",
            "_view_module": "@jupyter-widgets/base",
            "_model_module_version": "1.5.0",
            "_view_count": null,
            "_view_module_version": "1.2.0",
            "bar_color": null,
            "_model_module": "@jupyter-widgets/controls"
          }
        },
        "8ec547d10adb468a9315eead81a7e8cf": {
          "model_module": "@jupyter-widgets/base",
          "model_name": "LayoutModel",
          "state": {
            "_view_name": "LayoutView",
            "grid_template_rows": null,
            "right": null,
            "justify_content": null,
            "_view_module": "@jupyter-widgets/base",
            "overflow": null,
            "_model_module_version": "1.2.0",
            "_view_count": null,
            "flex_flow": null,
            "width": null,
            "min_width": null,
            "border": null,
            "align_items": null,
            "bottom": null,
            "_model_module": "@jupyter-widgets/base",
            "top": null,
            "grid_column": null,
            "overflow_y": null,
            "overflow_x": null,
            "grid_auto_flow": null,
            "grid_area": null,
            "grid_template_columns": null,
            "flex": null,
            "_model_name": "LayoutModel",
            "justify_items": null,
            "grid_row": null,
            "max_height": null,
            "align_content": null,
            "visibility": null,
            "align_self": null,
            "height": null,
            "min_height": null,
            "padding": null,
            "grid_auto_rows": null,
            "grid_gap": null,
            "max_width": null,
            "order": null,
            "_view_module_version": "1.2.0",
            "grid_template_areas": null,
            "object_position": null,
            "object_fit": null,
            "grid_auto_columns": null,
            "margin": null,
            "display": null,
            "left": null
          }
        },
        "452c7719fdd44a0d8f33465fccf5baec": {
          "model_module": "@jupyter-widgets/controls",
          "model_name": "DescriptionStyleModel",
          "state": {
            "_view_name": "StyleView",
            "_model_name": "DescriptionStyleModel",
            "description_width": "",
            "_view_module": "@jupyter-widgets/base",
            "_model_module_version": "1.5.0",
            "_view_count": null,
            "_view_module_version": "1.2.0",
            "_model_module": "@jupyter-widgets/controls"
          }
        },
        "794b3d1e997746baafe13c721df58461": {
          "model_module": "@jupyter-widgets/base",
          "model_name": "LayoutModel",
          "state": {
            "_view_name": "LayoutView",
            "grid_template_rows": null,
            "right": null,
            "justify_content": null,
            "_view_module": "@jupyter-widgets/base",
            "overflow": null,
            "_model_module_version": "1.2.0",
            "_view_count": null,
            "flex_flow": null,
            "width": null,
            "min_width": null,
            "border": null,
            "align_items": null,
            "bottom": null,
            "_model_module": "@jupyter-widgets/base",
            "top": null,
            "grid_column": null,
            "overflow_y": null,
            "overflow_x": null,
            "grid_auto_flow": null,
            "grid_area": null,
            "grid_template_columns": null,
            "flex": null,
            "_model_name": "LayoutModel",
            "justify_items": null,
            "grid_row": null,
            "max_height": null,
            "align_content": null,
            "visibility": null,
            "align_self": null,
            "height": null,
            "min_height": null,
            "padding": null,
            "grid_auto_rows": null,
            "grid_gap": null,
            "max_width": null,
            "order": null,
            "_view_module_version": "1.2.0",
            "grid_template_areas": null,
            "object_position": null,
            "object_fit": null,
            "grid_auto_columns": null,
            "margin": null,
            "display": null,
            "left": null
          }
        },
        "72fb834484df4348867bb1c930bbd74f": {
          "model_module": "@jupyter-widgets/controls",
          "model_name": "HBoxModel",
          "state": {
            "_view_name": "HBoxView",
            "_dom_classes": [],
            "_model_name": "HBoxModel",
            "_view_module": "@jupyter-widgets/controls",
            "_model_module_version": "1.5.0",
            "_view_count": null,
            "_view_module_version": "1.5.0",
            "box_style": "",
            "layout": "IPY_MODEL_075114db0ede494e9d31f079bfbf3440",
            "_model_module": "@jupyter-widgets/controls",
            "children": [
              "IPY_MODEL_c3e2c8a947d14d09b61f161dd7dba0ec",
              "IPY_MODEL_01251b890149459ab156510752b1ddb6"
            ]
          }
        },
        "075114db0ede494e9d31f079bfbf3440": {
          "model_module": "@jupyter-widgets/base",
          "model_name": "LayoutModel",
          "state": {
            "_view_name": "LayoutView",
            "grid_template_rows": null,
            "right": null,
            "justify_content": null,
            "_view_module": "@jupyter-widgets/base",
            "overflow": null,
            "_model_module_version": "1.2.0",
            "_view_count": null,
            "flex_flow": null,
            "width": null,
            "min_width": null,
            "border": null,
            "align_items": null,
            "bottom": null,
            "_model_module": "@jupyter-widgets/base",
            "top": null,
            "grid_column": null,
            "overflow_y": null,
            "overflow_x": null,
            "grid_auto_flow": null,
            "grid_area": null,
            "grid_template_columns": null,
            "flex": null,
            "_model_name": "LayoutModel",
            "justify_items": null,
            "grid_row": null,
            "max_height": null,
            "align_content": null,
            "visibility": null,
            "align_self": null,
            "height": null,
            "min_height": null,
            "padding": null,
            "grid_auto_rows": null,
            "grid_gap": null,
            "max_width": null,
            "order": null,
            "_view_module_version": "1.2.0",
            "grid_template_areas": null,
            "object_position": null,
            "object_fit": null,
            "grid_auto_columns": null,
            "margin": null,
            "display": null,
            "left": null
          }
        },
        "c3e2c8a947d14d09b61f161dd7dba0ec": {
          "model_module": "@jupyter-widgets/controls",
          "model_name": "FloatProgressModel",
          "state": {
            "_view_name": "ProgressView",
            "style": "IPY_MODEL_fbb256b4541f4a7d9e5e5c0e69516e87",
            "_dom_classes": [],
            "description": " 36%",
            "_model_name": "FloatProgressModel",
            "bar_style": "danger",
            "max": 25000,
            "_view_module": "@jupyter-widgets/controls",
            "_model_module_version": "1.5.0",
            "value": 9003,
            "_view_count": null,
            "_view_module_version": "1.5.0",
            "orientation": "horizontal",
            "min": 0,
            "description_tooltip": null,
            "_model_module": "@jupyter-widgets/controls",
            "layout": "IPY_MODEL_a21e8fd31c894a1db540067a51037c71"
          }
        },
        "01251b890149459ab156510752b1ddb6": {
          "model_module": "@jupyter-widgets/controls",
          "model_name": "HTMLModel",
          "state": {
            "_view_name": "HTMLView",
            "style": "IPY_MODEL_d76cb58eb8934877bd421ea93aeba410",
            "_dom_classes": [],
            "description": "",
            "_model_name": "HTMLModel",
            "placeholder": "​",
            "_view_module": "@jupyter-widgets/controls",
            "_model_module_version": "1.5.0",
            "value": " 9003/25000 [00:00&lt;00:00, 90029.66 examples/s]",
            "_view_count": null,
            "_view_module_version": "1.5.0",
            "description_tooltip": null,
            "_model_module": "@jupyter-widgets/controls",
            "layout": "IPY_MODEL_40433f6e304c4fbd9ca1c6865db0ff3e"
          }
        },
        "fbb256b4541f4a7d9e5e5c0e69516e87": {
          "model_module": "@jupyter-widgets/controls",
          "model_name": "ProgressStyleModel",
          "state": {
            "_view_name": "StyleView",
            "_model_name": "ProgressStyleModel",
            "description_width": "initial",
            "_view_module": "@jupyter-widgets/base",
            "_model_module_version": "1.5.0",
            "_view_count": null,
            "_view_module_version": "1.2.0",
            "bar_color": null,
            "_model_module": "@jupyter-widgets/controls"
          }
        },
        "a21e8fd31c894a1db540067a51037c71": {
          "model_module": "@jupyter-widgets/base",
          "model_name": "LayoutModel",
          "state": {
            "_view_name": "LayoutView",
            "grid_template_rows": null,
            "right": null,
            "justify_content": null,
            "_view_module": "@jupyter-widgets/base",
            "overflow": null,
            "_model_module_version": "1.2.0",
            "_view_count": null,
            "flex_flow": null,
            "width": null,
            "min_width": null,
            "border": null,
            "align_items": null,
            "bottom": null,
            "_model_module": "@jupyter-widgets/base",
            "top": null,
            "grid_column": null,
            "overflow_y": null,
            "overflow_x": null,
            "grid_auto_flow": null,
            "grid_area": null,
            "grid_template_columns": null,
            "flex": null,
            "_model_name": "LayoutModel",
            "justify_items": null,
            "grid_row": null,
            "max_height": null,
            "align_content": null,
            "visibility": null,
            "align_self": null,
            "height": null,
            "min_height": null,
            "padding": null,
            "grid_auto_rows": null,
            "grid_gap": null,
            "max_width": null,
            "order": null,
            "_view_module_version": "1.2.0",
            "grid_template_areas": null,
            "object_position": null,
            "object_fit": null,
            "grid_auto_columns": null,
            "margin": null,
            "display": null,
            "left": null
          }
        },
        "d76cb58eb8934877bd421ea93aeba410": {
          "model_module": "@jupyter-widgets/controls",
          "model_name": "DescriptionStyleModel",
          "state": {
            "_view_name": "StyleView",
            "_model_name": "DescriptionStyleModel",
            "description_width": "",
            "_view_module": "@jupyter-widgets/base",
            "_model_module_version": "1.5.0",
            "_view_count": null,
            "_view_module_version": "1.2.0",
            "_model_module": "@jupyter-widgets/controls"
          }
        },
        "40433f6e304c4fbd9ca1c6865db0ff3e": {
          "model_module": "@jupyter-widgets/base",
          "model_name": "LayoutModel",
          "state": {
            "_view_name": "LayoutView",
            "grid_template_rows": null,
            "right": null,
            "justify_content": null,
            "_view_module": "@jupyter-widgets/base",
            "overflow": null,
            "_model_module_version": "1.2.0",
            "_view_count": null,
            "flex_flow": null,
            "width": null,
            "min_width": null,
            "border": null,
            "align_items": null,
            "bottom": null,
            "_model_module": "@jupyter-widgets/base",
            "top": null,
            "grid_column": null,
            "overflow_y": null,
            "overflow_x": null,
            "grid_auto_flow": null,
            "grid_area": null,
            "grid_template_columns": null,
            "flex": null,
            "_model_name": "LayoutModel",
            "justify_items": null,
            "grid_row": null,
            "max_height": null,
            "align_content": null,
            "visibility": null,
            "align_self": null,
            "height": null,
            "min_height": null,
            "padding": null,
            "grid_auto_rows": null,
            "grid_gap": null,
            "max_width": null,
            "order": null,
            "_view_module_version": "1.2.0",
            "grid_template_areas": null,
            "object_position": null,
            "object_fit": null,
            "grid_auto_columns": null,
            "margin": null,
            "display": null,
            "left": null
          }
        },
        "7cf98b5f4b094d9caf05c9d35a29e95b": {
          "model_module": "@jupyter-widgets/controls",
          "model_name": "HBoxModel",
          "state": {
            "_view_name": "HBoxView",
            "_dom_classes": [],
            "_model_name": "HBoxModel",
            "_view_module": "@jupyter-widgets/controls",
            "_model_module_version": "1.5.0",
            "_view_count": null,
            "_view_module_version": "1.5.0",
            "box_style": "",
            "layout": "IPY_MODEL_9a3e361fb5054ac49ecb2e7d016ea476",
            "_model_module": "@jupyter-widgets/controls",
            "children": [
              "IPY_MODEL_7d151dfe7c8d4e529b084c3b025da53c",
              "IPY_MODEL_bd199024f5ed444f8f4b46af31707650"
            ]
          }
        },
        "9a3e361fb5054ac49ecb2e7d016ea476": {
          "model_module": "@jupyter-widgets/base",
          "model_name": "LayoutModel",
          "state": {
            "_view_name": "LayoutView",
            "grid_template_rows": null,
            "right": null,
            "justify_content": null,
            "_view_module": "@jupyter-widgets/base",
            "overflow": null,
            "_model_module_version": "1.2.0",
            "_view_count": null,
            "flex_flow": null,
            "width": null,
            "min_width": null,
            "border": null,
            "align_items": null,
            "bottom": null,
            "_model_module": "@jupyter-widgets/base",
            "top": null,
            "grid_column": null,
            "overflow_y": null,
            "overflow_x": null,
            "grid_auto_flow": null,
            "grid_area": null,
            "grid_template_columns": null,
            "flex": null,
            "_model_name": "LayoutModel",
            "justify_items": null,
            "grid_row": null,
            "max_height": null,
            "align_content": null,
            "visibility": null,
            "align_self": null,
            "height": null,
            "min_height": null,
            "padding": null,
            "grid_auto_rows": null,
            "grid_gap": null,
            "max_width": null,
            "order": null,
            "_view_module_version": "1.2.0",
            "grid_template_areas": null,
            "object_position": null,
            "object_fit": null,
            "grid_auto_columns": null,
            "margin": null,
            "display": null,
            "left": null
          }
        },
        "7d151dfe7c8d4e529b084c3b025da53c": {
          "model_module": "@jupyter-widgets/controls",
          "model_name": "FloatProgressModel",
          "state": {
            "_view_name": "ProgressView",
            "style": "IPY_MODEL_1858a9ddc7e8470c82b425cab3277d9e",
            "_dom_classes": [],
            "description": "",
            "_model_name": "FloatProgressModel",
            "bar_style": "info",
            "max": 1,
            "_view_module": "@jupyter-widgets/controls",
            "_model_module_version": "1.5.0",
            "value": 1,
            "_view_count": null,
            "_view_module_version": "1.5.0",
            "orientation": "horizontal",
            "min": 0,
            "description_tooltip": null,
            "_model_module": "@jupyter-widgets/controls",
            "layout": "IPY_MODEL_3c049099aca54606aa601789ea4313ef"
          }
        },
        "bd199024f5ed444f8f4b46af31707650": {
          "model_module": "@jupyter-widgets/controls",
          "model_name": "HTMLModel",
          "state": {
            "_view_name": "HTMLView",
            "style": "IPY_MODEL_6efae003aba94d039fad2aa60d8034f4",
            "_dom_classes": [],
            "description": "",
            "_model_name": "HTMLModel",
            "placeholder": "​",
            "_view_module": "@jupyter-widgets/controls",
            "_model_module_version": "1.5.0",
            "value": " 25000/0 [00:38&lt;00:00, 796.40 examples/s]",
            "_view_count": null,
            "_view_module_version": "1.5.0",
            "description_tooltip": null,
            "_model_module": "@jupyter-widgets/controls",
            "layout": "IPY_MODEL_77f72bc498fd444097f653dc3069044a"
          }
        },
        "1858a9ddc7e8470c82b425cab3277d9e": {
          "model_module": "@jupyter-widgets/controls",
          "model_name": "ProgressStyleModel",
          "state": {
            "_view_name": "StyleView",
            "_model_name": "ProgressStyleModel",
            "description_width": "initial",
            "_view_module": "@jupyter-widgets/base",
            "_model_module_version": "1.5.0",
            "_view_count": null,
            "_view_module_version": "1.2.0",
            "bar_color": null,
            "_model_module": "@jupyter-widgets/controls"
          }
        },
        "3c049099aca54606aa601789ea4313ef": {
          "model_module": "@jupyter-widgets/base",
          "model_name": "LayoutModel",
          "state": {
            "_view_name": "LayoutView",
            "grid_template_rows": null,
            "right": null,
            "justify_content": null,
            "_view_module": "@jupyter-widgets/base",
            "overflow": null,
            "_model_module_version": "1.2.0",
            "_view_count": null,
            "flex_flow": null,
            "width": null,
            "min_width": null,
            "border": null,
            "align_items": null,
            "bottom": null,
            "_model_module": "@jupyter-widgets/base",
            "top": null,
            "grid_column": null,
            "overflow_y": null,
            "overflow_x": null,
            "grid_auto_flow": null,
            "grid_area": null,
            "grid_template_columns": null,
            "flex": null,
            "_model_name": "LayoutModel",
            "justify_items": null,
            "grid_row": null,
            "max_height": null,
            "align_content": null,
            "visibility": null,
            "align_self": null,
            "height": null,
            "min_height": null,
            "padding": null,
            "grid_auto_rows": null,
            "grid_gap": null,
            "max_width": null,
            "order": null,
            "_view_module_version": "1.2.0",
            "grid_template_areas": null,
            "object_position": null,
            "object_fit": null,
            "grid_auto_columns": null,
            "margin": null,
            "display": null,
            "left": null
          }
        },
        "6efae003aba94d039fad2aa60d8034f4": {
          "model_module": "@jupyter-widgets/controls",
          "model_name": "DescriptionStyleModel",
          "state": {
            "_view_name": "StyleView",
            "_model_name": "DescriptionStyleModel",
            "description_width": "",
            "_view_module": "@jupyter-widgets/base",
            "_model_module_version": "1.5.0",
            "_view_count": null,
            "_view_module_version": "1.2.0",
            "_model_module": "@jupyter-widgets/controls"
          }
        },
        "77f72bc498fd444097f653dc3069044a": {
          "model_module": "@jupyter-widgets/base",
          "model_name": "LayoutModel",
          "state": {
            "_view_name": "LayoutView",
            "grid_template_rows": null,
            "right": null,
            "justify_content": null,
            "_view_module": "@jupyter-widgets/base",
            "overflow": null,
            "_model_module_version": "1.2.0",
            "_view_count": null,
            "flex_flow": null,
            "width": null,
            "min_width": null,
            "border": null,
            "align_items": null,
            "bottom": null,
            "_model_module": "@jupyter-widgets/base",
            "top": null,
            "grid_column": null,
            "overflow_y": null,
            "overflow_x": null,
            "grid_auto_flow": null,
            "grid_area": null,
            "grid_template_columns": null,
            "flex": null,
            "_model_name": "LayoutModel",
            "justify_items": null,
            "grid_row": null,
            "max_height": null,
            "align_content": null,
            "visibility": null,
            "align_self": null,
            "height": null,
            "min_height": null,
            "padding": null,
            "grid_auto_rows": null,
            "grid_gap": null,
            "max_width": null,
            "order": null,
            "_view_module_version": "1.2.0",
            "grid_template_areas": null,
            "object_position": null,
            "object_fit": null,
            "grid_auto_columns": null,
            "margin": null,
            "display": null,
            "left": null
          }
        },
        "9f9b6a4d99fa43cab3c3c8a1b4677503": {
          "model_module": "@jupyter-widgets/controls",
          "model_name": "HBoxModel",
          "state": {
            "_view_name": "HBoxView",
            "_dom_classes": [],
            "_model_name": "HBoxModel",
            "_view_module": "@jupyter-widgets/controls",
            "_model_module_version": "1.5.0",
            "_view_count": null,
            "_view_module_version": "1.5.0",
            "box_style": "",
            "layout": "IPY_MODEL_fec77235aaf14b1ab202ec82210cdaa4",
            "_model_module": "@jupyter-widgets/controls",
            "children": [
              "IPY_MODEL_426827e1d0564cbba32b0773726de306",
              "IPY_MODEL_57f2dff4ec244a7c9e2e8dab1a5abf29"
            ]
          }
        },
        "fec77235aaf14b1ab202ec82210cdaa4": {
          "model_module": "@jupyter-widgets/base",
          "model_name": "LayoutModel",
          "state": {
            "_view_name": "LayoutView",
            "grid_template_rows": null,
            "right": null,
            "justify_content": null,
            "_view_module": "@jupyter-widgets/base",
            "overflow": null,
            "_model_module_version": "1.2.0",
            "_view_count": null,
            "flex_flow": null,
            "width": null,
            "min_width": null,
            "border": null,
            "align_items": null,
            "bottom": null,
            "_model_module": "@jupyter-widgets/base",
            "top": null,
            "grid_column": null,
            "overflow_y": null,
            "overflow_x": null,
            "grid_auto_flow": null,
            "grid_area": null,
            "grid_template_columns": null,
            "flex": null,
            "_model_name": "LayoutModel",
            "justify_items": null,
            "grid_row": null,
            "max_height": null,
            "align_content": null,
            "visibility": null,
            "align_self": null,
            "height": null,
            "min_height": null,
            "padding": null,
            "grid_auto_rows": null,
            "grid_gap": null,
            "max_width": null,
            "order": null,
            "_view_module_version": "1.2.0",
            "grid_template_areas": null,
            "object_position": null,
            "object_fit": null,
            "grid_auto_columns": null,
            "margin": null,
            "display": null,
            "left": null
          }
        },
        "426827e1d0564cbba32b0773726de306": {
          "model_module": "@jupyter-widgets/controls",
          "model_name": "FloatProgressModel",
          "state": {
            "_view_name": "ProgressView",
            "style": "IPY_MODEL_88c500f693664e22b10386bf91353030",
            "_dom_classes": [],
            "description": " 41%",
            "_model_name": "FloatProgressModel",
            "bar_style": "danger",
            "max": 25000,
            "_view_module": "@jupyter-widgets/controls",
            "_model_module_version": "1.5.0",
            "value": 10287,
            "_view_count": null,
            "_view_module_version": "1.5.0",
            "orientation": "horizontal",
            "min": 0,
            "description_tooltip": null,
            "_model_module": "@jupyter-widgets/controls",
            "layout": "IPY_MODEL_240792c3993c4711a86558692d638da5"
          }
        },
        "57f2dff4ec244a7c9e2e8dab1a5abf29": {
          "model_module": "@jupyter-widgets/controls",
          "model_name": "HTMLModel",
          "state": {
            "_view_name": "HTMLView",
            "style": "IPY_MODEL_f9570c59cc1a40d89f809be48c282fcd",
            "_dom_classes": [],
            "description": "",
            "_model_name": "HTMLModel",
            "placeholder": "​",
            "_view_module": "@jupyter-widgets/controls",
            "_model_module_version": "1.5.0",
            "value": " 10287/25000 [00:00&lt;00:00, 102865.68 examples/s]",
            "_view_count": null,
            "_view_module_version": "1.5.0",
            "description_tooltip": null,
            "_model_module": "@jupyter-widgets/controls",
            "layout": "IPY_MODEL_ef4b7e46222040308b7164b4d4c9fa20"
          }
        },
        "88c500f693664e22b10386bf91353030": {
          "model_module": "@jupyter-widgets/controls",
          "model_name": "ProgressStyleModel",
          "state": {
            "_view_name": "StyleView",
            "_model_name": "ProgressStyleModel",
            "description_width": "initial",
            "_view_module": "@jupyter-widgets/base",
            "_model_module_version": "1.5.0",
            "_view_count": null,
            "_view_module_version": "1.2.0",
            "bar_color": null,
            "_model_module": "@jupyter-widgets/controls"
          }
        },
        "240792c3993c4711a86558692d638da5": {
          "model_module": "@jupyter-widgets/base",
          "model_name": "LayoutModel",
          "state": {
            "_view_name": "LayoutView",
            "grid_template_rows": null,
            "right": null,
            "justify_content": null,
            "_view_module": "@jupyter-widgets/base",
            "overflow": null,
            "_model_module_version": "1.2.0",
            "_view_count": null,
            "flex_flow": null,
            "width": null,
            "min_width": null,
            "border": null,
            "align_items": null,
            "bottom": null,
            "_model_module": "@jupyter-widgets/base",
            "top": null,
            "grid_column": null,
            "overflow_y": null,
            "overflow_x": null,
            "grid_auto_flow": null,
            "grid_area": null,
            "grid_template_columns": null,
            "flex": null,
            "_model_name": "LayoutModel",
            "justify_items": null,
            "grid_row": null,
            "max_height": null,
            "align_content": null,
            "visibility": null,
            "align_self": null,
            "height": null,
            "min_height": null,
            "padding": null,
            "grid_auto_rows": null,
            "grid_gap": null,
            "max_width": null,
            "order": null,
            "_view_module_version": "1.2.0",
            "grid_template_areas": null,
            "object_position": null,
            "object_fit": null,
            "grid_auto_columns": null,
            "margin": null,
            "display": null,
            "left": null
          }
        },
        "f9570c59cc1a40d89f809be48c282fcd": {
          "model_module": "@jupyter-widgets/controls",
          "model_name": "DescriptionStyleModel",
          "state": {
            "_view_name": "StyleView",
            "_model_name": "DescriptionStyleModel",
            "description_width": "",
            "_view_module": "@jupyter-widgets/base",
            "_model_module_version": "1.5.0",
            "_view_count": null,
            "_view_module_version": "1.2.0",
            "_model_module": "@jupyter-widgets/controls"
          }
        },
        "ef4b7e46222040308b7164b4d4c9fa20": {
          "model_module": "@jupyter-widgets/base",
          "model_name": "LayoutModel",
          "state": {
            "_view_name": "LayoutView",
            "grid_template_rows": null,
            "right": null,
            "justify_content": null,
            "_view_module": "@jupyter-widgets/base",
            "overflow": null,
            "_model_module_version": "1.2.0",
            "_view_count": null,
            "flex_flow": null,
            "width": null,
            "min_width": null,
            "border": null,
            "align_items": null,
            "bottom": null,
            "_model_module": "@jupyter-widgets/base",
            "top": null,
            "grid_column": null,
            "overflow_y": null,
            "overflow_x": null,
            "grid_auto_flow": null,
            "grid_area": null,
            "grid_template_columns": null,
            "flex": null,
            "_model_name": "LayoutModel",
            "justify_items": null,
            "grid_row": null,
            "max_height": null,
            "align_content": null,
            "visibility": null,
            "align_self": null,
            "height": null,
            "min_height": null,
            "padding": null,
            "grid_auto_rows": null,
            "grid_gap": null,
            "max_width": null,
            "order": null,
            "_view_module_version": "1.2.0",
            "grid_template_areas": null,
            "object_position": null,
            "object_fit": null,
            "grid_auto_columns": null,
            "margin": null,
            "display": null,
            "left": null
          }
        },
        "38b5accc8c4e45c4935c5f7758c3ee5a": {
          "model_module": "@jupyter-widgets/controls",
          "model_name": "HBoxModel",
          "state": {
            "_view_name": "HBoxView",
            "_dom_classes": [],
            "_model_name": "HBoxModel",
            "_view_module": "@jupyter-widgets/controls",
            "_model_module_version": "1.5.0",
            "_view_count": null,
            "_view_module_version": "1.5.0",
            "box_style": "",
            "layout": "IPY_MODEL_7acf11e121744fe18871d87a3ebb9c0e",
            "_model_module": "@jupyter-widgets/controls",
            "children": [
              "IPY_MODEL_8d535c7b622f42b6a135e771f971545f",
              "IPY_MODEL_fd651a423e6b48af8a77310ab29fc792"
            ]
          }
        },
        "7acf11e121744fe18871d87a3ebb9c0e": {
          "model_module": "@jupyter-widgets/base",
          "model_name": "LayoutModel",
          "state": {
            "_view_name": "LayoutView",
            "grid_template_rows": null,
            "right": null,
            "justify_content": null,
            "_view_module": "@jupyter-widgets/base",
            "overflow": null,
            "_model_module_version": "1.2.0",
            "_view_count": null,
            "flex_flow": null,
            "width": null,
            "min_width": null,
            "border": null,
            "align_items": null,
            "bottom": null,
            "_model_module": "@jupyter-widgets/base",
            "top": null,
            "grid_column": null,
            "overflow_y": null,
            "overflow_x": null,
            "grid_auto_flow": null,
            "grid_area": null,
            "grid_template_columns": null,
            "flex": null,
            "_model_name": "LayoutModel",
            "justify_items": null,
            "grid_row": null,
            "max_height": null,
            "align_content": null,
            "visibility": null,
            "align_self": null,
            "height": null,
            "min_height": null,
            "padding": null,
            "grid_auto_rows": null,
            "grid_gap": null,
            "max_width": null,
            "order": null,
            "_view_module_version": "1.2.0",
            "grid_template_areas": null,
            "object_position": null,
            "object_fit": null,
            "grid_auto_columns": null,
            "margin": null,
            "display": null,
            "left": null
          }
        },
        "8d535c7b622f42b6a135e771f971545f": {
          "model_module": "@jupyter-widgets/controls",
          "model_name": "FloatProgressModel",
          "state": {
            "_view_name": "ProgressView",
            "style": "IPY_MODEL_49cc2b0ba8bb4738993fd24b1d6bc000",
            "_dom_classes": [],
            "description": "",
            "_model_name": "FloatProgressModel",
            "bar_style": "info",
            "max": 1,
            "_view_module": "@jupyter-widgets/controls",
            "_model_module_version": "1.5.0",
            "value": 1,
            "_view_count": null,
            "_view_module_version": "1.5.0",
            "orientation": "horizontal",
            "min": 0,
            "description_tooltip": null,
            "_model_module": "@jupyter-widgets/controls",
            "layout": "IPY_MODEL_cd888ae3c53d43f7bcea60ff4d62b732"
          }
        },
        "fd651a423e6b48af8a77310ab29fc792": {
          "model_module": "@jupyter-widgets/controls",
          "model_name": "HTMLModel",
          "state": {
            "_view_name": "HTMLView",
            "style": "IPY_MODEL_858e86dee1e2498892a6da51db852d1c",
            "_dom_classes": [],
            "description": "",
            "_model_name": "HTMLModel",
            "placeholder": "​",
            "_view_module": "@jupyter-widgets/controls",
            "_model_module_version": "1.5.0",
            "value": " 50000/0 [01:06&lt;00:00, 787.69 examples/s]",
            "_view_count": null,
            "_view_module_version": "1.5.0",
            "description_tooltip": null,
            "_model_module": "@jupyter-widgets/controls",
            "layout": "IPY_MODEL_d73536af2b274ada83a5b1f7f144465f"
          }
        },
        "49cc2b0ba8bb4738993fd24b1d6bc000": {
          "model_module": "@jupyter-widgets/controls",
          "model_name": "ProgressStyleModel",
          "state": {
            "_view_name": "StyleView",
            "_model_name": "ProgressStyleModel",
            "description_width": "initial",
            "_view_module": "@jupyter-widgets/base",
            "_model_module_version": "1.5.0",
            "_view_count": null,
            "_view_module_version": "1.2.0",
            "bar_color": null,
            "_model_module": "@jupyter-widgets/controls"
          }
        },
        "cd888ae3c53d43f7bcea60ff4d62b732": {
          "model_module": "@jupyter-widgets/base",
          "model_name": "LayoutModel",
          "state": {
            "_view_name": "LayoutView",
            "grid_template_rows": null,
            "right": null,
            "justify_content": null,
            "_view_module": "@jupyter-widgets/base",
            "overflow": null,
            "_model_module_version": "1.2.0",
            "_view_count": null,
            "flex_flow": null,
            "width": null,
            "min_width": null,
            "border": null,
            "align_items": null,
            "bottom": null,
            "_model_module": "@jupyter-widgets/base",
            "top": null,
            "grid_column": null,
            "overflow_y": null,
            "overflow_x": null,
            "grid_auto_flow": null,
            "grid_area": null,
            "grid_template_columns": null,
            "flex": null,
            "_model_name": "LayoutModel",
            "justify_items": null,
            "grid_row": null,
            "max_height": null,
            "align_content": null,
            "visibility": null,
            "align_self": null,
            "height": null,
            "min_height": null,
            "padding": null,
            "grid_auto_rows": null,
            "grid_gap": null,
            "max_width": null,
            "order": null,
            "_view_module_version": "1.2.0",
            "grid_template_areas": null,
            "object_position": null,
            "object_fit": null,
            "grid_auto_columns": null,
            "margin": null,
            "display": null,
            "left": null
          }
        },
        "858e86dee1e2498892a6da51db852d1c": {
          "model_module": "@jupyter-widgets/controls",
          "model_name": "DescriptionStyleModel",
          "state": {
            "_view_name": "StyleView",
            "_model_name": "DescriptionStyleModel",
            "description_width": "",
            "_view_module": "@jupyter-widgets/base",
            "_model_module_version": "1.5.0",
            "_view_count": null,
            "_view_module_version": "1.2.0",
            "_model_module": "@jupyter-widgets/controls"
          }
        },
        "d73536af2b274ada83a5b1f7f144465f": {
          "model_module": "@jupyter-widgets/base",
          "model_name": "LayoutModel",
          "state": {
            "_view_name": "LayoutView",
            "grid_template_rows": null,
            "right": null,
            "justify_content": null,
            "_view_module": "@jupyter-widgets/base",
            "overflow": null,
            "_model_module_version": "1.2.0",
            "_view_count": null,
            "flex_flow": null,
            "width": null,
            "min_width": null,
            "border": null,
            "align_items": null,
            "bottom": null,
            "_model_module": "@jupyter-widgets/base",
            "top": null,
            "grid_column": null,
            "overflow_y": null,
            "overflow_x": null,
            "grid_auto_flow": null,
            "grid_area": null,
            "grid_template_columns": null,
            "flex": null,
            "_model_name": "LayoutModel",
            "justify_items": null,
            "grid_row": null,
            "max_height": null,
            "align_content": null,
            "visibility": null,
            "align_self": null,
            "height": null,
            "min_height": null,
            "padding": null,
            "grid_auto_rows": null,
            "grid_gap": null,
            "max_width": null,
            "order": null,
            "_view_module_version": "1.2.0",
            "grid_template_areas": null,
            "object_position": null,
            "object_fit": null,
            "grid_auto_columns": null,
            "margin": null,
            "display": null,
            "left": null
          }
        },
        "a0844b56c45541e19759179def9f4cfd": {
          "model_module": "@jupyter-widgets/controls",
          "model_name": "HBoxModel",
          "state": {
            "_view_name": "HBoxView",
            "_dom_classes": [],
            "_model_name": "HBoxModel",
            "_view_module": "@jupyter-widgets/controls",
            "_model_module_version": "1.5.0",
            "_view_count": null,
            "_view_module_version": "1.5.0",
            "box_style": "",
            "layout": "IPY_MODEL_a639c9dbc64c42a7b060a3d07e20f0a1",
            "_model_module": "@jupyter-widgets/controls",
            "children": [
              "IPY_MODEL_f6c9349df4fd498f93529fde82b84b19",
              "IPY_MODEL_b1502d65f94542299df65bba38f0d6ed"
            ]
          }
        },
        "a639c9dbc64c42a7b060a3d07e20f0a1": {
          "model_module": "@jupyter-widgets/base",
          "model_name": "LayoutModel",
          "state": {
            "_view_name": "LayoutView",
            "grid_template_rows": null,
            "right": null,
            "justify_content": null,
            "_view_module": "@jupyter-widgets/base",
            "overflow": null,
            "_model_module_version": "1.2.0",
            "_view_count": null,
            "flex_flow": null,
            "width": null,
            "min_width": null,
            "border": null,
            "align_items": null,
            "bottom": null,
            "_model_module": "@jupyter-widgets/base",
            "top": null,
            "grid_column": null,
            "overflow_y": null,
            "overflow_x": null,
            "grid_auto_flow": null,
            "grid_area": null,
            "grid_template_columns": null,
            "flex": null,
            "_model_name": "LayoutModel",
            "justify_items": null,
            "grid_row": null,
            "max_height": null,
            "align_content": null,
            "visibility": null,
            "align_self": null,
            "height": null,
            "min_height": null,
            "padding": null,
            "grid_auto_rows": null,
            "grid_gap": null,
            "max_width": null,
            "order": null,
            "_view_module_version": "1.2.0",
            "grid_template_areas": null,
            "object_position": null,
            "object_fit": null,
            "grid_auto_columns": null,
            "margin": null,
            "display": null,
            "left": null
          }
        },
        "f6c9349df4fd498f93529fde82b84b19": {
          "model_module": "@jupyter-widgets/controls",
          "model_name": "FloatProgressModel",
          "state": {
            "_view_name": "ProgressView",
            "style": "IPY_MODEL_64be58ab2cbe457686aae442b19f044e",
            "_dom_classes": [],
            "description": " 55%",
            "_model_name": "FloatProgressModel",
            "bar_style": "danger",
            "max": 50000,
            "_view_module": "@jupyter-widgets/controls",
            "_model_module_version": "1.5.0",
            "value": 27306,
            "_view_count": null,
            "_view_module_version": "1.5.0",
            "orientation": "horizontal",
            "min": 0,
            "description_tooltip": null,
            "_model_module": "@jupyter-widgets/controls",
            "layout": "IPY_MODEL_d7b15164d3e6490185afc7c567598204"
          }
        },
        "b1502d65f94542299df65bba38f0d6ed": {
          "model_module": "@jupyter-widgets/controls",
          "model_name": "HTMLModel",
          "state": {
            "_view_name": "HTMLView",
            "style": "IPY_MODEL_04896f0f7af7409685aafec4f3dadb8c",
            "_dom_classes": [],
            "description": "",
            "_model_name": "HTMLModel",
            "placeholder": "​",
            "_view_module": "@jupyter-widgets/controls",
            "_model_module_version": "1.5.0",
            "value": " 27306/50000 [00:00&lt;00:01, 16413.37 examples/s]",
            "_view_count": null,
            "_view_module_version": "1.5.0",
            "description_tooltip": null,
            "_model_module": "@jupyter-widgets/controls",
            "layout": "IPY_MODEL_32cea9b02d62434baccdd5576ca27192"
          }
        },
        "64be58ab2cbe457686aae442b19f044e": {
          "model_module": "@jupyter-widgets/controls",
          "model_name": "ProgressStyleModel",
          "state": {
            "_view_name": "StyleView",
            "_model_name": "ProgressStyleModel",
            "description_width": "initial",
            "_view_module": "@jupyter-widgets/base",
            "_model_module_version": "1.5.0",
            "_view_count": null,
            "_view_module_version": "1.2.0",
            "bar_color": null,
            "_model_module": "@jupyter-widgets/controls"
          }
        },
        "d7b15164d3e6490185afc7c567598204": {
          "model_module": "@jupyter-widgets/base",
          "model_name": "LayoutModel",
          "state": {
            "_view_name": "LayoutView",
            "grid_template_rows": null,
            "right": null,
            "justify_content": null,
            "_view_module": "@jupyter-widgets/base",
            "overflow": null,
            "_model_module_version": "1.2.0",
            "_view_count": null,
            "flex_flow": null,
            "width": null,
            "min_width": null,
            "border": null,
            "align_items": null,
            "bottom": null,
            "_model_module": "@jupyter-widgets/base",
            "top": null,
            "grid_column": null,
            "overflow_y": null,
            "overflow_x": null,
            "grid_auto_flow": null,
            "grid_area": null,
            "grid_template_columns": null,
            "flex": null,
            "_model_name": "LayoutModel",
            "justify_items": null,
            "grid_row": null,
            "max_height": null,
            "align_content": null,
            "visibility": null,
            "align_self": null,
            "height": null,
            "min_height": null,
            "padding": null,
            "grid_auto_rows": null,
            "grid_gap": null,
            "max_width": null,
            "order": null,
            "_view_module_version": "1.2.0",
            "grid_template_areas": null,
            "object_position": null,
            "object_fit": null,
            "grid_auto_columns": null,
            "margin": null,
            "display": null,
            "left": null
          }
        },
        "04896f0f7af7409685aafec4f3dadb8c": {
          "model_module": "@jupyter-widgets/controls",
          "model_name": "DescriptionStyleModel",
          "state": {
            "_view_name": "StyleView",
            "_model_name": "DescriptionStyleModel",
            "description_width": "",
            "_view_module": "@jupyter-widgets/base",
            "_model_module_version": "1.5.0",
            "_view_count": null,
            "_view_module_version": "1.2.0",
            "_model_module": "@jupyter-widgets/controls"
          }
        },
        "32cea9b02d62434baccdd5576ca27192": {
          "model_module": "@jupyter-widgets/base",
          "model_name": "LayoutModel",
          "state": {
            "_view_name": "LayoutView",
            "grid_template_rows": null,
            "right": null,
            "justify_content": null,
            "_view_module": "@jupyter-widgets/base",
            "overflow": null,
            "_model_module_version": "1.2.0",
            "_view_count": null,
            "flex_flow": null,
            "width": null,
            "min_width": null,
            "border": null,
            "align_items": null,
            "bottom": null,
            "_model_module": "@jupyter-widgets/base",
            "top": null,
            "grid_column": null,
            "overflow_y": null,
            "overflow_x": null,
            "grid_auto_flow": null,
            "grid_area": null,
            "grid_template_columns": null,
            "flex": null,
            "_model_name": "LayoutModel",
            "justify_items": null,
            "grid_row": null,
            "max_height": null,
            "align_content": null,
            "visibility": null,
            "align_self": null,
            "height": null,
            "min_height": null,
            "padding": null,
            "grid_auto_rows": null,
            "grid_gap": null,
            "max_width": null,
            "order": null,
            "_view_module_version": "1.2.0",
            "grid_template_areas": null,
            "object_position": null,
            "object_fit": null,
            "grid_auto_columns": null,
            "margin": null,
            "display": null,
            "left": null
          }
        }
      }
    }
  },
  "cells": [
    {
      "cell_type": "code",
      "metadata": {
        "colab_type": "code",
        "id": "zX4Kg8DUTKWO",
        "colab": {}
      },
      "source": [
        "#@title Licensed under the Apache License, Version 2.0 (the \"License\");\n",
        "# you may not use this file except in compliance with the License.\n",
        "# You may obtain a copy of the License at\n",
        "#\n",
        "# https://www.apache.org/licenses/LICENSE-2.0\n",
        "#\n",
        "# Unless required by applicable law or agreed to in writing, software\n",
        "# distributed under the License is distributed on an \"AS IS\" BASIS,\n",
        "# WITHOUT WARRANTIES OR CONDITIONS OF ANY KIND, either express or implied.\n",
        "# See the License for the specific language governing permissions and\n",
        "# limitations under the License."
      ],
      "execution_count": null,
      "outputs": []
    },
    {
      "cell_type": "markdown",
      "metadata": {
        "id": "kR-lHeaqqcIv",
        "colab_type": "text"
      },
      "source": [
        "<a href=\"https://colab.research.google.com/github/lmoroney/dlaicourse/blob/master/TensorFlow%20In%20Practice/Course%203%20-%20NLP/Course%203%20-%20Week%202%20-%20Lesson%203.ipynb\" target=\"_parent\"><img src=\"https://colab.research.google.com/assets/colab-badge.svg\" alt=\"Open In Colab\"/></a>"
      ]
    },
    {
      "cell_type": "code",
      "metadata": {
        "colab_type": "code",
        "id": "P-AhVYeBWgQ3",
        "colab": {
          "base_uri": "https://localhost:8080/",
          "height": 35
        },
        "outputId": "370fd773-cfe7-4ced-8d9f-4bcf70045a8d"
      },
      "source": [
        "# NOTE: PLEASE MAKE SURE YOU ARE RUNNING THIS IN A PYTHON3 ENVIRONMENT\n",
        "\n",
        "import tensorflow as tf\n",
        "print(tf.__version__)\n"
      ],
      "execution_count": 1,
      "outputs": [
        {
          "output_type": "stream",
          "text": [
            "2.3.0\n"
          ],
          "name": "stdout"
        }
      ]
    },
    {
      "cell_type": "code",
      "metadata": {
        "colab_type": "code",
        "id": "wm9S3T8-9H4q",
        "colab": {
          "base_uri": "https://localhost:8080/",
          "height": 35
        },
        "outputId": "44b1d2fb-0c38-4170-de22-fe5f0322467b"
      },
      "source": [
        "# Double check TF 2.0x is installed. If you ran the above block, there was a \n",
        "# 'reset all runtimes' button at the bottom that you needed to press\n",
        "import tensorflow as tf\n",
        "print(tf.__version__)"
      ],
      "execution_count": 2,
      "outputs": [
        {
          "output_type": "stream",
          "text": [
            "2.3.0\n"
          ],
          "name": "stdout"
        }
      ]
    },
    {
      "cell_type": "code",
      "metadata": {
        "colab_type": "code",
        "id": "_IoM4VFxWpMR",
        "colab": {
          "base_uri": "https://localhost:8080/",
          "height": 353,
          "referenced_widgets": [
            "1394c9b497ef495ab571eab69c66fddc",
            "cac55fcfe7b247b2a64f51ef64b31592",
            "d8dd1c90e0104c15b6e08bcbc65b63a2",
            "58344ce33e3f4eabbfd457e0c1a35151",
            "6082a0a9219d4d63a58bacaaba2b1aba",
            "fa98d15d75b145f386a3ca67a903e469",
            "86cf64dd4b6540fd90de853c8cbb5f3d",
            "dc3e98e45ec04202b4e3c4b7808dd31e",
            "016b034db41c41e493db6833a0da333f",
            "853c9d068f654d6b9e9104e9e470a90e",
            "166db062d29049efb3f9b8df8fc43785",
            "addd3bb5c28641e9ac8c257753a9e5e8",
            "ec08548b884a46ceacfafc0f4c413c9b",
            "dd78b114a0ea429ca1d69924811f7b26",
            "97a4ba9ef5504e1fbee7d2b15fdc872f",
            "edd9e5cfce1c4ec2b80275136e9aaab9",
            "214b5a8c7fd445a782c59f0904ca31ba",
            "2011f907a1ac43e69091e828a8153477",
            "1c8214eeffbb4aef80346285261aea1b",
            "d3b92fcce79e42479d1db59e7d86a648",
            "f37e8f3c1bc64504b62a0e9597ae5692",
            "8ec547d10adb468a9315eead81a7e8cf",
            "452c7719fdd44a0d8f33465fccf5baec",
            "794b3d1e997746baafe13c721df58461",
            "72fb834484df4348867bb1c930bbd74f",
            "075114db0ede494e9d31f079bfbf3440",
            "c3e2c8a947d14d09b61f161dd7dba0ec",
            "01251b890149459ab156510752b1ddb6",
            "fbb256b4541f4a7d9e5e5c0e69516e87",
            "a21e8fd31c894a1db540067a51037c71",
            "d76cb58eb8934877bd421ea93aeba410",
            "40433f6e304c4fbd9ca1c6865db0ff3e",
            "7cf98b5f4b094d9caf05c9d35a29e95b",
            "9a3e361fb5054ac49ecb2e7d016ea476",
            "7d151dfe7c8d4e529b084c3b025da53c",
            "bd199024f5ed444f8f4b46af31707650",
            "1858a9ddc7e8470c82b425cab3277d9e",
            "3c049099aca54606aa601789ea4313ef",
            "6efae003aba94d039fad2aa60d8034f4",
            "77f72bc498fd444097f653dc3069044a",
            "9f9b6a4d99fa43cab3c3c8a1b4677503",
            "fec77235aaf14b1ab202ec82210cdaa4",
            "426827e1d0564cbba32b0773726de306",
            "57f2dff4ec244a7c9e2e8dab1a5abf29",
            "88c500f693664e22b10386bf91353030",
            "240792c3993c4711a86558692d638da5",
            "f9570c59cc1a40d89f809be48c282fcd",
            "ef4b7e46222040308b7164b4d4c9fa20",
            "38b5accc8c4e45c4935c5f7758c3ee5a",
            "7acf11e121744fe18871d87a3ebb9c0e",
            "8d535c7b622f42b6a135e771f971545f",
            "fd651a423e6b48af8a77310ab29fc792",
            "49cc2b0ba8bb4738993fd24b1d6bc000",
            "cd888ae3c53d43f7bcea60ff4d62b732",
            "858e86dee1e2498892a6da51db852d1c",
            "d73536af2b274ada83a5b1f7f144465f",
            "a0844b56c45541e19759179def9f4cfd",
            "a639c9dbc64c42a7b060a3d07e20f0a1",
            "f6c9349df4fd498f93529fde82b84b19",
            "b1502d65f94542299df65bba38f0d6ed",
            "64be58ab2cbe457686aae442b19f044e",
            "d7b15164d3e6490185afc7c567598204",
            "04896f0f7af7409685aafec4f3dadb8c",
            "32cea9b02d62434baccdd5576ca27192"
          ]
        },
        "outputId": "f654697b-67e7-4d06-f513-b06dc3e887b5"
      },
      "source": [
        "# If the import fails, run this\n",
        "# !pip install -q tensorflow-datasets\n",
        "\n",
        "import tensorflow_datasets as tfds\n",
        "imdb, info = tfds.load(\"imdb_reviews/subwords8k\", with_info=True, as_supervised=True)\n"
      ],
      "execution_count": 3,
      "outputs": [
        {
          "output_type": "stream",
          "text": [
            "\u001b[1mDownloading and preparing dataset imdb_reviews/subwords8k/1.0.0 (download: 80.23 MiB, generated: Unknown size, total: 80.23 MiB) to /root/tensorflow_datasets/imdb_reviews/subwords8k/1.0.0...\u001b[0m\n"
          ],
          "name": "stdout"
        },
        {
          "output_type": "display_data",
          "data": {
            "application/vnd.jupyter.widget-view+json": {
              "model_id": "1394c9b497ef495ab571eab69c66fddc",
              "version_minor": 0,
              "version_major": 2
            },
            "text/plain": [
              "HBox(children=(FloatProgress(value=1.0, bar_style='info', description='Dl Completed...', max=1.0, style=Progre…"
            ]
          },
          "metadata": {
            "tags": []
          }
        },
        {
          "output_type": "display_data",
          "data": {
            "application/vnd.jupyter.widget-view+json": {
              "model_id": "016b034db41c41e493db6833a0da333f",
              "version_minor": 0,
              "version_major": 2
            },
            "text/plain": [
              "HBox(children=(FloatProgress(value=1.0, bar_style='info', description='Dl Size...', max=1.0, style=ProgressSty…"
            ]
          },
          "metadata": {
            "tags": []
          }
        },
        {
          "output_type": "stream",
          "text": [
            "\n",
            "\n",
            "\n",
            "\n"
          ],
          "name": "stdout"
        },
        {
          "output_type": "display_data",
          "data": {
            "application/vnd.jupyter.widget-view+json": {
              "model_id": "214b5a8c7fd445a782c59f0904ca31ba",
              "version_minor": 0,
              "version_major": 2
            },
            "text/plain": [
              "HBox(children=(FloatProgress(value=1.0, bar_style='info', max=1.0), HTML(value='')))"
            ]
          },
          "metadata": {
            "tags": []
          }
        },
        {
          "output_type": "stream",
          "text": [
            "\rShuffling and writing examples to /root/tensorflow_datasets/imdb_reviews/subwords8k/1.0.0.incomplete2VOH5S/imdb_reviews-train.tfrecord\n"
          ],
          "name": "stdout"
        },
        {
          "output_type": "display_data",
          "data": {
            "application/vnd.jupyter.widget-view+json": {
              "model_id": "72fb834484df4348867bb1c930bbd74f",
              "version_minor": 0,
              "version_major": 2
            },
            "text/plain": [
              "HBox(children=(FloatProgress(value=0.0, max=25000.0), HTML(value='')))"
            ]
          },
          "metadata": {
            "tags": []
          }
        },
        {
          "output_type": "stream",
          "text": [
            "\r"
          ],
          "name": "stdout"
        },
        {
          "output_type": "display_data",
          "data": {
            "application/vnd.jupyter.widget-view+json": {
              "model_id": "7cf98b5f4b094d9caf05c9d35a29e95b",
              "version_minor": 0,
              "version_major": 2
            },
            "text/plain": [
              "HBox(children=(FloatProgress(value=1.0, bar_style='info', max=1.0), HTML(value='')))"
            ]
          },
          "metadata": {
            "tags": []
          }
        },
        {
          "output_type": "stream",
          "text": [
            "\rShuffling and writing examples to /root/tensorflow_datasets/imdb_reviews/subwords8k/1.0.0.incomplete2VOH5S/imdb_reviews-test.tfrecord\n"
          ],
          "name": "stdout"
        },
        {
          "output_type": "display_data",
          "data": {
            "application/vnd.jupyter.widget-view+json": {
              "model_id": "9f9b6a4d99fa43cab3c3c8a1b4677503",
              "version_minor": 0,
              "version_major": 2
            },
            "text/plain": [
              "HBox(children=(FloatProgress(value=0.0, max=25000.0), HTML(value='')))"
            ]
          },
          "metadata": {
            "tags": []
          }
        },
        {
          "output_type": "stream",
          "text": [
            "\r"
          ],
          "name": "stdout"
        },
        {
          "output_type": "display_data",
          "data": {
            "application/vnd.jupyter.widget-view+json": {
              "model_id": "38b5accc8c4e45c4935c5f7758c3ee5a",
              "version_minor": 0,
              "version_major": 2
            },
            "text/plain": [
              "HBox(children=(FloatProgress(value=1.0, bar_style='info', max=1.0), HTML(value='')))"
            ]
          },
          "metadata": {
            "tags": []
          }
        },
        {
          "output_type": "stream",
          "text": [
            "\rShuffling and writing examples to /root/tensorflow_datasets/imdb_reviews/subwords8k/1.0.0.incomplete2VOH5S/imdb_reviews-unsupervised.tfrecord\n"
          ],
          "name": "stdout"
        },
        {
          "output_type": "display_data",
          "data": {
            "application/vnd.jupyter.widget-view+json": {
              "model_id": "a0844b56c45541e19759179def9f4cfd",
              "version_minor": 0,
              "version_major": 2
            },
            "text/plain": [
              "HBox(children=(FloatProgress(value=0.0, max=50000.0), HTML(value='')))"
            ]
          },
          "metadata": {
            "tags": []
          }
        },
        {
          "output_type": "stream",
          "text": [
            "\u001b[1mDataset imdb_reviews downloaded and prepared to /root/tensorflow_datasets/imdb_reviews/subwords8k/1.0.0. Subsequent calls will reuse this data.\u001b[0m\n",
            "\r"
          ],
          "name": "stdout"
        }
      ]
    },
    {
      "cell_type": "code",
      "metadata": {
        "colab_type": "code",
        "id": "wHQ2Ko0zl7M4",
        "colab": {}
      },
      "source": [
        "train_data, test_data = imdb['train'], imdb['test']"
      ],
      "execution_count": 4,
      "outputs": []
    },
    {
      "cell_type": "code",
      "metadata": {
        "colab_type": "code",
        "id": "fqGRSe_eCdOz",
        "colab": {}
      },
      "source": [
        "tokenizer = info.features['text'].encoder"
      ],
      "execution_count": 8,
      "outputs": []
    },
    {
      "cell_type": "code",
      "metadata": {
        "colab_type": "code",
        "id": "F6b_EraCDLOh",
        "colab": {
          "base_uri": "https://localhost:8080/",
          "height": 55
        },
        "outputId": "3de12919-4d42-4aa3-c592-98888caba6f7"
      },
      "source": [
        "print(tokenizer.subwords)"
      ],
      "execution_count": 9,
      "outputs": [
        {
          "output_type": "stream",
          "text": [
            "['the_', ', ', '. ', 'a_', 'and_', 'of_', 'to_', 's_', 'is_', 'br', 'in_', 'I_', 'that_', 'this_', 'it_', ' /><', ' />', 'was_', 'The_', 'as_', 't_', 'with_', 'for_', '.<', 'on_', 'but_', 'movie_', ' (', 'are_', 'his_', 'have_', 'film_', 'not_', 'ing_', 'be_', 'ed_', 'you_', ' \"', 'it', 'd_', 'an_', 'he_', 'by_', 'at_', 'one_', 'who_', 'y_', 'from_', 'e_', 'or_', 'all_', 'like_', 'they_', '\" ', 'so_', 'just_', 'has_', ') ', 'her_', 'about_', 'out_', 'This_', 'some_', 'ly_', 'movie', 'film', 'very_', 'more_', 'It_', 'would_', 'what_', 'when_', 'which_', 'good_', 'if_', 'up_', 'only_', 'even_', 'their_', 'had_', 'really_', 'my_', 'can_', 'no_', 'were_', 'see_', 'she_', '? ', 'than_', '! ', 'there_', 'get_', 'been_', 'into_', ' - ', 'will_', 'much_', 'story_', 'because_', 'ing', 'time_', 'n_', 'we_', 'ed', 'me_', ': ', 'most_', 'other_', 'don', 'do_', 'm_', 'es_', 'how_', 'also_', 'make_', 'its_', 'could_', 'first_', 'any_', \"' \", 'people_', 'great_', 've_', 'ly', 'er_', 'made_', 'r_', 'But_', 'think_', \" '\", 'i_', 'bad_', 'A_', 'And_', 'It', 'on', '; ', 'him_', 'being_', 'never_', 'way_', 'that', 'many_', 'then_', 'where_', 'two_', 'In_', 'after_', 'too_', 'little_', 'you', '), ', 'well_', 'ng_', 'your_', 'If_', 'l_', '). ', 'does_', 'ever_', 'them_', 'did_', 'watch_', 'know_', 'seen_', 'time', 'er', 'character_', 'over_', 'characters_', 'movies_', 'man_', 'There_', 'love_', 'best_', 'still_', 'off_', 'such_', 'in', 'should_', 'the', 're_', 'He_', 'plot_', 'films_', 'go_', 'these_', 'acting_', 'doesn', 'es', 'show_', 'through_', 'better_', 'al_', 'something_', 'didn', 'back_', 'those_', 'us_', 'less_', '...', 'say_', 'is', 'one', 'makes_', 'and', 'can', 'all', 'ion_', 'find_', 'scene_', 'old_', 'real_', 'few_', 'going_', 'well', 'actually_', 'watching_', 'life_', 'me', '. <', 'o_', 'man', 'there', 'scenes_', 'same_', 'he', 'end_', 'this', '... ', 'k_', 'while_', 'thing_', 'of', 'look_', 'quite_', 'out', 'lot_', 'want_', 'why_', 'seems_', 'every_', 'll_', 'pretty_', 'got_', 'able_', 'nothing_', 'good', 'As_', 'story', ' & ', 'another_', 'take_', 'to', 'years_', 'between_', 'give_', 'am_', 'work_', 'isn', 'part_', 'before_', 'actors_', 'may_', 'gets_', 'young_', 'down_', 'around_', 'ng', 'thought_', 'though_', 'end', 'without_', 'What_', 'They_', 'things_', 'life', 'always_', 'must_', 'cast_', 'almost_', 'h_', '10', 'saw_', 'own_', 'here', 'bit_', 'come_', 'both_', 'might_', 'g_', 'whole_', 'new_', 'director_', 'them', 'horror_', 'ce', 'You_', 'least_', 'bad', 'big_', 'enough_', 'him', 'feel_', 'probably_', 'up', 'here_', 'making_', 'long_', 'her', 'st_', 'kind_', '--', 'original_', 'fact_', 'rather_', 'or', 'far_', 'nt_', 'played_', 'found_', 'last_', 'movies', 'When_', 'so', '\", ', 'comes_', 'action_', 'She_', 've', 'our_', 'anything_', 'funny_', 'ion', 'right_', 'way', 'trying_', 'now_', 'ous_', 'each_', 'done_', 'since_', 'ic_', 'point_', '\". ', 'wasn', 'interesting_', 'c_', 'worst_', 'te_', 'le_', 'ble_', 'ty_', 'looks_', 'show', 'put_', 'looking_', 'especially_', 'believe_', 'en_', 'goes_', 'over', 'ce_', 'p_', 'films', 'hard_', 'main_', 'be', 'having_', 'ry', 'TV_', 'worth_', 'One_', 'do', 'al', 're', 'again', 'series_', 'takes_', 'guy_', 'family_', 'seem_', 'plays_', 'role_', 'away_', 'world_', 'My_', 'character', ', \"', 'performance_', '2_', 'So_', 'watched_', 'John_', 'th_', 'plot', 'script_', 'For_', 'sure_', 'characters', 'set_', 'different_', 'minutes_', 'All_', 'American_', 'anyone_', 'Not_', 'music_', 'ry_', 'shows_', 'too', 'son_', 'en', 'day_', 'use_', 'someone_', 'for', 'woman_', 'yet_', '.\" ', 'during_', 'she', 'ro', '- ', 'times_', 'left_', 'used_', 'le', 'three_', 'play_', 'work', 'ness_', 'We_', 'girl_', 'comedy_', 'ment_', 'an', 'simply_', 'off', 'ies_', 'funny', 'ne', 'acting', 'That_', 'fun_', 'completely_', 'st', 'seeing_', 'us', 'te', 'special_', 'ation_', 'as', 'ive_', 'ful_', 'read_', 'reason_', 'co', 'need_', 'sa', 'true_', 'ted_', 'like', 'ck', 'place_', 'they', '10_', 'However', 'until_', 'rest_', 'sense_', 'ity_', 'everything_', 'people', 'nt', 'ending_', 'again_', 'ers_', 'given_', 'idea_', 'let_', 'nice_', 'help_', 'no', 'truly_', 'beautiful_', 'ter', 'ck_', 'version_', 'try_', 'came_', 'Even_', 'DVD_', 'se', 'mis', 'scene', 'job_', 'ting_', 'Me', 'At_', 'who', 'money_', 'ment', 'ch', 'recommend_', 'was', 'once_', 'getting_', 'tell_', 'de_', 'gives_', 'not', 'Lo', 'we', 'son', 'shot_', 'second_', 'After_', 'To_', 'high_', 'screen_', ' -- ', 'keep_', 'felt_', 'with', 'great', 'everyone_', 'although_', 'poor_', 'el', 'half_', 'playing_', 'couple_', 'now', 'ble', 'excellent_', 'enjoy_', 'couldn', 'x_', 'ne_', ',\" ', 'ie_', 'go', 'become_', 'less', 'himself_', 'supposed_', 'won', 'understand_', 'seen', 'ally_', 'THE_', 'se_', 'actor_', 'ts_', 'small_', 'line_', 'na', 'audience_', 'fan_', 'et', 'world', 'entire_', 'said_', 'at', '3_', 'scenes', 'rs_', 'full_', 'year_', 'men_', 'ke', 'doing_', 'went_', 'director', 'back', 'early_', 'Hollywood_', 'start_', 'liked_', 'against_', 'remember_', 'love', 'He', 'along_', 'ic', 'His_', 'wife_', 'effects_', 'together_', 'ch_', 'Ra', 'ty', 'maybe_', 'age', 'S_', 'While_', 'often_', 'sort_', 'definitely_', 'No', 'script', 'times', 'absolutely_', 'book_', 'day', 'human_', 'There', 'top_', 'ta', 'becomes_', 'piece_', 'waste_', 'seemed_', 'down', '5_', 'later_', 'rs', 'ja', 'certainly_', 'budget_', 'th', 'nce_', '200', '. (', 'age_', 'next_', 'ar', 'several_', 'ling_', 'short_', 'sh', 'fe', 'Of_', 'instead_', 'Man', 'T_', 'right', 'father_', 'actors', 'wanted_', 'cast', 'black_', 'Don', 'more', '1_', 'comedy', 'better', 'camera_', 'wonderful_', 'production_', 'inter', 'course', 'low_', 'else_', 'w_', 'ness', 'course_', 'based_', 'ti', 'Some_', 'know', 'house_', 'say', 'de', 'watch', 'ous', 'pro', 'tries_', 'ra', 'kids_', 'etc', ' \\x96 ', 'loved_', 'est_', 'fun', 'made', 'video_', 'un', 'totally_', 'Michael_', 'ho', 'mind_', 'No_', 'Be', 'ive', 'La', 'Fi', 'du', 'ers', 'Well', 'wants_', 'How_', 'series', 'performances_', 'written_', 'live_', 'New_', 'So', 'Ne', 'Na', 'night_', 'ge', 'gave_', 'home_', 'heart', 'women_', 'nu', 'ss_', 'hope_', 'ci', 'friends_', 'Se', 'years', 'sub', 'head_', 'Y_', 'Du', '. \"', 'turn_', 'red_', 'perfect_', 'already_', 'classic_', 'tri', 'ss', 'person_', 'star_', 'screen', 'style_', 'ur', 'starts_', 'under_', 'Then_', 'ke_', 'ine', 'ies', 'um', 'ie', 'face_', 'ir', 'enjoyed_', 'point', 'lines_', 'Mr', 'turns_', 'what', 'side_', 'sex_', 'Ha', 'final_', ').<', 'With_', 'care_', 'tion_', 'She', 'ation', 'Ar', 'ma', 'problem_', 'lost_', 'are', 'li', '4_', 'fully_', 'oo', 'sha', 'Just_', 'name_', 'ina', 'boy_', 'finally_', 'ol', '!<', 'Bo', 'about', 'though', 'hand', 'ton', 'lead_', 'school_', 'ns', 'ha', 'favorite_', 'stupid_', 'gi', 'original', 'mean_', 'To', 'took_', 'either_', 'ni', 'book', 'episode_', 'om', 'Su', 'D_', 'Mc', 'house', 'cannot_', 'stars_', 'behind_', 'see', 'other', 'Che', 'role', 'art', 'ever', 'Why_', 'father', 'case_', 'tic_', 'moments_', 'Co', 'works_', 'sound_', 'Ta', 'guess_', 'perhaps_', 'Vi', 'thing', 'fine_', 'fact', 'music', 'non', 'ful', 'action', 'ity', 'ct', 'ate_', 'type_', 'lack_', 'death_', 'art_', 'able', 'Ja', 'ge_', 'wouldn', 'am', 'tor', 'extremely_', 'pre', 'self', 'Mor', 'particularly_', 'bo', 'est', 'Ba', 'ya', 'play', 'Pa', 'ther', 'heard_', 'however', 'ver', 'dy_', 'Sa', 'ding_', 'led_', 'late_', 'feeling_', 'per', 'low', 'ably_', 'Un', 'On_', 'known_', 'kill_', 'fight_', 'beginning_', 'cat', 'bit', 'title_', 'vo', 'short', 'old', 'including_', 'Da', 'coming_', 'That', 'place', 'looked_', 'best', 'Lu', 'ent_', 'bla', 'quality_', 'except_', '...<', 'ff', 'decent_', 'much', 'De', 'Bu', 'ter_', 'attempt_', 'Bi', 'taking_', 'ig', 'Ti', 'whose_', 'dialogue_', 'zz', 'war_', 'ill', 'Te', 'war', 'Hu', 'James_', '..', 'under', 'ring_', 'pa', 'ot', 'expect_', 'Ga', 'itself_', 'line', 'lives_', 'let', 'Dr', 'mp', 'che', 'mean', 'called_', 'complete_', 'terrible_', 'boring_', 'others_', '\" (', 'aren', 'star', 'long', 'Li', 'mother_', 'si', 'highly_', 'ab', 'ex', 'os', 'nd', 'ten_', 'ten', 'run_', 'directed_', 'town_', 'friend_', 'David_', 'taken_', 'finds_', 'fans_', 'Mar', 'writing_', 'white_', 'u_', 'obviously_', 'mar', 'Ho', 'year', 'stop_', 'f_', 'leave_', 'king_', 'act_', 'mind', 'entertaining_', 'ish_', 'Ka', 'throughout_', 'viewer_', 'despite_', 'Robert_', 'somewhat_', 'hour_', 'car_', 'evil_', 'Although_', 'wrong_', 'Ro', 'dead_', 'body_', 'awful_', 'home', 'exactly_', 'bi', 'family', 'ts', 'usually_', 'told_', 'z_', 'oc', 'minutes', 'tra', 'some', 'actor', 'den', 'but', 'Sha', 'tu', 'strong_', 'Jo', 'real', 'la', 'gin', 'ul', 'amazing_', 'save_', 'wrong', 'dis', 'obvious_', 'close_', 'sometimes_', 'shown_', 'head', 'land', 'Go', 'mer', 'ending', 'else', 'audience', 'su', 'parts_', 'ga', 'before', 'cinema', 'opening_', 'laugh_', 'Ca', 'sh_', 'guys_', 'ds_', 'number_', 'Ma', 'soon_', 'ob', 'po', 'wonder_', 'group_', 'men', 'Mac', 'thinking_', 'fan', 'across_', 'turned_', 'ant', 'tells_', 'em', 'night', 'ton_', 'picture_', 'past_', 'Hi', 'girl', 'ght', 'woman', 'started_', 'ba', 'Ru', 'da', 'wi', 'running_', 'part', 'wish_', 'ner', 'ap', 'rn', 'ant_', 'mon', 'ast', 'awful', 'Yes', 'The', 'ard', 'nce', 'era', 'today', 'ad', 'Now_', '.) ', 'local_', 'killer_', 'huge_', 'flick', 'ends_', 'light', 'ons_', 'Al', 'knew_', 'due_', 'direction_', 'close', 'Gra', 'od', 'giving_', 'Le', 'op', 'Pe', 'ey_', 'wa', 'sta', 'worse_', 'single_', 'cut_', 'light_', 'ia', 'happens_', 'supporting_', 'room_', 'girls_', 'female_', 'E_', 'falls_', 'nd_', 'ish', 'mostly_', 'tan', 'major_', 'bring_', 'killed_', 'ele', 'el_', 'dark_', 'myself_', 'Pro', 'ent', 'ated_', 'British_', 'va', '....', 'talking_', 'con', 'tion', 'children_', 'by', 'voice_', 'sense', 'Car', '.. ', 'ain', 'For', 'Con', 'performance', 'au', 'stories_', 'ine_', 'Or', 'order_', 'first', 'ac', '8_', 'involved_', 'interesting', 'drama_', 'Dan', 'away', 'From_', 'ping_', 'boy', 'air', 'sing_', 'lle', 'You', 'lo', 'ian', 'ingly_', 'ia_', 'haven', 'using_', 'fo', 'dy', 'modern_', 'ST', 'wife', 'unt', 'game_', 'together', 'pp', 'clearly_', 'First_', 'sad', 'ris', 'ven', 'col', 'Maybe_', 'val', 'sexual_', 'serious_', 'relationship_', 'musical_', 'boring', 'But', 'hit_', 'brilliant_', 'easily_', 'living_', 'ca', 'police_', 'ip', ' , ', 'feels_', 'effects', 'sex', 'ist_', 'die', 'para', 'ort', 'humor_', 'Cor', 'ist', 'et_', 'Richard_', 'call_', 'example', 'appears_', 'actress_', 'rit', 'matter_', 'ar_', 'ns_', 'needs_', 'important_', 'fli', 'ec', 'stupid', 'ee', 'change_', 'bur', ' . ', 'comic_', 'DVD', 'We', '?<', 'Paul_', 'child_', 'ag', 'enjoy', 'cha', 'actual_', 'says_', 'nearly_', 'heart_', 'did', 'similar_', 'side', 'ru', 'ped_', 'und', 'super', 'name', 'clear_', \"', \", 'cu', 'child', 'moment_', 'ions_', 'fall_', 'done', 'chance_', 'then', 'ian_', 'George_', 'exc', 'enough', 'Jack_', 'win', 'Di', 'ying_', 'said', '80', 'ze', 'example_', 'themselves_', 'named_', 'ger', 'near_', 'guy', 'car', 'horrible_', 'bri', '!! ', 'ori', 'his', 'ded_', 'An_', 'released_', 'laugh', 'kept_', 'beyond_', 'b_', 'Sch', 'An', 'Lan', 'In', 'gar', 'genre', 'cho', 'Har', 'title', 'romantic_', 'mother', 'English_', 'mention_', 'interest_', 'Its_', 'money', 'face', 'brought_', 'ut', 'after', 'Win', 'working_', 'ny', 'knows_', 'happened_', 'certain_', '6_', 'within_', 'usual_', 'upon_', 'il', 'Her_', 'from', 'drama', 'Si', 'Mo', 'God', 'five_', 'whether_', 'tried_', 'ial_', 'history_', 'far', 'Re', 'novel', 'chi', 'inc', 'ure_', 'ied_', 'anti', 'Mad', 'lly_', 'Is_', '7_', 'ess', 'bunch_', 'vin', 'slow_', 'style', 'hi', 'eyes_', 'cinema_', 'showing_', 'gen', 'ra_', 'among_', 'unc', 'Po', 'Peter_', 'kid_', 'ght_', 'ny_', 'gh', 'tro', 'four_', 'ue', 'ley_', 'stuff_', 'strange_', 'sit_', 'sch', 'anyway', '199', 'hours_', 'These_', 'Most_', 'own', 'ned_', 'ban', 'Fa', 'decided_', 'xi', 'top', 'll', 'get', 'events_', 'Also_', 'typical_', 'shots_', 'look', 'happy_', 'um_', 'simple_', 'either', 'comment', 'ssi', 'ps', 'Bar', 'Per', 'saying_', 'none_', 'surprised_', 'sse', 'ka', 'ily_', 'horror', 'dig', 'tt', 'ric', 'post', 'TV', '198', '* ', 'half', 'gn', 'ste', 'ls', 'hero_', 'Pi', 'Like_', 'sad_', 'hear_', 'begins_', 'rent_', 'ure', 'rie', 'greatest_', 'Je', 'van', 'sci', 'kid', 'himself', 'Also', 'view_', 'score_', 'dge', 'became_', 'Cra', '197', 'ones_', 'cal', '9_', 'hor', 'hand_', 'days_', 'yourself_', 'tle', 'gan', 'ea', 'ago', 'WA', 'pen', 'ls_', 'learn_', 'Sta', 'By_', 'middle_', 'job', 'uc', 'ko', 'bar', 'lots_', 'cheap_', 'fi', 'stay_', 'stand_', 'pri', 'za', 'im', 'ight', 'happen_', 'Ab', 'Gar', 'ore', 'lan', 'classic', 'writer_', 'ster', 'picture', 'hate_', 'der', 'grand', 'disc', 'Mi', 'ud', 'é', 'murder_', 'basically_', 'jokes_', 'famous_', 'eg', 'easy_', 'rm', 'der_', 'R_', 'Mat', 'two', 'daughter', 'Spi', 'camera', 'AN', 'glo', 'talk_', 'daughter_', 'Fre', 'ri', 'perfect', 'experience_', 'buy_', 'zo', 'bu', 'Pu', 'Col', 'uni', 'later', 'children', 'sets_', 'annoying_', 'Tom_', 'uses_', 'jo', 'dead', 'psycho', 'mid', 'room', 'ki', 'hope', 'dialogue', 'attention_', 'cc', 'above_', 'possibly_', 'mo', 'difficult_', 'Mon', 'Japanese_', '!\" ', 'death', 'class_', ': \"', 'tic', 'ler', 'bus', 'genre_', 'stre', 'keeps_', 'cre', 'una', 'tly_', 'leaves_', 'RE', 'yes', 'realize_', 'nor_', 'figure_', 'Chan', 'rec', 'minute_', 'leading_', 'high', 'gui', 'ug', 'sequence_', 'na_', 'help', 'ani', 'Who_', 'exist', 'documentary_', 'sal', 'pe', 'key_', 'Bra', 'murder', 'leg', 'songs_', 'production', 'dle', 'cla', 'arm', 'US', \"'. \", 'reason', 'moving_', 'alone_', 'Ko', 'Bel', 'fu', 'elements_', 'Ste', 'prof', 'ning_', 'ey', 'dark', 'tur', 'les_', 'Ni', 'NOT_', 'ps_', 'bor', 'ary_', ' />\"', 'tter', 'level_', 'ys', 'apparently_', 'poorly_', 'meets_', 'killing_', 'id', 'ging_', 'ep', 'emotional_', 'brings_', 'means_', 'fla', 'episodes_', 'doubt_', 'camp', 'ME', 'Ad', 'sen', 'opinion', 'nch', 'ell', 'Ri', 'writer', 'something', 'Fe', 'flick_', 'flaw', 'ath', 'net', 'lines', 'cinematography_', 'straight_', 'slow', 'lu', 'ber', 'shi', 'husband_', 'forward_', 'form_', 'cra', 'ay', 'Fo', 'Another_', 'wo', 'whom_', 'reality_', 'hold_', 'Chi', 'Bro', 'roles_', 'move_', 'fire', 'brother_', 'Gi', 'Ben', 'review', 'que', 'cri', 'television_', 'overall_', 'French_', 'violence_', 'lla', 'enti', 'ass', 'previous_', 'forced_', 'cop', 'Oscar_', 'DE', 'possible_', 'hat', 'ear', 'budget', 'Tu', 'Ber', 'start', 'nti', 'hard', 'yn', 'school', 'deal_', 'rest', 'problems_', 'lie', 'ite', 'cool_', 'add_', 'towards_', 'reading_', 'LO', 'Gold', 'regard', 'itself', 'OK', 'leads_', 'id_', 'ved_', 'moments', 'dia', 'aw', '!) ', ' $', 'write_', 'theme_', 'Wo', 'filmed_', 'use', 'talent_', 'silly_', 'personal_', 'performances', 'needed_', 'mit', 'meant_', 'cli', 'Sho', 'tain', 'Pri', 'whi', 'comments_', 'city_', 'various_', 'sing', 'rate_', 'create_', 'respect', 'port', 'act', '194', 'message_', 'ted', 'dance_', 'case', 'ves_', 'song_', 'somehow_', 'incredibly_', 'points_', 'manages_', 'career_', 'begin_', 'Tra', 'RI', '20_', 'lai', 'interested_', 'terrible', 'hell_', 'har', 'Ku', 'Ger', 'video', 'ren', 'ky_', 'Ap', 'review_', 'ds', 'blood', 'worse', 'new', 'des', 'ways_', 'read', 'herself_', 'fre', ' *', 'set', 'rated_', 'friends', 'feature_', 'eventually_', 'blood_', 'Sea', 'ving_', 'enjoyable_', 'appear_', 'Stan', 'SE', 'thought', 'suit', 'qui', 'political_', 'person', 'les', 'gla', 'around', 'think', 'len', 'hit', 'direction', 'tale_', 'mess', 'dramatic_', 'ual_', 'gore_', 'Can', 'Am', 'ver_', 'others', 'ju', 'fairly_', 'dan', 'power_', 'dro', 'count', 'Her', 'une', 'third_', 'rop', 'crap', 'ai', 'ade', 'Joe_', 'town', 'ridiculous_', 'gone_', 'William_', 'particular_', 'older_', 'male_', 'humor', 'ard_', 'where', 'run', 'ld', 'bb', 'C_', 'ther_', 'sp', 'plenty_', 'ling', 'future_', 'stars', 'sin', 'pi', 'meet_', 'lt', 'da_', 'check_', 'En', '?\" ', 'ball', 'animation_', 'ta_', 'King_', 'hardly_', 'cul', '60', 'rt', 'Is', 'rai', 'land_', 'clu', 'wise', 'fast_', 'class', 'bra', 'worked_', 'question', 'per_', 'ok', 'expecting_', 'front_', 'come', 'Cu', 'scary_', 'past', 'hero', 'Mel', 'gri', 'average_', 'writers_', 'nk', 'fashion', 'dream', 'bear', 'attempts_', 'stand', 'total_', 'through', 'sm', 'ms', 'ice', 'gs_', 'eye', 'effort_', 'ale', 'warm', 'note', 'ger_', 'follow_', 'cro', 'vis', 'subject_', 'reviews_', 'mm', 'ect', 'Wa', 'Rob', 'imagine_', 'however_', 'decides_', 'brother', 'achieve', 'things', 'stage_', 'sound', 'rating_', 'ously_', 'ier', 'features_', 'ase', 'Vo', 'really', 'pay', 'pal', 'filled_', 'Disney_', 'telling_', 'join', 'coa', 'Lee_', 'team_', 'ov', 'emp', 'days', 'bin', 'ann', 'ally', 'women', 'social_', 'friend', 'vic', 'novel_', 'gle', 'ance_', 'weak_', 'viewers_', 'sy', 'fort', 'idea', 'Mu', 'MA', 'thriller', 'medi', 'forget_', 'York_', 'Au', 'stuff', 'ons', 'hilarious_', 'career', 'Ke', 'Christ', 'ors_', 'mentioned_', 'mark', 'def', 'watching', 'version', 'lor', 'flo', 'country_', 'G_', 'Bat', 'plain_', 'Sam', 'Anyway', 'lic', 'expected_', 'Tru', 'Great_', 'Ser', 'N_', 'And', '?) ', 'san', 'hr', 'Ham', 'pay_', 'lea', 'hol', 'Unfortunately', 'Luc', 'uti', 'row', 'history', 'bea', 'What', 'Or_', 'unless_', 'ica', 'episode', 'stra', 'sounds_', 'ability_', 'Cha', 'sco', 'represent', 'portrayed_', 'outs', 'dri', 'crap_', 'Oh', 'word_', 'open_', 'fantastic_', 'II', 'power', 'ical_', 'badly_', 'Well_', 'IN', 'Angel', 'waiting_', 'sees_', 'mor', 'ari', 'tom', 'sli', 'nation', 'mi', 'inf', 'Mil', 'viewing_', 'rt_', 'premise_', 'ma_', 'fit_', 'wl', 'unique_', 'talent', 'stay', 'fails_', 'breath', 'thi', 'ert', 'Sco', 'talk', 'slightly_', 'je', 'ah', 'NE', 'Fin', 'ridiculous', 'la_', 'Ki', 'vir', 'hea', 'ely_', 'beautiful', 'admit_', 'pu', 'crime_', 'comment_', '0_', 'shot', 'free_', 'entertaining', 'deserves_', 'mas', 'dialog_', 'hip', 'ff_', 'talented_', 'runs_', 'ini', 'ew', 'ded', 'Gri', 'roles', 'realistic_', 'clo', 'ana', 'Rat', 'Oh_', 'Man_', 'Den', 'spent_', 'rse', 'die_', 'Spe', 'Dra', 'ord', 'mal', 'ism', 'del', 'War', 'Cro', 'nn', 'min', 'fighting_', 'excellent', 'ct_', 'ask_', 'abo', 'parents_', 'ou', 'flash', 'Ver', 'Star', 'ym', 'score', 'nature_', 'den_', 'cou', 'body', 'aff', 'Ze', 'Pat', 'Mal', 'lab', 'wing_', 'theater_', 'sho', 'ow', 'mini', 'biggest_', 'Best_', 'wrote_', 'perfectly_', 'pack', 'ile', 'bly_', 'agree_', 'Perhaps_', '-- ', 'sign', 'di', 'cer', 'caught_', 'Good_', 'visual_', 'roll', 'my', 'memorable_', 'kids', 'ise_', 'hin', 'bre', 'beat', 'ring', 'reveal', 'res', 'pit', 'fa', '70', 'words_', 'wn', 'wait_', 'storyline_', 'make', 'ended_', 'ship_', 'ose', 'hot_', 'add', 'DO', 'ib', 'eri', 'directors_', 'amount_', 'Sure', 'ua', 'tin', 'mu', 'hilarious', 'eti', 'deep_', 'battle_', 'bas', 'Pre', 'Ali', 'tre', 'tie', 'thriller_', 'spirit', 'sister', 'ship', 'ser', 'rl', 'rich_', 'outside_', 'ato', 'ad_', 'Do', 'weren', 'sla', 'ro_', 'large_', 'craft', 'Shi', 'ye', 'true', 'spend_', 'rd', 'entirely_', 'Do_', 'wit', 'quickly_', 'powerful_', 'ary', 'Jane_', '193', 'sti', 'ph', 'mel', 'list', 'interest', 'footage_', 'comm', 'Tri', 'vers', 'spe', 'sna', 'sequences_', 'present', 'casting_', 'Star_', 'M_', ').', 'shoot', 'result_', 'gre', 'fore', 'ete', 'break', 'soundtrack_', 'sion_', 'poor', 'lay', 'eas', 'black', 'temp', 'nda', 'king', 'compared_', 'chu', 'break_', 'Ben_', 'ute', 'recent_', 'pure_', 'oi', 'lie_', 'burn', 'uns', 'rip', 'ner_', 'late', 'husband', 'former_', 'dull_', 'argu', 'Hollywood', 'nc', 'ming_', 'lin', 'atmosphere_', 'wood', 'why', 'amazing', 'ron', 'rat', 'gra', 'sed_', 'period_', 'game', 'Sto', 'win_', 'ult', 'scar', 'pun', 'hei', ' `', 'release_', 'present_', 'pin', 'ks_', 'appreciate_', '00', 'jump', 'bomb', 'HA', 'showed_', 'nan', 'kills_', 'decade', 'NO', 'Boy', 'ting', 'rating', 'editing_', 'actress', 'Wal', 'Ea', '\", \"', 'weird_', 'inside_', 'hair', 'eli', 'disappointed_', 'Wor', 'ski', 'ings_', 'fast', 'drag', 'adapt', 'TO', 'NG_', 'sequel_', 'fle', 'Sand', 'RO', 'whatever_', 'sleep', 'sca', 'ret', 'ney_', 'creepy_', 'cal_', '\") ', 'sor', 'popular_', 'nne', 'kick', 'ht', 'display', 'another', 'ves', 'please_', 'moves_', 'care', 'bet', 'bat', 'War_', 'CO', 'program', 'predictable_', 'positive_', 'hing_', 'copy_', 'bia', 'anything', 'affect', 'thrill', 'rk', 'mark_', 'ism_', 'edit', 'Bri', 'rate', 'missing_', 'ila', 'ial', 'guess', 'ft', 'entr', 'decide_', '30', 'sun', 'filmmakers_', 'box_', 'ating_', 'Cla', 'CA', '18', 'nie', 'material_', 'married_', 'hu', 'fin', 'blo', 'Wood', 'Tom', 'vi', 'oni', 'ena', 'BA', 'path', 'os_', 'human', 'mag', 'ins', 'earlier_', 'TI', 'LA', 'Far', 'portrayal_', 'orc', 'lame_', 'ks', 'form', 'call', 'acted_', 'Christmas_', 'violence', 'superb_', 'idiot', 'follow', 'blow', 'SO', 'Les', 'Bill_', '30_', 'sorry_', 'created_', 'common_', 'cheesy_', 'Lea', 'Carl', '!!! ', 'question_', 'pt', 'pick', 'med_', 'leaving_', 'box', 'Ci', 'Bla', 'AR', '\".<', 'ze_', 'makers_', 'draw', 'ala', 'Day', 'B_', 'succeed', 'pat', 'ones', 'gay_', 'cy', 'barely_', 'ara', 'air_', 'San', 'Director_', 'xt', 'screenplay_', 'pan', 'miss_', 'does', 'consider_', 'com', 'ER', 'ub', 'ple', 'mystery_', 'mine', 'involving_', 'familiar_', 'Mari', 'German_', 'nat', 'eye_', 'dly_', 'disa', 'country', 'att', 'app', 'tho', 'press', 'mat', 'llo', 'fi_', 'connect', 'called', 'ane', 'May', 'LE', 'K_', 'Italian_', 'Every_', 'sure', 'ster_', 'starring_', 'horse', 'further_', 'entertainment_', 'ense', 'dog', 'disappointed', 'cher', 'af', 'won_', 'secret', 'likes_', 'indi', 'follows_', 'ball_', 'God_', 'Cur', '196', 'wasted_', 'ideas_', 'cur', 'Bal', 'lly', 'ire', 'gu', 'general_', 'believable_', 'aus', 'Stu', 'Despite_', 'understand', 'lit', 'last', 'cy_', 'bought_', 'ago_', 'Very_', 'Only_', 'Han', 'wear', 'thu', 'themselves', 'recently_', 'ms_', 'intention', 'focus_', 'ations_', 'ali', 'yp', 'yet', 'ici', 'gy', 'exten', 'Min', 'Lin', 'Ed', 'Dar', 'tis', 'credits_', 'Now', '50', 'sister_', 'setting_', 'odd_', 'missed_', 'mea', 'lot', 'ight_', 'gg', 'fantasy_', 'ash', 'US_', 'Overall', 'young', 'suddenly_', 'nge', 'members_', 'dra', 'cover_', 'artist', 'Watch_', 'moment', 'background_', '.....', 'seriously_', 'mic', 'considered_', 'Ric', 'Pres', '! <', ' (\"', 'opinion_', 'ise', 'gun', 'different', 'Sou', 'utterly_', 'asse', 'alt', 'Though_', 'LY_', 'Big_', 'situation_', 'rio', 'il_', 'ef', 'ding', 'Still', 'Cre', 'younger_', 'special', 'raise', 'El', '90', 'walk_', 'tone_', 'tes_', 'sitting_', 'glad_', 'base', 'Let', 'Boo', 'vent', 'lead', 'considering_', 'animated_', 'witness', 'torture', 'throw', 'sea', 'load', 'lim', 'hot', 'following_', 'ess_', 'center', 'Scott_', 'NG', 'BO', '15_', 'word', 'rid', 'pop', 'ions', 'ges', 'enter', 'Sal', 'Gre', 'ties_', 'spl', 'hy', 'ery_', 'disappointment', 'avoid_', 'Jud', 'Ce', 'need', 'hel', 'hands_', 'develop', 'cause_', 'Steve_', 'zombie_', 'voice', 'successful_', 'eo', 'Mary_', 'EN', 'Because_', 'stage', 'rv', 'master', 'crazy_', 'Mer', 'rent', 'hes', 'OF_', 'yl', 'tive_', 'remake_', 'passion', 'managed_', 'fra', 'fans', 'drive', 'CH', 'Blo', 'Art', 'surprise_', 'suggest', 'list_', 'imme', 'crew_', 'continu', 'Sci', 'solid_', 'ora', 'eu', 'Men', 'Cal', 'sus', 'shar', 'omi', 'ita', 'istic_', 'Pl', 'Jack', 'Davi', 'wonder', 'slasher_', 'produced_', 'frame', 'cle', 'Em', 'subs', 'state', 'seek', 'ona', 'mention', 'laughing_', 'iti', 'hide', 'date', 'Some', 'touch', 'soft', 'shop', 'interview', 'dumb_', 'clean', 'bored_', 'bill', 'bed_', 'beauty_', 'basic_', 'Cou', 'zi', 'ultimately_', 'thinks_', 'sto', 'odd', 'masterpiece', 'kind', 'cool', 'Ac', 'tto', 'sit', 'nci', 'ized_', 'gore', 'dee', 'boo', 'Va', 'Come', 'ning', 'escape', 'eng', 'RA', 'America', 'worthy_', 'unre', 'tche', 'shame_', 'nothing', 'explo', 'Sl', 'Bus', 'BE', '13', 'pra', 'least', 'effect_', 'deliver', 'boys_', 'Wi', 'Stra', 'Fr', 'Cap', '**', '\".', 'space_', 'potential_', 'oli', 'lon', 'ind', 'gor', 'gon', 'generally_', 'ext', 'chees', 'beginning', 'Tony_', 'wait', 'meaning', 'ley', 'fire_', 'des_', 'cop_', 'ati', 'Ram', 'Ex', '195', 'were', 'survive', 'ral_', 'push', 'mut', 'killer', 'dist', 'charm', 'ang', 'Frank', 'writing', 'worth', 'wor', 'stop', 'stick_', 'ler_', 'chemistry_', 'cap', 'ae', 'Ya', 'second', 'ost', 'machine', 'lessly_', 'individual', 'experience', 'ead', 'dancing_', 'Sy', 'Del', 'Bor', '!!', 'would', 'suspense_', 'project', 'intelligent_', 'cover', 'asi', 'Brit', 'speak_', 'season_', 'oth', 'ida', 'factor', 'amo', 'World_', 'Once_', 'Hard', ' ... ', 'tol', 'live', 'changed_', 'brain', 'uri', 'seriously', 'release', 'likely_', 'gne', 'explain_', 'ance', 'added_', 'Here_', 'AL', '% ', 'wre', 'spar', 'gree', 'eyes', 'detail', 'Night', 'Mag', 'term', 'tape', 'public_', 'pleas', 'lives', 'ker', 'ile_', 'had', 'dre', 'directing_', 'dialog', 'convincing_', 'chance', 'big', 'beat_', 'appl', 'truth_', 'spa', 'rica', 'monster_', 'market', 'imm', 'have', 'fine', 'clue', 'card', 'blu', 'adult_', 'Who', 'Jim_', 'Bea', '.)', 'value', 'twist_', 'thrown_', 'phe', 'model', 'entertainment', 'Where_', 'LI', 'Ju', 'Black_', 'ura', 'nic', 'han', 'failed_', 'cinematic_', 'bizarre_', 'ben', 'Gu', 'rare_', 'mbo', 'historical_', 'everyone', 'epi', 'ate', 'ada', 'Cli', 'wind', 'sou', 'nder', 'mb', 'held_', 'formula', 'flu', 'effect', 'clever_', 'catch_', 'W_', 'pick_', 'business_', 'attempt', 'Show', 'Paul', 'segment', 'romance_', 'ram', 'nom', 'how', 'ged_', 'flow', 'equally_', 'computer_', 'commercial', 'Val', 'IMDb_', 'trans', 'sent_', 'pet', 'lk', 'ider', 'corn', 'channel', 'Ge', 'Christopher_', 'ways', 'tat', 'subject', 'shooting_', 'return_', 'neither_', 'neighbor', 'lady_', 'impossible_', 'Spa', 'BI', '***', ' -', 'yr', 'violent_', 'syn', 'suffer', 'fur', 'cru', 'Charl', 'secret_', 'rp', 'ros', 'pie', 'ious_', 'hoping_', 'ence_', 'Ye', 'Son', 'trick', 'nia', 'effective_', 'desp', 'costume', 'check', 'board_', 'ami', 'aire', 'ado', 'Whi', 'Two_', 'Rose', 'Green', 'surround', 'promise', 'mad', 'lesson', 'imagination', 'hum', 'excuse_', 'escape_', 'aspect_', 'ak', 'Thu', 'Pal', 'Kr', 'Bur', 'vil', 'travel', 'reso', 'protagonist', 'object', 'nes', 'longer_', 'lia', 'key', 'incredible_', 'hoo', 'fool', 'expression', 'bot', 'bel', 'Ree', 'Oscar', 'Fu', 'safe', 'remains_', 'note_', 'natural_', 'just', 'hm', 'grace', 'credit_', 'constantly_', 'Sam_', 'Ren', 'OK_', 'view', 'unlike_', 'surprise', 'success_', 'ssion', 'song', 'player', 'match_', 'ela', 'din', 'critic', 'accident', '20', 'otherwise_', 'material', 'knowing_', 'ings', 'ffe', 'depth_', 'cula', 'Whe', 'Ph', 'Ai', 'respect_', 'puts_', 'pher', 'kin', 'concept_', 'zed_', 'unfortunate', 'que_', 'predictable', 'order', 'onto_', 'meta', 'ev', 'dress', 'dog_', 'cell', 'Thi', 'Frank_', 'spin', 'rot', 'military_', 'hall', 'cut', 'choice_', 'chick', 'bs', 'Za', 'Many_', 'witch', 'weak', 'swa', 'rti', 'producers_', 'inn', 'gold', 'fault', 'ez', 'cute_', 'cult_', 'WO', 'SH', 'drink', ', (', 'wall', 'theme', 'taste', 'sion', 'iz', 'gun_', 'ek', 'drawn_', 'anyone', 'antic', 'tension_', 'team', 'sweet_', 'ree', 'perform', 'partner', 'horrible', 'contains_', 'Es', 'De_', 'Chris_', 'AT', 'vote', 'tch_', 'singing_', 'shine', 'hasn', 'happen', 'gal', 'demon', 'dar', 'Jer', 'GE', 'ske', 'indeed_', 'guys', 'emotion', 'apart_', 'See', 'Roger', 'Pol', 'trouble_', 'seat', 'planet', 'exciting_', 'err', 'dream_', 'cus', 'arrive', 'HO', '!!!!', 'trip_', 'today_', 'sle', 'setting', 'rr', 'plus_', 'og', 'faci', 'disp', 'crack', 'cen', 'Gun', 'words', 'will', 'prefer', 'pect', 'noi', 'leader', 'dit', 'deal', 'creep', 'Zo', 'Sid', 'East', 'record', 'poo', 'normal_', 'message', 'ffi', 'fer', 'correct', 'colle', 'ator', 'Ros', 'Other_', 'zen', 'usi', 'pil', 'mental_', 'ji', 'immediately_', 'ible_', 'capt', 'bab', 'Chu', 'tar', 'stands_', 'progress', 'making', 'lc', 'fic', 'exp', 'encounter', 'circ', 'change', 'annoying', 'Mur', 'Lor', 'Little_', 'tl', 'rain', 'fail', 'died_', 'Time', 'Blood', 'tell', 'reflect', 'ked_', 'judge', 'ide', 'development_', 'control_', 'clima', 'bed', 'alr', 'Tre', 'trouble', 'thr', 'spot', 'ress', 'red', 'pol', 'hill', 'eb', 'TH', 'Ken', '\\x85 ', 'surprisingly_', 'rep', 'freak', 'dep', 'college_', 'brilliant', 'blin', 'bath', 'People_', 'Nat', 'Charles_', 'walking_', 'ref', 'reco', 'pace_', 'nde', 'mil', 'mainly_', 'literally_', 'fia', 'dull', 'Sn', 'Ever', 'Dam', 'Bre', 'Brad', 'Both_', 'ward', 'trash', 'tough_', 'serve', 'reasons_', 'ngs', 'llen', 'ines', 'honest', 'focus', 'carrie', 'aim', 'Us', 'Prince', 'Nothing_', 'truth', 'supp', 'sma', 'musical', 'inco', 'fight', 'enc', 'bother', 'arch', 'Jon', 'Japan', 'Er', 'Des', '!!!', 'unw', 'unfortunately_', 'til', 'rese', 'marri', 'ior', 'ene', 'ain_', 'Aust', 'ular', 'tru', 'tch', 'tale', 'prop', 'phan', 'orat', 'nit', 'matter', 'host', 'hood', '\\\\&undsc', 'Not', 'Film_', 'Ama', 'yle', 'var', 'standards', 'pers', 'nice', 'meaning_', 'laughs_', 'joke_', 'iss', 'happi', 'era_', 'WH', 'Lil', 'Girl', 'ES', ' />-', 'watche', 'tant', 'qua', 'presented_', 'minor_', 'gro', 'fie', 'door', 'corp', 'catch', 'cally_', 'bert', 'Indian_', 'Gen', 'questions_', 'lacks_', 'forever', 'establish', 'esc', 'cheap', 'Sol', 'while', 'twist', 'society_', 'pass_', 'overa', 'merely_', 'highlight', 'flat_', 'fill', 'color', 'cartoon_', 'Will_', 'NT', 'IT', 'Harry_', 'Fan', 'youth', 'possible', 'orm', 'free', 'eight', 'destroy', 'creati', 'cing_', 'ces_', 'Carr', 'unl', 'suggest_', 'slo', 'owner', 'kh', 'instead', 'influence', 'experiment', 'convey', 'appeal_', 'Ol', 'Night_', '---', 'vy', 'terms_', 'sick_', 'par', 'once', 'law', 'ize_', 'infe', 'Spo', 'House_', '\\x85', 'studio_', 'simple', 'rre', 'guard', 'girlfriend_', 'fear', 'dam', 'concern', 'amusing_', 'adaptation_', 'Ms', 'King', 'water', 'ory_', 'officer', 'litera', 'knock', 'grat', 'falling_', 'ered_', 'cow', 'cond', 'alo', 'Kar', 'Der', 'Cri', 'text', 'skin', 'sequel', 'level', 'impression_', 'ice_', 'force_', 'fake_', 'deri', 'contain', 'band_', 'appa', 'South_', 'HE', 'Conn', 'wise_', 'ur_', 'ual', 'sy_', 'luck', 'lack', 'impressi', 'disaster', 'business', 'being', 'beg', 'Burt', ' <', 'villain_', 'type', 'shoot_', 'shame', 'sb', 'pt_', 'proves_', 'manner', 'lame', 'impressive_', 'ern', 'disappear', 'alone', 'LL', 'Having_', 'Brook', 'Arm', '!\"', 'works', 'state_', 'shock', 'rev', 'mus', 'int', 'ino', 'images_', 'brid', 'berg', 'alis', 'Clo', 'singer', 'shr', 'rock_', 'provides_', 'page', 'instance', 'drug_', 'crime', 'beautifully_', 'acts_', 'UN', 'Tal', 'Bruce_', 'self_', 'reality', 'mans', 'lived_', 'innocent_', 'ically_', 'fall', 'dict', 'Henry_', 'Fox', 'Bac', 'sold', 'says', 'period', 'ome', 'melodrama', 'include_', 'evil', 'Ins', 'stati', 'silent_', 'ria', 'mom', 'met_', 'guns', 'ground', 'gate', 'fell_', 'cle_', 'cari', 'birth', 'Look', 'Hill', '1950', 'water_', 'reminded_', 'express', 'delight', 'als_', 'Wes', 'Mis', 'Louis', 'Grant', 'xe', 'written', 'touch_', 'ters_', 'squa', 'moral', 'ffer', 'aut', 'appearance_', 'Sim', 'Nor', 'Mont', 'IS_', 'Cath', 'take', 'shel', 'protect', 'gut', 'ans', 'Too_', 'Scar', 'Death', 'American', 'AND_', 'throw_', 'suck', 'standard_', 'sil', 'should', 'share_', 'scary', 'loves_', 'indu', 'foot', 'ew_', 'answer', 'Wit', 'Van_', 'Terr', 'Str', 'subtle_', 'stories', 'store_', 'must', 'ments_', 'mbi', 'gs', 'ft_', 'fellow_', 'erat', 'eni', 'crash', 'ches', 'becoming_', 'appeared_', 'TE', 'Fal', '., ', 'visit', 'viewer', 'tag', 'surely_', 'sur', 'stri', 'putting_', 'pull_', 'process', 'pointless_', 'nta', 'mass', 'hur', 'hell', 'gue', 'girls', 'Rev', 'Pan', 'Billy_', 'villain', 'suppose_', 'sick', 'prom', 'narrat', 'mer_', 'followed_', 'decision', 'auto', 'adult', 'Movie_', 'Ban', 'tone', 'thoroughly_', 'sympath', 'sts_', 'sk', 'pot', 'piece', 'offers_', 'nte', 'most', 'helps_', 'det', 'cti', 'brief_', 'block', 'adds_', 'Street', 'Red_', 'Qui', 'Love', 'BL', 'support_', 'ses_', 'rta', 'recognize', 'mission', 'ignore', 'hon', 'broad', 'bid', 'ano', 'Swe', 'Shakespeare', 'Ron', 'Mart', 'Charlie_', 'thanks_', 'tage_', 'serial_', 'revenge_', 'ors', 'office_', 'nst', 'feature', 'drugs', 'disturb', 'anymore', 'Bl', \", '\", 'univers', 'touching_', 'strange', 'improve', 'iff', 'heavy_', 'fare', 'central_', 'buff', 'Inter', 'EA', 'worr', 'turning_', 'tired_', 'than', 'seemingly_', 'motion_', 'ku', 'has', 'goe', 'evi', 'duc', 'dem', 'cinematography', 'aspects_', 'any', 'High', 'Cho', 'tick', 'surviv', 'suicide', 'return', 'remember', 'ppy_', 'noti', 'mess_', 'mes', 'inve', 'grow', 'enge', 'dom', 'Tar', 'Since_', 'Roy', '19', ' ( ', 'track_', 'racis', 'narrative_', 'nal', 'mysterious_', 'moral_', 'imp', 'desert', 'compl', 'along', 'Sw', 'Super', 'HI', 'Dor', 'America_', 'vert', 'superb', 'stu', 'shouldn', 'science_', 'rough', 'ray', 'ova', 'dumb', 'deb', 'court', 'control', 'complex_', 'butt', 'Joe', 'Ir', 'Direct', 'throughout', 'tende', 'stic_', 'somewhere_', 'sel', 'pti', 'picked_', 'parts', 'mob', 'fear_', 'developed_', 'couple', 'cas', 'attitude', 'apo', 'Sun', 'MO', 'L_', 'Ei', 'teen_', 'pull', 'ough', 'hunt', 'favor', 'dos', 'delivers_', 'chill', 'ately', 'Van', 'vat', 'tz', 'trip', 'stuck_', 'rela', 'mood_', 'finish', 'essen', 'ering_', 'disappoint', 'could', 'commit', 'TA', 'Lam', 'Harris', 'whole', 'value_', 'ural', 'sim', 'season', 'redeeming_', 'poli', 'please', 'happened', 'geo', 'force', 'ero', 'core_', 'cand', 'blue', 'bell', 'assi', 'asp', 'adventure_', 'Sin', 'McC', 'whatsoever', 'sky', 'shows', 'pse', 'language_', 'insight', 'ier_', 'finding_', 'everything', 'cker', 'challenge', 'books_', 'Out', 'Ji', 'Glo', 'tune', 'terri', 'prem', 'oe', 'nish', 'movement', 'ities_', 'effort', 'absolute_', 'Brian_', 'Alan_', 'unin', 'unde', 'ude', 'tear', 'oh_', 'ize', 'ilia', 'hint', 'credib', 'craz', 'choice', 'charming_', 'audiences_', 'apart', 'York', 'Marc', 'wonderful', 'willing_', 'wild', 'repeated', 'refer', 'ready_', 'radi', 'punch', 'prison', 'painful_', 'pain', 'paid_', 'pace', 'nni', 'mate_', 'hole', 'future', 'disturbing_', 'cia', 'buck', 'ache', 'Taylor', 'Lind', 'Hol', 'vel', 'tor_', 'terrific_', 'suspense', 'sf', 'research', 'remark', 'problem', 'plu', 'pathetic_', 'negative_', 'lovely_', 'lift', 'hype', 'gl', 'earn', 'ave', 'Their_', 'SS', 'Cass', 'slowly_', 'rented_', 'opportunity_', 'fat', 'every', 'este', 'dub', 'cons', 'bull', 'Sav', 'P_', 'My', 'wondering_', 'unbe', 'twe', 'statu', 'shin', 'rock', 'party_', 'inform', 'heroine', 'hate', 'girlfriend', 'fate', 'ette', 'dies_', 'comparison', 'alb', 'ak_', 'Lis', 'Christian_', 'Act', 'yon', 'storyline', 'soul', 'rece', 'rea', 'product', 'nut', 'lets_', 'funniest_', 'field_', 'city', 'Stephen_', 'GH', 'Ann', 'wee', 'weapon', 'viewing', 'tte', 'sty', 'spi', 'quality', 'price', 'possess', 'ntly', 'dd', 'compa', 'buy', 'agree', 'Hal', 'Comp', 'twists_', 'shak', 'nudity_', 'mati', 'giant_', 'company_', 'baby_', 'admit', 'Finally', 'wn_', 'whe', 'romance', 'presence_', 'myself', 'jokes', 'ident', 'friendship', 'fift', 'explore', 'episodes', 'element_', 'edi', 'eat', 'conve', 'Ira', 'However_', 'DI', 'winning_', 'sexy_', 'rescue', 'physical_', 'pe_', 'oid', 'nobody_', 'nis', 'mad_', 'lin_', 'ket', 'hom', 'generation', 'dance', 'attack', 'appropriate', 'allowed_', 'Ve', 'RS', 'Mr_', 'Kid', 'Instead_', 'Hell', 'Everything_', 'Before_', 'Arthur_', 'waste', 'themes_', 'stunt', 'rap', 'million_', 'hi_', 'games', 'fair_', 'distract', 'cross', 'boat', 'available_', 'abilit', 'Hitler', 'Fl', 'Cas', 'wearing_', 'spirit_', 'rede', 'rb', 'perspective', 'ocr', 'mac', 'kle', 'gang_', 'floor', 'fab', 'Pen', 'ON', 'Kur', 'Jerry_', 'Here', 'Andrew', '??', 'window', 'uss', 'mp_', 'intens', 'expert', 'ei', 'changes_', 'carry_', 'born_', 'bee', 'award', 'Sor', 'Jos', 'Home', 'Cat', '1980', 'zing_', 'victim', 'tight', 'space', 'slu', 'pli', 'neat', 'mistake', 'ky', 'joke', 'includes_', 'hear', 'emb', 'dev', 'damn_', 'confusi', 'church', 'NI', 'Clark', 'theatre', 'sso', 'lock', 'laughed_', 'fran', 'drive_', 'danger', 'alle', 'Which_', 'Western', 'Roman', 'Rit', 'Pie', 'Law', 'France', 'Did_', '14', 'vor', 'usual', 'turn', 'supposedly_', 'sm_', 'satisf', 'realistic', 'pieces_', 'nse', 'near', 'image_', 'flat', 'development', 'design', 'contrast', 'colla', 'board', 'arti', 'anywhere', 'Unfortunately_', 'Rock', 'Ford', 'Doc', 'white', 'small', 'replace', 'prison_', 'owe', 'minat', 'may', 'inspired_', 'helped_', 'expect', 'doll', 'dish', 'chase', 'awa', 'Those_', 'Second', 'OR', 'Nazi', 'Ell', 'watchable', 'via', 'test', 'stick', 'step_', 'speech', 'relationship', 'pass', 'ote', 'nel', 'mild', 'gue_', 'embarrass', 'describe_', 'bound', 'bother_', 'aging', 'Julie', '70s', 'via_', 'street_', 'squ', 'scream', 'pos', 'overs', 'mix_', 'martial_', 'magic_', 'jud', 'gener', 'eh', 'concept', 'alien', 'FO', 'which', 'values_', 'success', 'soldiers_', 'pla', 'lous', 'lose_', 'io', 'ike', 'fish', 'eth', 'ddy', 'crowd', 'creative_', 'conc', 'beh', 'bbi', 'Matth', 'Europe', '1970', 'ulat', 'track', 'target', 'swea', 'stal', 'refuse', 'phon', 'pho', 'hang', 'gea', 'doubt', 'compr', 'cloth', 'cliché', 'bland', 'behavior', 'aci', 'Simp', 'Leon', 'England', 'Edi', 'Cons', ')<', ' .', 'wy', 'worker', 'volu', 'vehicle', 'tour', 'random_', 'phone_', 'ong', 'moved_', 'grave', 'folk', 'filming_', 'feelings_', 'build_', 'basi', 'Tor', 'TR', 'Sk', 'New', 'Miss_', 'Kl', 'Kat', 'Boll', 'zil', 'ust', 'robot', 'result', 'reac', 'ped', 'pea', 'ow_', 'mmi', 'laughs', 'issues_', 'intended_', 'impressed_', 'favorite', 'dw', 'documentary', 'doctor_', 'debut', 'account', 'North', 'Im', 'GO', 'weird', 'transform', 'train', 'swi', 'sum', 'soci', 'same', 'reh', 'ld_', 'ffic', 'conversation', 'comedic_', 'artistic_', 'adi', 'accept', 'Stone', 'Jew', 'CR', 'threaten', 'stea', 'scra', 'sake', 'potential', 'listen', 'het', 'cted_', 'cod', 'chase_', 'berg_', 'appear', 'Ton', 'Queen', 'Mark_', 'Hall', 'FI', 'wer', 'thes', 'sons', 'provide_', 'nger', 'ney', 'mot', 'mask', 'flesh', 'exe', 'dozen', 'disgu', 'conclusion', 'accent', 'Victoria', 'SP', 'Jr', 'Char', 'Albert', 'try', 'tal_', 'round_', 'mix', 'ison', 'hundred', 'holds_', 'gger', 'approach_', 'Space', 'Okay', 'MI', 'Love_', 'Elvi', 'Doo', 'tragic_', 'sweet', 'stud', 'sible', 'remain', 'pur', 'nts_', 'ken', 'got', 'fam', 'edge_', 'Hea', 'Film', 'Cast', 'teenage_', 'technical_', 'skip', 'rend', 'our', 'illus', 'ham', 'favourite_', 'ensi', 'consist', 'cold_', 'cent', 'cate', 'MAN', 'F_', 'Die', 'Cub', 'Chinese_', 'yourself', 'ugh', 'stretch', 'society', 'rth', 'root', 'reminds_', 'reg', 'rd_', 'put', 'purpose', 'ition_', 'humanity', 'gotten_', 'fest', 'feel', 'fascinat', 'failure', 'culture_', 'cont', 'allow_', 'pursu', 'preci', 'if', 'belong', 'VE', 'Sar', 'O_', 'Nic', 'Dead', 'AC', ' ****', 'western_', 'uct', 'thro', 'tes', 'struggle_', 'straight', 'stic', 'similar', 'repe', 'pid', 'nes_', 'mou', 'irre', 'hic', 'explained', 'deeply_', 'cs_', 'confront', 'clichés', 'attack_', 'asks_', 'Yet_', 'Was_', 'Tro', 'Stre', 'Rei', 'Kelly_', 'Julia', 'Bas', '? <', 'ties', 'technique', 'stunning_', 'slight', 'skill', 'sat_', 'outstanding_', 'lies_', 'journey_', 'hap', 'expla', 'definit', 'critics_', 'continue_', 'compelling_', 'charge', 'Thing', 'PE', 'Marie', 'Lynch', 'Jason_', 'Hen', 'Av', '.... ', '\\x97', 'wanting_', 'wanna', 'transp', 'thats_', 'smok', 'respons', 'professional_', 'print', 'physic', 'names_', 'inge', 'infa', 'grip', 'green', 'ggi', 'buster', 'bum', 'belief', 'accept_', 'abuse', 'Rain', 'Pos', 'Lee', 'Hoo', 'All', 'threa', 'soundtrack', 'realized_', 'ration', 'purpose_', 'notice_', 'member_', 'lovers', 'log', 'kni', 'inse', 'inde', 'impl', 'government_', 'door_', 'community', 'also', 'Zombie', 'WI', 'Sur', 'Stewart_', 'Roo', 'NA', 'Comm', 'Anna', 'wonderfully_', 'vac', 'tit', 'thus_', 'shadow', 'rg', 'resol', 'religious_', 'problems', 'nonsense', 'naked_', 'marvel', 'fantastic', 'em_', 'earth_', 'demand', 'cost', 'bes', 'band', 'background', 'Mas', 'Bon', 'African', ':<', 'thousand', 'realism', 'race_', 'ption', 'pred', 'neg', 'met', 'little', 'kn', 'flying_', 'ement', 'editing', 'abandon', 'Take', 'On', 'Mich', 'Gin', 'Fer', 'wide', 'victim_', 'spell', 'search_', 'rush', 'road_', 'rank', 'pping_', 'mpl', 'kil', 'incomp', 'humour_', 'group', 'ghost', 'ens', 'electr', 'edg', 'dru', 'culture', 'cars', 'Wil', 'UR', 'Haw', 'Give', 'Fat', 'Dou', 'Ant', 'AD', 'vs', 'tia', 'rei', 'regret', 'necessar', 'master_', 'mani', 'honestly_', 'hey', 'hadn', 'gant', 'fresh_', 'exce', 'document', 'direct_', 'dated_', 'afraid_', 'OU', 'Mid', 'Len', 'Good', 'Beat', 'yer', 'walk', 'ture_', 'train_', 'theor', 'stink', 'spit', 'rarely_', 'proper', 'intelligen', 'hed_', 'hair_', 'forgot', 'fascinating_', 'ere', 'deliver_', 'believable', 'awesome_', 'attend', 'actresses_', 'Up', 'Par', 'Bad_', 'zombie', 'ys_', 'wards', 'trash_', 'strip', 'spectacular', 'six_', 'silly', 'shed_', 'praise', 'loud_', 'inspir', 'insi', 'god', 'four', 'devi', 'Sir', 'Plan', 'PL', 'Everyone_', 'Dol', 'thinking', 'store', 'spo', 'rou', 'pou', 'opposite', 'dud', 'difference_', 'deli', 'compare_', 'cable', 'VER', 'Tim_', 'Ob', 'Jane', 'Jam', 'Don_', 'CI', 'yo', 'want', 'villains', 'toward_', 'taste_', 'support', 'stone', 'sted_', 'spect', 'satire', 'row_', 'rag', 'observ', 'nel_', 'motiv', 'moro', 'lust', 'lect', 'ively_', 'gli', 'gie', 'fet', 'eld', 'div', 'creating_', 'brain_', 'bird', 'attention', 'ates_', 'ald', 'Sher', 'Russ', 'Rea', 'Joan_', 'Gab', 'Coo', 'Bond', '40', 'trade', 'sive_', 'routine', 'plane_', 'photograph', 'ound', 'om_', 'nk_', 'mountain', 'mate', 'listen_', 'isa', 'imagina', 'gia', 'embarrassing', 'convince', 'building_', 'avoid', 'Wow', 'SA', 'Al_', 'vy_', 'unsu', 'tty_', 'situations_', 'sensi', 'results', 'recogni', 'quick', 'plan_', 'mod', 'masterpiece_', 'limit', 'lar', 'gorgeous_', 'fil', 'ensu', 'edly_', 'cor', 'context', 'bul', 'bottom_', 'began_', 'animation', 'anc', 'acc', 'Ty', 'Sc', 'London_', 'Lewis', '.\"<', 'weight', 'rubbish', 'rab', 'project_', 'powers', 'personalit', 'offer_', 'noir_', 'killed', 'justif', 'jun', 'information_', 'gem', 'ative_', 'PO', 'Jeff_', 'Gui', 'voca', 'tab', 'spot_', 'remind', 'proceed', 'kick_', 'ious', 'grab', 'enem', 'educat', 'claim', 'cks', 'charisma', 'bal', 'Scott', 'Over', 'Mus', 'Laure', 'Kan', 'Hunt', 'Dead_', 'Acti', '90_', '50_', ' ! ! ! ! ! ! ! ! ! !', 'ws_', 'vul', 'village', 'speed', 'skills', 'public', 'outl', 'naive', 'mos', 'latter_', 'ki_', 'iat', 'honest_', 'ga_', 'emotions_', 'detective_', 'citi', 'bits_', 'answer_', 'accomplish', 'Washington', 'Sm', 'Dal', 'CE', 'Bett', 'Af', '40_', 'sell', 'pret', 'pper', 'opera', 'notabl', 'involved', 'important', 'humorous', 'finale', 'dise', 'date_', 'contribut', 'complain', 'comedies_', 'battle', 'balance', 'Go_', 'Fla', 'Alon', '); ', 'wis', 'ups', 'spoke', 'pulled_', 'points', 'mediocre_', 'ker_', 'introduced_', 'independent_', 'hil', 'fits_', 'eating_', 'confused_', 'concerned', 'cing', 'ca_', 'bran', 'borat', 'bing_', 'ay_', 'abr', 'Russian_', 'Kevin_', 'H_', 'Fred_', 'Exce', 'English', 'Danny_', 'Dani', 'Coll', 'Alt', '100_', 'used', 'translat', 'shape', 'odi', 'manage_', 'loy', 'lik', 'ibi', 'eat_', 'behav', 'apparent_', 'admi', 'acr', 'ach', 'Young_', 'Run', 'Martin_', 'Mak', 'Hart', 'Asi', '25', '& ', 'trag', 'terror', 'tea', 'shallow', 'rob', 'rape', 'pond', 'ole', 'neck', 'nature', 'loving_', 'jerk', 'hours', 'hidden_', 'gar_', 'field', 'fel', 'existence', 'erotic', 'constant_', 'cau', 'bar_', 'VI', 'Univers', 'Sen', 'CK', '100', 'wealth', 'wave', 'understanding_', 'sole', 'ral', 'none', 'nasty_', 'mari', 'likable_', 'ith', 'intense_', 'hou', 'gh_', 'ely', 'dic', 'dea', 'clip', 'bow', 'UL', 'Nu', 'Moon', 'Ital', 'Ed_', 'Cle', '.......', 'yeah', 'tree', 'successful', 'ril', 'ract', 'philosoph', 'parents', 'marriage_', 'lte', 'ject', 'ite_', 'hun', 'fantas', 'fame', 'extra_', 'dreadful', 'details_', 'dad_', 'capture_', 'annoy', 'Other', '?!', 'tions', 'stalk', 'speak', 'revolution', 'redu', 'pretend', 'politic', 'places_', 'parody', 'park', 'onic', 'nowhere_', 'mono', 'mile', 'manipulat', 'loses_', 'lli', 'into', 'hid', 'ghost_', 'gha', 'engage', 'assum', 'ador', 'admire', 'X_', 'See_', 'Full', 'Eye', 'zy', 'ware', 'ven_', 'uncle', 'treated_', 'television', 'surreal', 'student_', 'rival', 'ride_', 'recall', 'nudity', 'locations', 'ility', 'hamm', 'gags', 'fill_', 'dealing_', 'co_', 'climax_', 'bon', 'atmosphere', 'aged_', 'Rock_', 'Kim', 'Had', 'Brid', 'Anton', 'zombies_', 'unfunny', 'techn', 'source', 'section', 'pris', 'priest', 'police', 'olo', 'nine', 'maker', 'limited_', 'ik', 'genius_', 'enjoyable', 'distan', 'desperate_', 'believe', 'asked_', 'appearance', 'Ring', 'Pete', 'Master', 'Kin', 'Harr', 'Earth', 'Dog', 'Brown', 'Bren', 'Add', 'web', 'tee', 'sucks', 'structure', 'regi', 'porn_', 'osi', 'llian', 'lett', 'length_', 'ior_', 'hal', 'faith', 'enta', 'deserve_', 'cartoon', 'bs_', 'ahead_', 'Got', 'Eu', 'Americans_', 'Alex', 'speaking_', 'smil', 'photographe', 'ope', 'mpe', 'minim', 'million', 'mental', 'magnificent', 'lur', 'lov', 'keeping_', 'iting', 'homo', 'haunt', 'fiction_', 'fee', 'exploit', 'entertain', 'dding', 'attracti', 'advice', 'Park', 'Fur', 'Cage', 'suc', 'songs', 'smart_', 'shock_', 'rif', 'repl', 'ranc', 'ran', 'photography_', 'patient', 'ladies', 'hated_', 'growing_', 'cheer', 'attractive_', 'ass_', 'approach', 'ants_', 'Mrs', 'Hay', 'Hank', 'Eli', 'EVER', 'Batman_', 'week', 'sword', 'rac', 'promot', 'portray', 'pictures_', 'lt_', 'ito', 'interna', 'forgive', 'device', 'corrupt', 'choreograph', 'chop', 'blame_', 'atch', 'VE_', 'KE', 'Johnny_', 'vity', 'ville', 'vas', 'uit', 'tional_', 'quote', 'quick_', 'producer_', 'personally_', 'parti', 'oa', 'nity', 'loo', 'ives', 'increas', 'ical', 'heads_', 'graphic', 'going', 'featuring_', 'defin', 'cute', 'criminal', 'cheat', 'cash', 'cann', 'bol', 'bec', 'Welles', 'SPOILERS', 'Power', 'Kell', 'Georg', 'Gene_', 'Blai', 'Again', '11', 'yell', 'vious', 'unusual_', 'tradition', 'summar', 'stunn', 'revealed', 'remo', 'psychi', 'provi', 'prepare', 'offer', 'insane', 'happens', 'efforts', 'delic', 'current_', 'construct', 'bil', 'aries', 'animals_', 'advance', 'Kong', 'Jan', 'Howard', 'Daw', 'Cru', ' !', 'terribly_', 'teache', 'tas', 'sudden', 'sleaz', 'sharp', 'ress_', 'rape_', 'ppi', 'numbers_', 'mouth', 'lower', 'ime', 'ifie', 'ideal', 'exception_', 'ema', 'charm_', 'breaking_', 'addition_', 'Walke', 'Lat', 'Jean_', 'Eddie_', 'City_', '.\"', 'warning', 'versions', 'tack', 'reli', 'ration_', 'prove_', 'plo', 'pile', 'performer', 'monk', 'intellectual', 'handle', 'ets', 'essor', 'ature', 'atri', 'ans_', 'Int', 'Fel', 'European_', 'Cus', 'As', 'wr', 'worst', 'witty', 'wild_', 'wedding', 'students_', 'sadly_', 'princip', 'paint', 'mmy', 'mixed_', 'kinda_', 'frequent', 'discover_', 'dal', 'command', 'colour', 'bou', 'bored', 'Wild', 'Ul', 'Really', 'Mitch', 'Cinema', 'Andy_', '16', 'visuals', 'varie', 'ut_', 'unfold', 'suspect', 'semi', 'responsible_', 'religion', 'rapi', 'py_', 'otic', 'numerous_', 'news', 'nces', 'kl', 'junk', 'joy', 'insult', 'festival', 'drop_', 'costumes_', 'been', 'bag', 'aware_', 'aver', 'Mir', 'Last_', 'Hon', 'Frie', 'Cent', 'wishe', 'vie', 'toy', 'repeat', 'pter', 'oppo', 'open', 'noticed_', 'murders_', 'ka_', 'harm', 'finish_', 'extreme_', 'eno', 'dying_', 'doo', 'ddle', 'clear', 'cat_', 'bru', 'addict', 'Smith', 'Rod', 'Rem', 'zzle', 'tory', 'starting_', 'specific', 'screaming', 'scenery_', 'psychological_', 'occur', 'obli', 'mn', 'lica', 'laughter', 'inso', 'grad', 'goof', 'gas', 'element', 'dom_', 'dism', 'deals_', 'ctor', 'camp_', 'audi', 'ator_', 'ack', 'Smith_', 'Sh', 'Kenne', 'Holl', 'Dean', 'xious', 'uncom', 'situation', 'shots', 'seem', 'rin', 'pain_', 'originally_', 'number', 'nightmare', 'mystery', 'ml', 'kiss', 'imag', 'iful', 'grew_', 'grade_', 'gge', 'event', 'eate', 'dramati', 'dad', 'condition', 'conce', 'comfort', 'chair', 'aur', 'YOU', 'Red', 'REAL', 'Norma', 'Kir', 'wash', 'upt', 'titi', 'returns_', 'retr', 'restr', 'require', 'relief', 'realise', 'rch', 'rang', 'ple_', 'lus', 'lip', 'intrigue', 'incident', 'iler', 'ha_', 'ground_', 'fores', 'exh', 'dancer', 'anger', 'Wr', 'They', 'Sinatra', 'SI', 'Op', 'Long', 'GI', 'Dem', 'yd', 'week_', 'treatment', 'treat', 'stan', 'slic', 'separate', 'screenplay', 'remarkable_', 'pped_', 'persona', 'mble', 'invi', 'innocen', 'hack', 'gru', 'gma', 'glass', 'forgotten_', 'fem', 'confi', 'clever', 'bone', 'amateur', 'Richard', 'Ray_', 'Please_', 'Kris', 'IM', 'Gordon', 'ED', 'Black', 'wen', 'very', 'ured', 'theater', 'stab', 'redi', 'perce', 'peace', 'passe', 'ops', 'oon', 'morning', 'llow', 'legend', 'irritating', 'hopes_', 'gross', 'genuinely_', 'ech', 'crus', 'bitter', 'acti', 'accura', 'Yu', 'Rome', 'Parker', 'Dia', 'studio', 'still', 'stereotypes', 'serv', 'sequences', 'sequence', 'pres', 'portray_', 'poet', 'opti', 'only', 'ins_', 'impact_', 'emotion_', 'ek_', 'earth', 'dou', 'dislike', 'Sti', 'Reg', 'Philip', 'Bil', 'Att', 'Ash', 'Adam_', 'viol', 'v_', 'uma', 'ultimate_', 'ught', 'trailer_', 'superior_', 'sucked', 'sno', 'service', 'ride', 'por', 'plan', 'mum', 'mme', 'merc', 'lonel', 'guide', 'fici', 'facts', 'evidence', 'doctor', 'discover', 'depend', 'degree', 'cruel', 'counter', 'color_', 'cess', 'cause', 'bro', 'ambitio', 'amaze', 'alternat', 'Wom', 'White_', 'John', 'Bud', 'wound', 'wander', 'typi', 'technology', 'swe', 'standing_', 'reuni', 'organi', 'ngly_', 'minu', 'leas', 'gift', 'executed', 'environment', 'diss', 'demonstrat', 'compani', 'allows_', 'Wayne', 'Kno', 'Instead', 'DA', 'Cart', 'Anthony_', 'unable_', 'uf', 'twin', 'tely', 'sympathetic', 'spoof', 'sis', 'saying', 'rh', 'repr', 'rave', 'promising', 'nch_', 'moo', 'ming', 'liz', 'lighting_', 'lesbian', 'large', 'izing_', 'impos', 'dor', 'disco', 'corny', 'arts_', 'Wars', 'Trac', 'Seve', 'Poli', 'PA', 'Moore', 'LL_', 'Jimmy_', 'Gary_', '?\"', 'zero', 'underw', 'tou', 'spen', 'sheer_', 'scared_', 'rever', 'relationships_', 'proved_', 'predict', 'pia', 'obsc', 'lum', 'learn', 'herself', 'gras', 'finished_', 'continues_', 'brave', 'aris', 'api', 'THIS_', 'Mille', 'Leg', 'First', 'Dis', 'Allen_', 'traditional_', 'statement', 'spir', 'soon', 'rence', 'ran_', 'pros', 'opi', 'mistake_', 'lawyer', 'discovers_', 'deepe', 'ction_', 'cares', 'brutal_', 'brutal', 'breaks_', 'antly', 'accent_', 'Killer', 'Can_', 'Broadway', 'unintentional', 'unbelievable_', 'tte_', 'suspect_', 'strike', 'sens', 'screw', 'rtu', 'pant', 'opens_', 'obsessi', 'mates', 'los', 'logic', 'kit', 'joy_', 'inte', 'iness_', 'han_', 'exact', 'entertained', 'ego', 'dreams_', 'convention', 'collecti', 'chest', 'bling_', 'authentic', 'Then', 'Much_', 'Mot', 'Bette', 'viewers', 'vampire_', 'teach', 'stylis', 'someone', 'sne', 'saved_', 'rule', 'regular_', 'practic', 'ppe', 'pion', 'notice', 'native', 'monsters', 'lo_', 'learned_', 'incon', 'hour', 'hood_', 'feeling', 'embe', 'driving_', 'convincing', 'cav', 'ber_', 'angle', 'absurd', 'Trek', 'Sat', 'Paris_', 'Mol', 'Max', 'Kh', 'Emma', 'Edward', 'Anyone_', '?? ', '17', ' \" ', 'wrap', 'unrealistic', 'tam', 'subtitle', 'spoilers', 'since', 'sexual', 'render', 'remake', 'rely', 'pop_', 'oge', 'oft', 'nett', 'monst', 'law_', 'ional', 'inclu', 'ich', 'ians_', 'hotel_', 'graphic_', 'gonna_', 'gent', 'flashbacks', 'families', 'erin', 'dropp', 'dir', 'bond', 'affair_', 'Scre', 'Dun', 'wide_', 'ttl', 'topic', 'symboli', 'switch', 'solve', 'send', 'rud', 'rem', 'reasons', 'reasonabl', 'pee', 'nar', 'location_', 'ining_', 'gam', 'disappointing_', 'desire_', 'criminal_', 'considera', 'century_', 'celebrat', 'brow', 'area', 'Thin', 'Rec', \"' (\", 'ward_', 'vision_', 'treme', 'surprising_', 'super_', 'risk', 'receive', 'qual', 'pic', 'mee', 'levels', 'kins', 'jack', 'ire_', 'introduc', 'hits_', 'happening_', 'handsome', 'gradua', 'giv', 'garbage', 'forces_', 'finest_', 'easi', 'depressing', 'credits', 'asto', 'Sadly', 'Ple', 'Inc', 'Dick_', 'Alexand', 'wooden_', 'wood_', 'stro', 'steal_', 'soul_', 'reference', 'race', 'quis', 'pir', 'perv', 'obvious', 'majority_', 'lean', 'kes_', 'insti', 'identity', 'everybody_', 'double_', 'dies', 'credit', 'const', 'confe', 'compar', 'centur', 'bloody_', 'Under', 'Twi', 'Sean_', 'Lio', 'Halloween', 'Gal', 'Clu', 'Came', 'Barbara_', '?)', '11_', 'ws', 'ulous', 'subtle', 'substance', 'string', 'shocking_', 'scientist_', 'rian', 'nou', 'multi', 'lf', 'inal', 'harsh', 'handed', 'fir', 'expectations_', 'excited', 'exceptional', 'eva', 'complete', 'comic', 'childhood_', 'ched_', 'adults_', 'Timo', 'Soo', 'Mos', 'Kath', 'Karl', 'Cinderella', 'Christian', 'Age', 'Adam', '!). ', 'zar', 'zan', 'trap', 'trai', 'thin_', 'site_', 'site', 'rich', 'resi', 'reach_', 'quirk', 'patr', 'ony', 'nerv', 'matche', 'inept', 'imagine', 'horri', 'front', 'ford_', 'epic_', 'dat', 'cynic', 'ckin', 'cie', 'caused_', 'brothers_', 'belo', 'appealing', 'West_', 'UK', 'TC', 'Suc', 'Rand', 'Grad', 'Domin', 'Disney', '12_', 'warr', 'vision', 'spoo', 'seeing', 'scenario', 'scale', 'rad', 'ola', 'next', 'necessary_', 'indicat', 'exploitation', 'ened_', 'directing', 'depict', 'curio', 'ciati', 'bullet', 'appre', 'amateurish', 'Yo', 'Watching_', 'Sky', 'Shar', 'Part_', 'Nichol', 'Mars', 'Are_', 'wel', 'visit_', 'unne', 'underrated', 'tedious', 'seconds_', 'rig', 'report', 'reme', 'rar', 'mond_', 'media_', 'lying_', 'las', 'language', 'ised_', 'instant', 'inspiration', 'creates_', 'conflict', 'compose', 'chan', 'cab', 'ava', 'always', 'Water', 'Steven_', 'Pas', 'Nick_', 'Let_', 'Down', 'yth', 'victims_', 'theaters', 'seasons', 'sai', 'rising', 'recr', 'plann', 'pent', 'painfully_', 'ot_', 'occu', 'nob', 'moti', 'lem', 'lati', 'gua', 'fights_', 'event_', 'elev', 'discovered_', 'cs', 'cliché_', 'cance', 'bik', 'bigger_', 'backs', 'atic', 'Shan', 'Sab', 'Poi', 'Hitchcock', 'GR', 'Francis', 'Det', 'Care', 'Anderson', 'veteran', 'ution_', 'theless', 'sports', 'slave', 'ses', 'revi', 'refreshing', 'quar', 'provok', 'premise', 'paper', 'nty', 'norm', 'mood', 'menac', 'loud', 'loose', 'letter', 'investigati', 'introduce', 'holes_', 'gan_', 'fund', 'ents_', 'drunk', 'disgusting', 'dio', 'confusing_', 'cky', 'baby', 'THE', 'Nancy', 'Kate_', 'Gia', 'Carol', 'Cand', \"'.\", 'western', 'unf', 'struc', 'strong', 'search', 'sav', 'ries_', 'resemble', 'rental', 'raci', 'producer', 'nic_', 'news_', 'memor', 'many', 'magical', 'format', 'equal', 'decl', 'curs', 'ction', 'convict', 'contrived', 'capable_', 'bringing_', 'boyfriend_', 'bli', 'anybody_', 'animal_', 'advertis', 'Music', 'Jun', 'Jones', 'Greg', 'Fra', 'Donald_', 'Dark', '1930', 'é_', 'yc', 'urne', 'tire', 'step', 'scr', 'reporter', 'position', 'okay', 'nted_', 'misse', 'logical', 'ient', 'identif', 'feet', 'fail_', 'creat', 'content_', 'contemp', 'concei', 'border', 'ask', 'actual', 'Way', 'Plus', 'Mill', 'Foo', 'Dy', 'Bec', ' ,', 'utter_', 'urban', 'struggle', 'sign_', 'sher', 'seduc', 'scientist', 'saw', 'released', 'received_', 'lity_', 'jump_', 'island_', 'ignor', 'ick', 'horrifi', 'hange', 'handled', 'endea', 'dil', 'ative', 'angry_', 'ages_', 'accus', 'Writ', 'Without_', 'Wall', 'Thank', 'Sla', 'Qua', 'Page', 'ND', 'Lost', 'Fish', 'Eric_', 'Does', 'Clau', 'Cel', 'Camp', 'Australian', 'Arn', 'Ann_', 'Ala', 'Actually', \".' \", \",' \", 'wall_', 'thoughts', 'somebody_', 'round', 'proud', 'oy', 'overly_', 'opera_', 'offensive', 'myth', 'murderer', 'mpt', 'ivi', 'ir_', 'iga', 'iar', 'holi', 'hearted_', 'gath', 'fictional', 'expectation', 'etta', 'enco', 'ence', 'deserved_', 'depiction', 'dece', 'comedian', 'bles', 'aside_', 'ambi', 'ake', 'Wonder', 'Why', 'Through', 'Overall_', 'Off', 'OI', 'More_', 'Jennifer_', 'Gill', 'Germany', 'Douglas_', 'Cy', 'CGI_', '\").', 'walks_', 'ury', 'three', 'thank_', 'surp', 'soph', 'sed', 'satisfying', 'rebel', 'pure', 'practically_', 'minds', 'manage', 'lp', 'learns_', 'isl', 'involves_', 'impro', 'impa', 'icon', 'hyp', 'fortune', 'erm', 'cuts_', 'copi', 'conclusion_', 'ced_', 'captured_', 'bble', 'arro', 'Wei', 'Sis', 'Pin', 'Marg', 'Life', 'Laur', 'Later', 'Hop', 'Eva', 'Blue', 'Barry', 'Baby', 'whilst_', 'unfa', 'twi', 'test_', 'ters', 'stric', 'streets', 'stom', 'spoil', 'relative', 'relate_', 'recommend', 'ology', 'middle', 'laughable', 'jea', 'genuine_', 'gat', 'frustrati', 'forth', 'excitement', 'costs', 'cord', 'compo', 'bright_', 'bank', 'aka', 'WE', 'Ten', 'THAT', 'Pur', 'Pitt', 'Mike_', 'Hum', 'Being_', 'veri', 'turi', 'tun', 'tel', 'task', 'sting', 'six', 'sentimental', 'quit', 'pleasure_', 'pity', 'personality_', 'motivation', 'moder', 'miserabl', 'mirror', 'manner_', 'logi', 'ein', 'eful', 'dubbed', 'discussi', 'ders', 'defeat', 'dangerous_', 'cry_', 'clos', 'cial_', 'chor', 'Wat', 'Wan', 'Spanish_', 'Have', 'Guy', 'Game', '. . ', 'winner', 'welcome', 'unexp', 'ture', 'tall', 'tal', 'stoo', 'smo', 'serious', 'rc', 'phi', 'outrage', 'oh', 'national_', 'mber_', 'mba', 'loser', 'lee', 'largely_', 'involve', 'ico', 'garbage_', 'found', 'even', 'distinct', 'design_', 'cure', 'consu', 'circumstances', 'calls_', 'blown_', 'attract', 'anime', 'Zi', 'Vietnam', 'Ryan', 'ON_', 'NY', 'Lady_', 'La_', 'Flor', 'Bern', 'AI', ' )', 'unk', 'unh', 'ugly_', 'tine', 'spre', 'simpli', 'significant', 'sequels', 'remembered_', 'reache', 'plat', 'obsessed_', 'ncy_', 'mysteri', 'mous', 'mbs', 'lover_', 'lights', 'lad', 'industr', 'ible', 'grown_', 'general', 'fru', 'explosion', 'exception', 'ese', 'endur', 'domina', 'dera', 'cies', 'built_', 'barr', 'Tod', 'Ran', 'Maria', 'Grand', 'Dee', 'Aw', ' />**', 'xo', 'voices', 'visually', 'ui', 'twice_', 'tend_', 'spor', 'solut', 'slap', 'scien', 'robbe', 'redibl', 'prot', 'prevent', 'ood', 'kee', 'issue_', 'ironic', 'iron', 'investigat', 'intr', 'hl', 'gus', 'food_', 'enl', 'dl', 'described_', 'complaint', 'careful', 'apartment_', 'alcohol', 'aid', 'acy', 'Year', 'Vis', 'Vir', 'Tow', 'Fly', 'Dream', 'Award', '*****', 'vague', 'strat', 'reviewers_', 'offend', 'locat', 'iu', 'ital', 'iev', 'hospital_', 'fou', 'financ', 'filmmaker_', 'farm', 'evening', 'essentially_', 'energy_', 'ef_', 'complex', 'competi', 'ching', 'bal_', 'ax', 'ances', 'acted', 'ace_', 'Story', 'LD', 'Inde', 'Hope', 'Duk', 'Dian', 'Bob', 'Back', 'Any_', 'About_', ' ...', 'yard', 'whenever_', 'wake', 'ures_', 'unse', 'trust_', 'treat_', 'teenager', 'stock_', 'rri', 'rise_', 'rant', 'pupp', 'pte', 'pes', 'overd', 'operati', 'occasional', 'nicely_', 'nical', 'liners', 'impo', 'holding_', 'engaging_', 'diver', 'distribut', 'dim', 'delightful_', 'crappy_', 'cook', 'connection_', 'cohe', 'bore', 'Vincen', 'Susan', 'Rep', 'Powell', 'Oliver', 'Neil', 'Murphy', 'Mic', 'Indi', 'Ele', 'Bru', 'Beaut', '. *', ' />*', 'zation', 'urge', 'urag', 'teenagers', 'seven_', 'river', 'prep', 'nail', 'mble_', 'matters', 'loose_', 'iva', 'issue', 'intriguing_', 'ili', 'god_', 'glimpse', 'ently', 'els_', 'een_', 'develop_', 'desire', 'cops_', 'contra', 'buil', 'broke', 'ater', 'asleep', 'adventur', 'Williams_', 'Wend', 'None_', 'Mod', 'House', 'Horror_', 'Anim', '192', 'ughter', 'trial', 'soap_', 'severe', 'road', 'poster', 'portraying_', 'phr', 'pathetic', 'overlook', 'moving', 'month', 'lau', 'lacking_', 'knowledge_', 'kidnapp', 'interpretation', 'industry_', 'hurt', 'heavi', 'genius', 'false', 'existent', 'execution', 'drop', 'difference', 'determine', 'detail_', 'dent', 'cutting', 'combin', 'comb', 'cket', 'chron', 'capital', 'bodies', 'bic', 'believes_', 'area_', 'angles', 'Ted', 'Sop', 'End', 'Dre', 'Dick', 'Ak', 'Africa', ' ? ', 'vol', 'system', 'steps', 'situations', 'sexuality', 'sets', 'ripp', 'revel', 'rel', 'realiz', 'private', 'paper_', 'notch', 'nge_', 'mistr', 'merit', 'mbl', 'match', 'losing_', 'lme', 'interacti', 'indeed', 'ifica', 'henc', 'heaven', 'fro', 'fon', 'femin', 'faces_', 'enh', 'driven_', 'dressed_', 'dne', 'decen', 'ctic', 'coming', 'club_', 'castle', 'captures_', 'building', 'atic_', 'athe', 'assassin', 'army_', 'alien_', 'abso', 'Tho', 'Scr', 'Prob', 'Para', 'Gor', 'Eg', 'Com', 'City', 'At', 'Apparently', ' / ', 'ule', 'ue_', 'tograph', 'thirt', 'thank', 'suit_', 'suffering_', 'sight_', 'sey', 'screenwriter', 'rell', 'ppet', 'passed_', 'pacing_', 'normally_', 'mill', 'lyn', 'ition', 'gers', 'football', 'faithful', 'expose', 'expos', 'emerge', 'ell_', 'depicted', 'crude', 'criticism', 'combination_', 'claim_', 'carr', 'bt', 'brilliantly_', 'boss', 'analy', 'ame', 'Ray', 'Pic', 'Lord_', 'Kill', 'Fea', 'Evil', 'Bos', 'BS', 'AB', '\" - ', ' :', 'tta', 'trailer', 'soli', 'rum', 'revolve', 'ressi', 'quiet_', 'portrays_', 'populat', 'plant', 'oin', 'occasionally_', 'nost', 'nau', 'mun', 'lb', 'ipat', 'hysteri', 'grow_', 'gag', 'fus', 'foot_', 'finger', 'figur', 'esp', 'equi', 'ener', 'dec', 'chain', 'broken_', 'agent', 'actions_', 'aa', 'Russell', 'Indian', 'Heav', 'Daniel_', 'Ast', ' /> ', 'zard', 'unlikely', 'ump', 'tele', 'teacher_', 'subplot', 'rub', 'rte', 'rly_', 'radio_', 'quir', 'pair_', 'ordinary_', 'oppos', 'nsi', 'mouth_', 'maintain', 'lve', 'loc', 'inventi', 'inexp', 'imitat', 'generate', 'gal_', 'frightening', 'frig', 'foreign_', 'filmmaker', 'excess', 'elle', 'creator', 'count_', 'controvers', 'cliche', 'casti', 'bet_', 'aking_', 'acqu', 'Three', 'Texas', 'Tarzan_', 'Earth_', 'Dan_', 'Besides', 'yw', 'woods_', 'wan', 'vest', 'uous', 'unit', 'therefore_', 'tears_', 'surface', 'steals_', 'sni', 'shut', 'roman', 'roll_', 'rele', 'reaction', 'qualities', 'proper_', 'profession', 'photo', 'months_', 'mem', 'makeup', 'longe', 'lam', 'ix', 'insist', 'inher', 'fying_', 'forgettable', 'faced', 'expens', 'enthusias', 'describ', 'cry', 'commentary_', 'collection_', 'civili', 'category', 'cam', 'believed', 'ancient_', 'Walter_', 'Sum', 'Sometimes', 'Sel', 'Lou', 'Kn', 'Joseph_', 'Gro', 'Fon', 'Columbo', 'system_', 'student', 'shocked', 'sell_', 'ridi', 'prior', 'primar', 'mon_', 'mmer', 'lish', 'higher_', 'fatal', 'employe', 'dirty', 'cris', 'conf', 'ckle', 'blend', 'bility_', 'baseball', 'awake', 'arr', 'ape', 'alive_', 'Wid', 'Santa_', 'Kei', 'Dep', 'Burn', 'Bob_', '´', 'warn', 'unknown_', 'twenty_', 'touches', 'supernatural', 'sitcom', 'saving_', 'rupt', 'relatively_', 'possibilit', 'nose', 'mes_', 'massive', 'male', 'ied', 'honor', 'heroes_', 'gig', 'gangs', 'divi', 'diat', 'consequen', 'classics', 'cases', 'bug', 'brief', 'bott', 'assume_', 'associate', 'assistan', 'arra', 'aria', 'absen', 'VHS_', 'Steve', 'Port', 'Paris', 'Old_', 'Morgan_', 'Horr', 'High_', 'General', 'Din', 'Dark_', 'Colo', 'Avoid_', 'zel', 'unnecessary_', 'unexpected_', 'tragedy_', 'tim', 'stle', 'stereo', 'stai', 'send_', 'recommended_', 'produce', 'pregnan', 'noon', 'move', 'ludicrous', 'lude', 'length', 'ident_', 'ide_', 'grue', 'focused', 'extraordinar', 'desperate', 'depress', 'dai', 'creature_', 'covered_', 'chief', 'boss_', 'asking_', 'Yeah', 'WW', 'Rid', 'Island', 'FA', 'Denn', 'Ch', 'Basically', 'Ang', 'Ami', '?! ', '): ', 'virtually_', 'underg', 'truck', 'training', 'tif', 'surf', 'rmin', 'reject', 'rante', 'plots_', 'placed_', 'ni_', 'mature', 'lousy_', 'justice_', 'io_', 'glori', 'gentle', 'fly_', 'explanation_', 'execut', 'exaggerat', 'events', 'elie', 'destructi', 'choose_', 'characteriz', 'char', 'cent_', 'books', 'bby', 'appreciated', 'allo', 'Neve', 'Nee', 'Jackson_', 'Irish', 'IN_', 'During_', 'Devil', 'Count', 'yes_', 'user', 'unpr', 'tual', 'treasure', 'stronge', 'sorr', 'ruined_', 'reputation', 'rently', 'related', 'quel', 'produce_', 'presum', 'politics', 'plans', 'painting', 'killers', 'initial_', 'impli', 'ify', 'hooke', 'funnie', 'fad', 'empty_', 'driver', 'di_', 'detect', 'designed', 'deserve', 'believ', 'awesome', 'accents', 'Your', 'Thank_', 'RE_', 'Pacino', 'Movies', 'Jay', 'IMDb', 'Hugh', 'Festival', 'Enter', 'Donn', 'Christi', 'Alm', 'Academy_', '000_', 'ycl', 'vivi', 'upset', 'ups_', 'unp', 'tiny', 'surprises', 'study_', 'strongly_', 'speaks', 'size', 'riv', 'relation', 'quee', 'py', 'never', 'mainstream', 'libera', 'latest', 'ising', 'insu', 'icia', 'hurt_', 'freedom', 'estl', 'emotionally_', 'dust', 'desc', 'convinced_', 'compell', 'cock', 'clothes_', 'cameo_', 'blind_', 'besides', 'attacke', 'Victor_', 'Return', 'Poo', 'Never_', 'Nel', 'Hey', 'Caine', 'Brando', 'ually_', 'tive', 'silen', 'rew', 'quate', 'preach', 'ological', 'nude', 'multiple', 'link', 'lge', 'ledge', 'laz', 'integr', 'hn', 'hie', 'folks_', 'experiences', 'emphasi', 'earlier', 'delivered_', 'deco', 'deaths', 'continuity', 'complicate', 'burne', 'boyfriend', 'awkward_', 'atrocious', 'amuse', 'ack_', 'Wilson', 'Turn', 'Robin_', 'Pr', 'Om', 'Mun', 'Meanwhile', 'Jessi', 'Jess', 'Jenn', 'Gand', 'Et', 'Canadian_', 'Brothers', 'Bake', 'Ah', '1990', 'wreck', 'unif', 'toi', 'teens', 'smart', 'shir', 'serves_', 'sati', 'rix', 'remain_', 'pub', 'propaganda', 'players_', 'plas', 'ping', 'overcom', 'orious', 'minde', 'meeting_', 'lph', 'loyal', 'lm', 'llin', 'lake', 'kar', 'istic', 'instru', 'included_', 'hire', 'graph', 'gory_', 'favour', 'elde', 'dum', 'destroy_', 'destin', 'denti', 'consistent', 'cameo', 'betr', 'arrest', 'appea', 'animal', 'amen', 'accidentally', 'acce', 'Silv', 'Saturday_', 'ST_', 'Res', 'MGM', 'Korea', 'Fam', 'Asian_', 'Alle', 'zu', 'weeks', 'ticke', 'terrifi', 'table_', 'storytell', 'stopped_', 'steal', 'slash', 'shoe', 'select', 'rocke', 'roa', 'record_', 'previously', 'participa', 'okay_', 'ogr', 'official', 'nke', 'mistakes', 'misca', 'memorabl', 'logue', 'itat', 'ists_', 'intelligence_', 'ien', 'greate', 'ggy', 'gangster_', 'critical', 'closer', 'cartoons', 'boot', 'accepta', 'abu', 'TER', 'States', 'Roberts', 'LER', 'Jones_', 'Hat', 'Eri', 'Eliza', 'Coop', 'wes', 'uninteresting', 'tense', 'teet', 'suffers_', 'stranger', 'station_', 'scu', 'resid', 'rand', 'popula', 'ours', 'opene', 'occurr', 'non_', 'nominated_', 'mol', 'missi', 'memory_', 'memories_', 'maid', 'intri', 'inju', 'inevitabl', 'humans_', 'hanging_', 'gratuitous_', 'gas_', 'forme', 'direct', 'difficult', 'department', 'damag', 'creatures', 'cif', 'Warner', 'Titan', 'Matt_', 'Larr', 'KI', 'Hor', 'Holm', 'Fair', 'Drew', 'Andr', '1960', 'wri', 'vely', 'uls', 'travel_', 'trat', 'transf', 'timi', 'suspen', 'struggling', 'spoil_', 'slaps', 'sink', 'reti', 'reaction_', 'quest_', 'pilot_', 'narration', 'invite', 'hearing_', 'gm', 'gai', 'full', 'frankly', 'fairy', 'expe', 'dimension', 'dent_', 'deme', 'contest', 'conscious', 'cked', 'below_', 'ations', 'angel', 'alive', 'absurd_', 'Wer', 'Tha', 'Stewar', 'Play', 'Picture', 'Part', 'Martin', 'Franc', 'Fir', 'Fas', 'Ev', 'Cos', 'Carre', 'Bog', 'BU', 'Anne_', 'yan', 'writ', 'vit', 'vai', 'summ', 'ston', 'stin', 'stif', 'sensitive', 'rules', 'provided_', 'prostitut', 'pretentious_', 'poignan', 'pai', 'paced_', 'offi', 'nds_', 'mig', 'laughable_', 'instal', 'inati', 'forget', 'eit', 'defend', 'conse', 'beaut', 'Spr', 'Rol', 'Our_', 'NOT', 'Lugosi', 'Luci', 'Las', 'Imp', 'Ic', 'Earl', 'Davis_', 'Cod', '!)', 'twiste', 'sincer', 'sacrifice', 'references_', 'range_', 'purchase', 'orn', 'noise', 'neo', 'mecha', 'lun', 'insult_', 'fully', 'flicks_', 'fair', 'endless_', 'eeri', 'devot', 'curious_', 'comical', 'beth_', 'begin', 'aura', 'ase_', 'ach_', 'Sullivan', 'St', 'Sarah', 'London', 'Liv', 'Kee', 'Jackie_', 'Hong', 'Emil', 'Clair', 'China', 'California', 'Atlant', 'Alice', '\"?', '!!!!!!', 'xico', 'wick', 'visi', 'viewed_', 'uish', 'tribu', 'theatrical_', 'talks_', 'smile_', 'seven', 'reminisce', 'relie', 'rci', 'rah', 'pleasant_', 'plague', 'picio', 'ounce', 'murdered_', 'mul', 'mous_', 'mock', 'mira', 'mete', 'loss_', 'initia', 'iest_', 'health', 'harde', 'gran', 'goal', 'ghe', 'fy', 'fix', 'experienced', 'edy', 'deci', 'conflict_', 'compe', 'committed', 'cele', 'brick', 'bour', 'bers', 'berate', 'artist_', 'anth', 'Woody_', 'WWI', 'V_', 'TT', 'Sunday', 'Story_', 'Rob_', 'Rachel', 'Nin', 'Gree', 'Friday', 'Dev', 'Bros', 'Brana', ' : ', 'wha', 'vig', 'views', 'unconvincing', 'smi', 'sibl', 'quen', 'pointless', 'perp', 'particular', 'overwhelm', 'offered', 'nominat', 'naturally', 'locke', 'left', 'lady', 'ilt', 'iel', 'ication', 'historic', 'haunting', 'gem_', 'figures', 'figured_', 'evol', 'ery', 'eco', 'dynami', 'duct', 'doi', 'description', 'cultural', 'contrac', 'confide', 'combined', 'coin', 'cke', 'chosen_', 'amed', 'agon', 'Thomas_', 'THI', 'Nation', 'MOVIE', 'Lev', 'Jeff', 'Hoffman', 'Glen', 'Even', '1st_', ' ! ', 'yu', 'trappe', 'thir', 'tension', 'tail', 'table', 'split', 'sides', 'settle', 'schem', 'save', 'ruc', 'prime', 'posit', 'painte', 'ndi', 'marry_', 'kun', 'killing', 'isol', 'iot', 'intend', 'impres', 'horribly_', 'hing', 'heroi', 'gle_', 'fri', 'fitt', 'fighter', 'estin', 'ee_', 'drunk_', 'directly', 'dinos', 'chose_', 'changing', 'blonde_', 'benefi', 'award_', 'av', 'aki', 'ages', 'acter', 'VERY_', 'Ur', 'Tel', 'Superman_', 'Real', 'Phi', 'Palm', 'Nicol', 'Johnson', 'Jesus_', 'J_', 'Hes', 'Helen', 'Fun', 'Fle', 'Dir', 'Chap', 'vag', 'uncon', 'ues', 'types_', 'tical', 'sprin', 'sorts', 'securi', 'previ', 'porno', 'party', 'pare', 'method', 'medica', 'mber', 'landscape', 'jor', 'jail', 'imper', 'hunter', 'happening', 'gritty', 'gain_', 'flaws_', 'fak', 'extra', 'edited_', 'ecc', 'dragg', 'chie', 'cant_', 'breast', 'authorit', 'ated', 'ality', 'advise', 'advan', 'according_', 'Wors', 'Unlike', 'United_', 'Simon_', 'Riv', 'Pea', 'Michell', 'Exp', 'Child', 'Cham', 'Bourne', 'Basi', 'widow', 'walked_', 'upp', 'unforg', 'uld_', 'tting', 'till_', 'thy_', 'talents_', 'suspenseful', 'summer_', 'storm', 'screening', 'scare_', 'realizes_', 'rce', 'raw', 'qu', 'ngl', 'magic', 'lac', 'jobs', 'ister_', 'inti', 'inha', 'ill_', 'hands', 'grin', 'forward', 'examin', 'equent', 'emi', 'contact', 'concentrat', 'compu', 'competen', 'biograph', 'attach', 'amus', 'alik', 'activi', 'William', 'Myst', 'Luke_', 'Live', 'Life_', '15', 'zes', 'werewolf', 'warne', 'uring_', 'trilogy', 'swim', 'stumble', 'spite', 'spends_', 'sleep_', 'sist', 'sentence', 'rma', 'reward', 'reviewer_', 'pul', 'preten', 'performed', 'passing', 'par_', 'oph', 'livi', 'kinds_', 'journal', 'isticat', 'inva', 'idi', 'ham_', 'fte', 'few', 'featured', 'ern_', 'eag', 'dollars', 'disb', 'depth', 'cryin', 'cross_', 'content', 'contemporary_', 'colors', 'chee', 'because', 'asy', 'agent_', 'Willi', 'Warr', 'Ven', 'Vamp', 'Roch', 'ONE', 'Movie', 'Mau', 'Mass', 'MST', 'Hin', 'Hear', 'Gue', 'Gl', 'Freddy_', 'Definite', 'Captain_', 'BBC', '??? ', '80s_', '\"), ', 'wol', 'weekend', 'vampires', 'underst', 'tial_', 'terrorist', 'strength_', 'starre', 'soldier_', 'snow', 'sity', 'ruin_', 'retar', 'resu', 'required', 'recommended', 'ques', 'propo', 'presents_', 'perm', 'overt', 'olds', 'occas', 'nn_', 'nen', 'nei', 'mail', 'lost', 'lion', 'libr', 'inner_', 'headed', 'happy', 'guest', 'govern', 'friendly', 'explains', 'ens_', 'effectively', 'draw_', 'downright', 'dete', 'dde', 'dare', 'cring', 'courag', 'conspi', 'comedie', 'claims_', 'cide', 'chas', 'captivat', 'bite', 'bare', 'author_', 'addition', 'Vid', 'Rh', 'Oliv', 'Nata', 'Mexican', 'Keaton_', 'Iron', 'Barb', 'ALL_', '12', '!), ', 'worthwhile', 'weake', 'ung', 'understood_', 'unbelievable', 'superf', 'stolen', 'stereotypic', 'spoiler', 'sight', 'scares', 'rut', 'remove', 'remotely_', 'releva', 'prese', 'poke', 'ndou', 'mbla', 'lucky_', 'lling_', 'legendary', 'imagery', 'humou', 'hug', 'hired', 'heck', 'guilty', 'extras', 'expected', 'everywhere', 'dry_', 'drea', 'directed', 'dimensional_', 'ddi', 'dden', 'communica', 'cham', 'buddy', 'bank_', 'azi', 'algi', 'adventures', 'accurate_', 'accompan', 'Thom', 'Still_', 'Someone', 'Serious', 'SU', 'Phill', 'Perso', 'Patrick_', 'Lei', 'Jus', 'Gho', 'Get_', 'Freeman', 'Especially_', '?).', '...\"']\n"
          ],
          "name": "stdout"
        }
      ]
    },
    {
      "cell_type": "code",
      "metadata": {
        "colab_type": "code",
        "id": "fPl2BXhYEHRP",
        "colab": {
          "base_uri": "https://localhost:8080/",
          "height": 52
        },
        "outputId": "dd0dba99-af38-40b3-e962-561c0f79a0de"
      },
      "source": [
        "sample_string = 'TensorFlow, from basics to mastery'\n",
        "\n",
        "tokenized_string = tokenizer.encode(sample_string)\n",
        "print ('Tokenized string is {}'.format(tokenized_string))\n",
        "\n",
        "original_string = tokenizer.decode(tokenized_string)\n",
        "print ('The original string: {}'.format(original_string))\n"
      ],
      "execution_count": 10,
      "outputs": [
        {
          "output_type": "stream",
          "text": [
            "Tokenized string is [6307, 2327, 4043, 2120, 2, 48, 4249, 4429, 7, 2652, 8050]\n",
            "The original string: TensorFlow, from basics to mastery\n"
          ],
          "name": "stdout"
        }
      ]
    },
    {
      "cell_type": "code",
      "metadata": {
        "colab_type": "code",
        "id": "_3t7vvNLEZml",
        "colab": {
          "base_uri": "https://localhost:8080/",
          "height": 208
        },
        "outputId": "22b258ad-3f4b-4fef-a23b-7772923a4211"
      },
      "source": [
        "for ts in tokenized_string:\n",
        "  print ('{} ----> {}'.format(ts, tokenizer.decode([ts])))"
      ],
      "execution_count": 15,
      "outputs": [
        {
          "output_type": "stream",
          "text": [
            "6307 ----> Ten\n",
            "2327 ----> sor\n",
            "4043 ----> Fl\n",
            "2120 ----> ow\n",
            "2 ----> , \n",
            "48 ----> from \n",
            "4249 ----> basi\n",
            "4429 ----> cs \n",
            "7 ----> to \n",
            "2652 ----> master\n",
            "8050 ----> y\n"
          ],
          "name": "stdout"
        }
      ]
    },
    {
      "cell_type": "code",
      "metadata": {
        "id": "GePGGq-AqcJg",
        "colab_type": "code",
        "colab": {}
      },
      "source": [
        "BUFFER_SIZE = 10000\n",
        "BATCH_SIZE = 64\n",
        "\n",
        "train_dataset = train_data.shuffle(BUFFER_SIZE)\n",
        "train_dataset = train_dataset.padded_batch(BATCH_SIZE, tf.compat.v1.data.get_output_shapes(train_dataset))\n",
        "test_dataset = test_data.padded_batch(BATCH_SIZE, tf.compat.v1.data.get_output_shapes(test_data))"
      ],
      "execution_count": 16,
      "outputs": []
    },
    {
      "cell_type": "code",
      "metadata": {
        "colab_type": "code",
        "id": "5NEpdhb8AxID",
        "colab": {
          "base_uri": "https://localhost:8080/",
          "height": 295
        },
        "outputId": "d6a6b559-d4b2-4c4c-88c3-d7d5fa9c0ce1"
      },
      "source": [
        "embedding_dim = 64\n",
        "model = tf.keras.Sequential([\n",
        "    tf.keras.layers.Embedding(tokenizer.vocab_size, embedding_dim),\n",
        "    tf.keras.layers.GlobalAveragePooling1D(),\n",
        "    tf.keras.layers.Dense(6, activation='relu'),\n",
        "    tf.keras.layers.Dense(1, activation='sigmoid')\n",
        "])\n",
        "\n",
        "model.summary()"
      ],
      "execution_count": 17,
      "outputs": [
        {
          "output_type": "stream",
          "text": [
            "Model: \"sequential\"\n",
            "_________________________________________________________________\n",
            "Layer (type)                 Output Shape              Param #   \n",
            "=================================================================\n",
            "embedding (Embedding)        (None, None, 64)          523840    \n",
            "_________________________________________________________________\n",
            "global_average_pooling1d (Gl (None, 64)                0         \n",
            "_________________________________________________________________\n",
            "dense (Dense)                (None, 6)                 390       \n",
            "_________________________________________________________________\n",
            "dense_1 (Dense)              (None, 1)                 7         \n",
            "=================================================================\n",
            "Total params: 524,237\n",
            "Trainable params: 524,237\n",
            "Non-trainable params: 0\n",
            "_________________________________________________________________\n"
          ],
          "name": "stdout"
        }
      ]
    },
    {
      "cell_type": "code",
      "metadata": {
        "colab_type": "code",
        "id": "fkt8c5dNuUlT",
        "colab": {
          "base_uri": "https://localhost:8080/",
          "height": 384
        },
        "outputId": "a74e1d08-c7f1-4f4e-9f26-afe8db1a89b8"
      },
      "source": [
        "num_epochs = 10\n",
        "\n",
        "model.compile(loss='binary_crossentropy',optimizer='adam',metrics=['accuracy'])\n",
        "\n",
        "history = model.fit(train_dataset, epochs=num_epochs, validation_data=test_dataset)"
      ],
      "execution_count": 19,
      "outputs": [
        {
          "output_type": "stream",
          "text": [
            "Epoch 1/10\n",
            "391/391 [==============================] - 16s 41ms/step - loss: 0.6751 - accuracy: 0.6128 - val_loss: 0.6203 - val_accuracy: 0.7656\n",
            "Epoch 2/10\n",
            "391/391 [==============================] - 15s 40ms/step - loss: 0.5097 - accuracy: 0.8033 - val_loss: 0.4348 - val_accuracy: 0.8448\n",
            "Epoch 3/10\n",
            "391/391 [==============================] - 16s 40ms/step - loss: 0.3600 - accuracy: 0.8736 - val_loss: 0.3538 - val_accuracy: 0.8674\n",
            "Epoch 4/10\n",
            "391/391 [==============================] - 16s 40ms/step - loss: 0.2931 - accuracy: 0.8945 - val_loss: 0.3381 - val_accuracy: 0.8624\n",
            "Epoch 5/10\n",
            "391/391 [==============================] - 16s 41ms/step - loss: 0.2544 - accuracy: 0.9074 - val_loss: 0.3114 - val_accuracy: 0.8796\n",
            "Epoch 6/10\n",
            "391/391 [==============================] - 16s 40ms/step - loss: 0.2285 - accuracy: 0.9195 - val_loss: 0.3102 - val_accuracy: 0.8763\n",
            "Epoch 7/10\n",
            "391/391 [==============================] - 16s 41ms/step - loss: 0.2100 - accuracy: 0.9245 - val_loss: 0.3052 - val_accuracy: 0.8807\n",
            "Epoch 8/10\n",
            "391/391 [==============================] - 16s 41ms/step - loss: 0.1948 - accuracy: 0.9302 - val_loss: 0.3118 - val_accuracy: 0.8810\n",
            "Epoch 9/10\n",
            "391/391 [==============================] - 16s 41ms/step - loss: 0.1793 - accuracy: 0.9366 - val_loss: 0.3111 - val_accuracy: 0.8812\n",
            "Epoch 10/10\n",
            "391/391 [==============================] - 16s 40ms/step - loss: 0.1706 - accuracy: 0.9390 - val_loss: 0.3173 - val_accuracy: 0.8802\n"
          ],
          "name": "stdout"
        }
      ]
    },
    {
      "cell_type": "code",
      "metadata": {
        "colab_type": "code",
        "id": "-_rMnm7WxQGT",
        "colab": {
          "base_uri": "https://localhost:8080/",
          "height": 546
        },
        "outputId": "d94c71ac-a1a1-454c-c8c8-c2af478930c2"
      },
      "source": [
        "import matplotlib.pyplot as plt\n",
        "\n",
        "\n",
        "def plot_graphs(history, string):\n",
        "  plt.plot(history.history[string])\n",
        "  plt.plot(history.history['val_'+string])\n",
        "  plt.xlabel(\"Epochs\")\n",
        "  plt.ylabel(string)\n",
        "  plt.legend([string, 'val_'+string])\n",
        "  plt.show()\n",
        "  \n",
        "plot_graphs(history, \"accuracy\")\n",
        "plot_graphs(history, \"loss\")"
      ],
      "execution_count": 20,
      "outputs": [
        {
          "output_type": "display_data",
          "data": {
            "image/png": "[encoded data removed]",
            "text/plain": [
              "<Figure size 432x288 with 1 Axes>"
            ]
          },
          "metadata": {
            "tags": [],
            "needs_background": "light"
          }
        },
        {
          "output_type": "display_data",
          "data": {
            "image/png": "[encoded data removed]",
            "text/plain": [
              "<Figure size 432x288 with 1 Axes>"
            ]
          },
          "metadata": {
            "tags": [],
            "needs_background": "light"
          }
        }
      ]
    },
    {
      "cell_type": "code",
      "metadata": {
        "colab_type": "code",
        "id": "qACq5FLzTW4A",
        "colab": {
          "base_uri": "https://localhost:8080/",
          "height": 35
        },
        "outputId": "a5d7d528-c122-4236-fee6-8622828bd59f"
      },
      "source": [
        "e = model.layers[0]\n",
        "weights = e.get_weights()[0]\n",
        "print(weights.shape) # shape: (vocab_size, embedding_dim)\n",
        "\n",
        "import io\n",
        "\n",
        "out_v = io.open('vecs.tsv', 'w', encoding='utf-8')\n",
        "out_m = io.open('meta.tsv', 'w', encoding='utf-8')\n",
        "for word_num in range(1, tokenizer.vocab_size):\n",
        "  word = tokenizer.decode([word_num])\n",
        "  embeddings = weights[word_num]\n",
        "  out_m.write(word + \"\\n\")\n",
        "  out_v.write('\\t'.join([str(x) for x in embeddings]) + \"\\n\")\n",
        "out_v.close()\n",
        "out_m.close()\n",
        "\n",
        "\n",
        "try:\n",
        "  from google.colab import files\n",
        "except ImportError:\n",
        "  pass\n",
        "else:\n",
        "  files.download('vecs.tsv')\n",
        "  files.download('meta.tsv')"
      ],
      "execution_count": 21,
      "outputs": [
        {
          "output_type": "stream",
          "text": [
            "(8185, 64)\n"
          ],
          "name": "stdout"
        },
        {
          "output_type": "display_data",
          "data": {
            "application/javascript": [
              "\n",
              "    async function download(id, filename, size) {\n",
              "      if (!google.colab.kernel.accessAllowed) {\n",
              "        return;\n",
              "      }\n",
              "      const div = document.createElement('div');\n",
              "      const label = document.createElement('label');\n",
              "      label.textContent = `Downloading \"${filename}\": `;\n",
              "      div.appendChild(label);\n",
              "      const progress = document.createElement('progress');\n",
              "      progress.max = size;\n",
              "      div.appendChild(progress);\n",
              "      document.body.appendChild(div);\n",
              "\n",
              "      const buffers = [];\n",
              "      let downloaded = 0;\n",
              "\n",
              "      const channel = await google.colab.kernel.comms.open(id);\n",
              "      // Send a message to notify the kernel that we're ready.\n",
              "      channel.send({})\n",
              "\n",
              "      for await (const message of channel.messages) {\n",
              "        // Send a message to notify the kernel that we're ready.\n",
              "        channel.send({})\n",
              "        if (message.buffers) {\n",
              "          for (const buffer of message.buffers) {\n",
              "            buffers.push(buffer);\n",
              "            downloaded += buffer.byteLength;\n",
              "            progress.value = downloaded;\n",
              "          }\n",
              "        }\n",
              "      }\n",
              "      const blob = new Blob(buffers, {type: 'application/binary'});\n",
              "      const a = document.createElement('a');\n",
              "      a.href = window.URL.createObjectURL(blob);\n",
              "      a.download = filename;\n",
              "      div.appendChild(a);\n",
              "      a.click();\n",
              "      div.remove();\n",
              "    }\n",
              "  "
            ],
            "text/plain": [
              "<IPython.core.display.Javascript object>"
            ]
          },
          "metadata": {
            "tags": []
          }
        },
        {
          "output_type": "display_data",
          "data": {
            "application/javascript": [
              "download(\"download_e27d876c-095b-4ce8-9754-e99bcab44aa5\", \"vecs.tsv\", 6049726)"
            ],
            "text/plain": [
              "<IPython.core.display.Javascript object>"
            ]
          },
          "metadata": {
            "tags": []
          }
        },
        {
          "output_type": "display_data",
          "data": {
            "application/javascript": [
              "\n",
              "    async function download(id, filename, size) {\n",
              "      if (!google.colab.kernel.accessAllowed) {\n",
              "        return;\n",
              "      }\n",
              "      const div = document.createElement('div');\n",
              "      const label = document.createElement('label');\n",
              "      label.textContent = `Downloading \"${filename}\": `;\n",
              "      div.appendChild(label);\n",
              "      const progress = document.createElement('progress');\n",
              "      progress.max = size;\n",
              "      div.appendChild(progress);\n",
              "      document.body.appendChild(div);\n",
              "\n",
              "      const buffers = [];\n",
              "      let downloaded = 0;\n",
              "\n",
              "      const channel = await google.colab.kernel.comms.open(id);\n",
              "      // Send a message to notify the kernel that we're ready.\n",
              "      channel.send({})\n",
              "\n",
              "      for await (const message of channel.messages) {\n",
              "        // Send a message to notify the kernel that we're ready.\n",
              "        channel.send({})\n",
              "        if (message.buffers) {\n",
              "          for (const buffer of message.buffers) {\n",
              "            buffers.push(buffer);\n",
              "            downloaded += buffer.byteLength;\n",
              "            progress.value = downloaded;\n",
              "          }\n",
              "        }\n",
              "      }\n",
              "      const blob = new Blob(buffers, {type: 'application/binary'});\n",
              "      const a = document.createElement('a');\n",
              "      a.href = window.URL.createObjectURL(blob);\n",
              "      a.download = filename;\n",
              "      div.appendChild(a);\n",
              "      a.click();\n",
              "      div.remove();\n",
              "    }\n",
              "  "
            ],
            "text/plain": [
              "<IPython.core.display.Javascript object>"
            ]
          },
          "metadata": {
            "tags": []
          }
        },
        {
          "output_type": "display_data",
          "data": {
            "application/javascript": [
              "download(\"download_7211e1fb-8c33-42e8-a2ae-f0d40b3826d0\", \"meta.tsv\", 48100)"
            ],
            "text/plain": [
              "<IPython.core.display.Javascript object>"
            ]
          },
          "metadata": {
            "tags": []
          }
        }
      ]
    }
  ]
}